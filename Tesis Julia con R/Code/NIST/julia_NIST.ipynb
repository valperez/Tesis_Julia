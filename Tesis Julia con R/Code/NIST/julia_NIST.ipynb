{
 "cells": [
  {
   "cell_type": "code",
   "execution_count": 1,
   "id": "700b0366",
   "metadata": {},
   "outputs": [],
   "source": [
    "using CSV, DataFrames, GLM, StatsModels, StatsBase, LinearAlgebra, Polynomials, BenchmarkTools"
   ]
  },
  {
   "cell_type": "code",
   "execution_count": 2,
   "id": "bb56c36d",
   "metadata": {},
   "outputs": [
    {
     "data": {
      "text/html": [
       "<div class=\"data-frame\"><p>11 rows × 2 columns</p><table class=\"data-frame\"><thead><tr><th></th><th>parametro</th><th>coeficiente</th></tr><tr><th></th><th title=\"String3\">String3</th><th title=\"Float64\">Float64</th></tr></thead><tbody><tr><th>1</th><td>B0</td><td>-1467.49</td></tr><tr><th>2</th><td>B1</td><td>-2772.18</td></tr><tr><th>3</th><td>B2</td><td>-2316.37</td></tr><tr><th>4</th><td>B3</td><td>-1127.97</td></tr><tr><th>5</th><td>B4</td><td>-354.478</td></tr><tr><th>6</th><td>B5</td><td>-75.1242</td></tr><tr><th>7</th><td>B6</td><td>-10.8753</td></tr><tr><th>8</th><td>B7</td><td>-1.06221</td></tr><tr><th>9</th><td>B8</td><td>-0.067</td></tr><tr><th>10</th><td>B9</td><td>-0.00247</td></tr><tr><th>11</th><td>B10</td><td>-4.03e-5</td></tr></tbody></table></div>"
      ],
      "text/latex": [
       "\\begin{tabular}{r|cc}\n",
       "\t& parametro & coeficiente\\\\\n",
       "\t\\hline\n",
       "\t& String3 & Float64\\\\\n",
       "\t\\hline\n",
       "\t1 & B0 & -1467.49 \\\\\n",
       "\t2 & B1 & -2772.18 \\\\\n",
       "\t3 & B2 & -2316.37 \\\\\n",
       "\t4 & B3 & -1127.97 \\\\\n",
       "\t5 & B4 & -354.478 \\\\\n",
       "\t6 & B5 & -75.1242 \\\\\n",
       "\t7 & B6 & -10.8753 \\\\\n",
       "\t8 & B7 & -1.06221 \\\\\n",
       "\t9 & B8 & -0.067 \\\\\n",
       "\t10 & B9 & -0.00247 \\\\\n",
       "\t11 & B10 & -4.03e-5 \\\\\n",
       "\\end{tabular}\n"
      ],
      "text/plain": [
       "\u001b[1m11×2 DataFrame\u001b[0m\n",
       "\u001b[1m Row \u001b[0m│\u001b[1m parametro \u001b[0m\u001b[1m coeficiente \u001b[0m\n",
       "\u001b[1m     \u001b[0m│\u001b[90m String3   \u001b[0m\u001b[90m Float64     \u001b[0m\n",
       "─────┼────────────────────────\n",
       "   1 │ B0         -1467.49\n",
       "   2 │ B1         -2772.18\n",
       "   3 │ B2         -2316.37\n",
       "   4 │ B3         -1127.97\n",
       "   5 │ B4          -354.478\n",
       "   6 │ B5           -75.1242\n",
       "   7 │ B6           -10.8753\n",
       "   8 │ B7            -1.06221\n",
       "   9 │ B8            -0.067\n",
       "  10 │ B9            -0.00247\n",
       "  11 │ B10           -4.03e-5"
      ]
     },
     "execution_count": 2,
     "metadata": {},
     "output_type": "execute_result"
    }
   ],
   "source": [
    "filip = CSV.read(\"filip_data.csv\", DataFrame)\n",
    "\n",
    "x = filip.x\n",
    "y = filip.y\n",
    "k = 10\n",
    "n = length(x)\n",
    "\n",
    "coef_filip = CSV.read(\"coeficientes_filip.csv\", DataFrame)"
   ]
  },
  {
   "cell_type": "code",
   "execution_count": 3,
   "id": "de01e611",
   "metadata": {},
   "outputs": [],
   "source": [
    "#Esto viene en la documentación de StatsModels en https://juliastats.org/StatsModels.jl/stable/internals/\n",
    "# en la sección de Extending @formula syntax\n",
    "\n",
    "# syntax: best practice to define a _new_ function\n",
    "poly(x, n) = x^n\n",
    "\n",
    "# type of model where syntax applies: here this applies to any model type\n",
    "const POLY_CONTEXT = Any\n",
    "\n",
    "# struct for behavior\n",
    "struct PolyTerm{T,D} <: AbstractTerm\n",
    "    term::T\n",
    "    deg::D\n",
    "end\n",
    "\n",
    "Base.show(io::IO, p::PolyTerm) = print(io, \"poly($(p.term), $(p.deg))\")\n",
    "\n",
    "# for `poly` use at run-time (outside @formula), return a schema-less PolyTerm\n",
    "poly(t::Symbol, d::Int) = PolyTerm(term(t), term(d))\n",
    "\n",
    "# for `poly` use inside @formula: create a schemaless PolyTerm and apply_schema\n",
    "function StatsModels.apply_schema(t::FunctionTerm{typeof(poly)},\n",
    "                                  sch::StatsModels.Schema,\n",
    "                                  Mod::Type{<:POLY_CONTEXT})\n",
    "    apply_schema(PolyTerm(t.args_parsed...), sch, Mod)\n",
    "end\n",
    "\n",
    "# apply_schema to internal Terms and check for proper types\n",
    "function StatsModels.apply_schema(t::PolyTerm,\n",
    "                                  sch::StatsModels.Schema,\n",
    "                                  Mod::Type{<:POLY_CONTEXT})\n",
    "    term = apply_schema(t.term, sch, Mod)\n",
    "    isa(term, ContinuousTerm) ||\n",
    "        throw(ArgumentError(\"PolyTerm only works with continuous terms (got $term)\"))\n",
    "    isa(t.deg, ConstantTerm) ||\n",
    "        throw(ArgumentError(\"PolyTerm degree must be a number (got $t.deg)\"))\n",
    "    PolyTerm(term, t.deg.n)\n",
    "end\n",
    "\n",
    "function StatsModels.modelcols(p::PolyTerm, d::NamedTuple)\n",
    "    col = modelcols(p.term, d)\n",
    "    reduce(hcat, [col.^n for n in 1:p.deg])\n",
    "end\n",
    "\n",
    "# the basic terms contained within a PolyTerm (for schema extraction)\n",
    "StatsModels.terms(p::PolyTerm) = terms(p.term)\n",
    "# names variables from the data that a PolyTerm relies on\n",
    "StatsModels.termvars(p::PolyTerm) = StatsModels.termvars(p.term)\n",
    "# number of columns in the matrix this term produces\n",
    "StatsModels.width(p::PolyTerm) = p.deg\n",
    "\n",
    "StatsBase.coefnames(p::PolyTerm) = coefnames(p.term) .* \"^\" .* string.(1:p.deg)\n",
    "\n",
    "# output"
   ]
  },
  {
   "cell_type": "code",
   "execution_count": 73,
   "id": "9aa0f7fa",
   "metadata": {},
   "outputs": [
    {
     "data": {
      "text/plain": [
       "generar_X (generic function with 1 method)"
      ]
     },
     "execution_count": 73,
     "metadata": {},
     "output_type": "execute_result"
    }
   ],
   "source": [
    "# Función para generar la matriz X que necesitamos para todos los métodos\n",
    "\n",
    "function generar_X(k) # k es numero de regresores\n",
    "    # Primero vamos a construir la matriz X \n",
    "    n = size(filip, 1) #numero de renglones\n",
    "    \n",
    "    X = Array{Float64}(undef, n, k + 1)\n",
    "    X[:, 1] = ones(n)\n",
    "\n",
    "    for i = 1:k\n",
    "        X[:, i + 1] = x.^i\n",
    "    end\n",
    "    return X\n",
    "end\n",
    "precompile(generar_X, (Int64,))"
   ]
  },
  {
   "cell_type": "code",
   "execution_count": 74,
   "id": "5d5389b9",
   "metadata": {},
   "outputs": [
    {
     "data": {
      "text/plain": [
       "generacion_resultados (generic function with 1 method)"
      ]
     },
     "execution_count": 74,
     "metadata": {},
     "output_type": "execute_result"
    }
   ],
   "source": [
    "# Funcion para generar los valores de beta con todos los métodos que encontré \n",
    "\n",
    "function generacion_resultados(k)\n",
    "    \n",
    "    X = generar_X(k)\n",
    "\n",
    "    ### Polinomial\n",
    "    x_pol = Polynomials.fit(x, y, k)\n",
    "\n",
    "    ### Con QR Pivoted\n",
    "    F = qr(X, Val(true))\n",
    "    Q = F.Q\n",
    "    P = F.P\n",
    "    R = F.R\n",
    "    \n",
    "    ### Método de Mike\n",
    "    # 1. Resolver QRz = y\n",
    "    z = Q*R \\ y\n",
    "    # 2. Resuelvo beta = Pz\n",
    "    x_QR = P*z\n",
    "\n",
    "    ### Inversa de Moore Penrose\n",
    "    N = pinv(X)\n",
    "    x_MP = N*y \n",
    "    \n",
    "    return x_pol, x_QR, x_MP\n",
    "end\n",
    "precompile(generacion_resultados, (Int64, ))"
   ]
  },
  {
   "cell_type": "code",
   "execution_count": 89,
   "id": "18c8e8d7",
   "metadata": {},
   "outputs": [
    {
     "data": {
      "text/plain": [
       "inv_MP (generic function with 1 method)"
      ]
     },
     "execution_count": 89,
     "metadata": {},
     "output_type": "execute_result"
    }
   ],
   "source": [
    "function polynomial(k)\n",
    "    ### Polinomial\n",
    "    x_pol = Polynomials.fit(x, y, k)\n",
    "    return x_pol\n",
    "end\n",
    "precompile(polynomial, (Int64, ))\n",
    "\n",
    "\n",
    "function qr_pivoted(k)\n",
    "    ### Con QR Pivoted\n",
    "    F = qr(X, Val(true))\n",
    "    Q = F.Q\n",
    "    P = F.P\n",
    "    R = F.R\n",
    "    \n",
    "    ### Método de Mike\n",
    "    # 1. Resolver QRz = y\n",
    "    z = Q*R \\ y\n",
    "    # 2. Resuelvo beta = Pz\n",
    "    x_QR = P*z\n",
    "    \n",
    "    return x_QR\n",
    "end\n",
    "precompile(qr_pivoted, (Int64, ))\n",
    "\n",
    "\n",
    "function inv_MP(k)\n",
    "    N = pinv(X)\n",
    "    x_MP = N*y \n",
    "    return x_MP\n",
    "end\n",
    "precompile(inv_MP, (Int64,))\n",
    "\n"
   ]
  },
  {
   "cell_type": "code",
   "execution_count": null,
   "id": "5917a6a8",
   "metadata": {},
   "outputs": [],
   "source": [
    "runs = [1:6;]\n",
    "i = 1 "
   ]
  },
  {
   "cell_type": "code",
   "execution_count": 116,
   "id": "f1e33869",
   "metadata": {},
   "outputs": [
    {
     "data": {
      "text/plain": [
       "df_tiempos (generic function with 2 methods)"
      ]
     },
     "execution_count": 116,
     "metadata": {},
     "output_type": "execute_result"
    }
   ],
   "source": [
    "# Para guardar los coeficientes\n",
    "function df_resultados(x_pol, x_QR, x_MP, x_fit)\n",
    "    \n",
    "    # Vamos a crear un data frame con los resultados\n",
    "    degree_df = DataFrame(PolFit = coeffs(x_pol.value), \n",
    "                     QRPivot = x_QR.value,\n",
    "                     MoorePenrose = x_MP.value, \n",
    "                    LinearFit = coef(x_fit.value))\n",
    "    CSV.write(\"resultados_grado_\"*string(k)*\".csv\", degree_df)\n",
    "end\n",
    "\n",
    "# Para guardar los tiempos\n",
    "function df_tiempos(x_pol, x_QR, x_MP, x_fit)\n",
    "    \n",
    "    # Vamos a crear un data frame con los resultados\n",
    "    tiempos_df = DataFrame(PolFit = x_pol.time, \n",
    "                     QRPivot = x_QR.time,\n",
    "                     MoorePenrose = x_MP.time, \n",
    "                     LinearFit = x_fit.time)\n",
    "    CSV.write(\"tiempos_grado_\"*string(k)*\".csv\", tiempos_df)\n",
    "end\n"
   ]
  },
  {
   "cell_type": "code",
   "execution_count": 119,
   "id": "747c100a",
   "metadata": {},
   "outputs": [
    {
     "data": {
      "text/plain": [
       "\"tiempos_grado_1.csv\""
      ]
     },
     "execution_count": 119,
     "metadata": {},
     "output_type": "execute_result"
    }
   ],
   "source": [
    "k = 1\n",
    "X = generar_X(k)\n",
    "\n",
    "x_pol = @timed polynomial(k)\n",
    "x_QR = @timed qr_pivoted(k)\n",
    "x_MP = @timed inv_MP(k)\n",
    "\n",
    "### Con fit que no lo pude hacer dentro de la funcion \n",
    "x_fit = @timed lm(@formula(y ~ 1 + poly(x, 1)), filip)\n",
    "\n",
    "df_resultados(x_pol, x_QR, x_MP, x_fit)\n",
    "df_tiempos(x_pol, x_QR, x_MP, x_fit)"
   ]
  },
  {
   "cell_type": "code",
   "execution_count": 120,
   "id": "5794adc9",
   "metadata": {},
   "outputs": [
    {
     "data": {
      "text/plain": [
       "\"tiempos_grado_2.csv\""
      ]
     },
     "execution_count": 120,
     "metadata": {},
     "output_type": "execute_result"
    }
   ],
   "source": [
    "k = 2\n",
    "X = generar_X(k)\n",
    "\n",
    "x_pol = @timed polynomial(k)\n",
    "x_QR = @timed qr_pivoted(k)\n",
    "x_MP = @timed inv_MP(k)\n",
    "\n",
    "### Con fit que no lo pude hacer dentro de la funcion \n",
    "x_fit = @timed lm(@formula(y ~ 1 + poly(x, 2)), filip)\n",
    "\n",
    "df_resultados(x_pol, x_QR, x_MP, x_fit)\n",
    "df_tiempos(x_pol, x_QR, x_MP, x_fit)\n"
   ]
  },
  {
   "cell_type": "code",
   "execution_count": 121,
   "id": "e421ca09",
   "metadata": {},
   "outputs": [
    {
     "data": {
      "text/plain": [
       "\"tiempos_grado_3.csv\""
      ]
     },
     "execution_count": 121,
     "metadata": {},
     "output_type": "execute_result"
    }
   ],
   "source": [
    "k = 3\n",
    "X = generar_X(k)\n",
    "\n",
    "x_pol = @timed polynomial(k)\n",
    "x_QR = @timed qr_pivoted(k)\n",
    "x_MP = @timed inv_MP(k)\n",
    "\n",
    "### Con fit que no lo pude hacer dentro de la funcion \n",
    "x_fit = @timed lm(@formula(y ~ 1 + poly(x, 3)), filip)\n",
    "\n",
    "df_resultados(x_pol, x_QR, x_MP, x_fit)\n",
    "df_tiempos(x_pol, x_QR, x_MP, x_fit)"
   ]
  },
  {
   "cell_type": "code",
   "execution_count": 122,
   "id": "8717b717",
   "metadata": {
    "scrolled": true
   },
   "outputs": [
    {
     "data": {
      "text/plain": [
       "\"tiempos_grado_4.csv\""
      ]
     },
     "execution_count": 122,
     "metadata": {},
     "output_type": "execute_result"
    }
   ],
   "source": [
    "k = 4\n",
    "X = generar_X(k)\n",
    "\n",
    "x_pol = @timed polynomial(k)\n",
    "x_QR = @timed qr_pivoted(k)\n",
    "x_MP = @timed inv_MP(k)\n",
    "\n",
    "### Con fit que no lo pude hacer dentro de la funcion \n",
    "x_fit = @timed lm(@formula(y ~ 1 + poly(x, 4)), filip)\n",
    "\n",
    "df_resultados(x_pol, x_QR, x_MP, x_fit)\n",
    "df_tiempos(x_pol, x_QR, x_MP, x_fit)"
   ]
  },
  {
   "cell_type": "code",
   "execution_count": 123,
   "id": "717b8f3d",
   "metadata": {},
   "outputs": [
    {
     "data": {
      "text/plain": [
       "\"tiempos_grado_5.csv\""
      ]
     },
     "execution_count": 123,
     "metadata": {},
     "output_type": "execute_result"
    }
   ],
   "source": [
    "k = 5\n",
    "X = generar_X(k)\n",
    "\n",
    "x_pol = @timed polynomial(k)\n",
    "x_QR = @timed qr_pivoted(k)\n",
    "x_MP = @timed inv_MP(k)\n",
    "\n",
    "### Con fit que no lo pude hacer dentro de la funcion \n",
    "x_fit = @timed lm(@formula(y ~ 1 + poly(x, 5)), filip)\n",
    "\n",
    "df_resultados(x_pol, x_QR, x_MP, x_fit)\n",
    "df_tiempos(x_pol, x_QR, x_MP, x_fit)"
   ]
  },
  {
   "cell_type": "code",
   "execution_count": 124,
   "id": "8e072352",
   "metadata": {
    "scrolled": true
   },
   "outputs": [
    {
     "data": {
      "text/plain": [
       "\"tiempos_grado_6.csv\""
      ]
     },
     "execution_count": 124,
     "metadata": {},
     "output_type": "execute_result"
    }
   ],
   "source": [
    "k = 6\n",
    "X = generar_X(k)\n",
    "\n",
    "x_pol = @timed polynomial(k)\n",
    "x_QR = @timed qr_pivoted(k)\n",
    "x_MP = @timed inv_MP(k)\n",
    "\n",
    "### Con fit que no lo pude hacer dentro de la funcion \n",
    "x_fit = @timed lm(@formula(y ~ 1 + poly(x, 6)), filip)\n",
    "\n",
    "df_resultados(x_pol, x_QR, x_MP, x_fit)\n",
    "df_tiempos(x_pol, x_QR, x_MP, x_fit)"
   ]
  },
  {
   "cell_type": "code",
   "execution_count": 125,
   "id": "9243a85f",
   "metadata": {},
   "outputs": [
    {
     "data": {
      "text/plain": [
       "\"tiempos_grado_7.csv\""
      ]
     },
     "execution_count": 125,
     "metadata": {},
     "output_type": "execute_result"
    }
   ],
   "source": [
    "k = 7\n",
    "X = generar_X(k)\n",
    "\n",
    "x_pol = @timed polynomial(k)\n",
    "x_QR = @timed qr_pivoted(k)\n",
    "x_MP = @timed inv_MP(k)\n",
    "\n",
    "### Con fit que no lo pude hacer dentro de la funcion \n",
    "x_fit = @timed lm(@formula(y ~ 1 + poly(x, 7)), filip)\n",
    "\n",
    "df_resultados(x_pol, x_QR, x_MP, x_fit)\n",
    "df_tiempos(x_pol, x_QR, x_MP, x_fit)"
   ]
  },
  {
   "cell_type": "code",
   "execution_count": 126,
   "id": "f3b9a159",
   "metadata": {},
   "outputs": [
    {
     "data": {
      "text/plain": [
       "\"tiempos_grado_8.csv\""
      ]
     },
     "execution_count": 126,
     "metadata": {},
     "output_type": "execute_result"
    }
   ],
   "source": [
    "k = 8\n",
    "X = generar_X(k)\n",
    "\n",
    "x_pol = @timed polynomial(k)\n",
    "x_QR = @timed qr_pivoted(k)\n",
    "x_MP = @timed inv_MP(k)\n",
    "\n",
    "### Con fit que no lo pude hacer dentro de la funcion \n",
    "x_fit = @timed lm(@formula(y ~ 1 + poly(x, 8)), filip)\n",
    "\n",
    "df_resultados(x_pol, x_QR, x_MP, x_fit)\n",
    "df_tiempos(x_pol, x_QR, x_MP, x_fit)"
   ]
  },
  {
   "cell_type": "code",
   "execution_count": 127,
   "id": "ad1ac4cd",
   "metadata": {},
   "outputs": [
    {
     "data": {
      "text/plain": [
       "\"tiempos_grado_9.csv\""
      ]
     },
     "execution_count": 127,
     "metadata": {},
     "output_type": "execute_result"
    }
   ],
   "source": [
    "k = 9\n",
    "X = generar_X(k)\n",
    "\n",
    "x_pol = @timed polynomial(k)\n",
    "x_QR = @timed qr_pivoted(k)\n",
    "x_MP = @timed inv_MP(k)\n",
    "\n",
    "### Con fit que no lo pude hacer dentro de la funcion \n",
    "x_fit = @timed lm(@formula(y ~ 1 + poly(x, 9)), filip)\n",
    "\n",
    "df_resultados(x_pol, x_QR, x_MP, x_fit)\n",
    "df_tiempos(x_pol, x_QR, x_MP, x_fit)"
   ]
  },
  {
   "cell_type": "code",
   "execution_count": 128,
   "id": "c83230bf",
   "metadata": {},
   "outputs": [
    {
     "data": {
      "text/plain": [
       "\"tiempos_grado_10.csv\""
      ]
     },
     "execution_count": 128,
     "metadata": {},
     "output_type": "execute_result"
    }
   ],
   "source": [
    "k = 10\n",
    "X = generar_X(k)\n",
    "\n",
    "x_pol = @timed polynomial(k)\n",
    "x_QR = @timed qr_pivoted(k)\n",
    "x_MP = @timed inv_MP(k)\n",
    "\n",
    "### Con fit que no lo pude hacer dentro de la funcion \n",
    "x_fit = @timed lm(@formula(y ~ 1 + poly(x, 10)), filip)\n",
    "\n",
    "df_resultados(x_pol, x_QR, x_MP, x_fit)\n",
    "df_tiempos(x_pol, x_QR, x_MP, x_fit)"
   ]
  },
  {
   "cell_type": "code",
   "execution_count": 12,
   "id": "a21160f8",
   "metadata": {},
   "outputs": [
    {
     "data": {
      "text/plain": [
       "82×11 Matrix{Float64}:\n",
       " 1.0  -6.86012  47.0613  -322.846   2214.76   …      -3.36501e7  2.30844e8\n",
       " 1.0  -4.32413  18.6981   -80.853    349.619         -5.28553e5  2.28553e6\n",
       " 1.0  -4.35863  18.9976   -82.8035   360.909         -5.67735e5  2.47454e6\n",
       " 1.0  -4.35843  18.9959   -82.7922   360.844         -5.67502e5  2.47342e6\n",
       " 1.0  -6.95585  48.3839  -336.551   2341.0           -3.812e7    2.65157e8\n",
       " 1.0  -6.66115  44.3709  -295.561   1968.77   …      -2.5819e7   1.71984e8\n",
       " 1.0  -6.35546  40.3919  -256.709   1631.51          -1.69171e7  1.07516e8\n",
       " 1.0  -6.1181   37.4312  -229.008   1401.09          -1.20102e7  7.34797e7\n",
       " 1.0  -7.11515  50.6253  -360.207   2562.92          -4.67364e7  3.32537e8\n",
       " 1.0  -6.81531  46.4484  -316.56    2157.46          -3.17227e7  2.162e8\n",
       " 1.0  -6.51999  42.5103  -277.167   1807.13   …      -2.12924e7  1.38826e8\n",
       " 1.0  -6.20412  38.4911  -238.803   1481.57          -1.36183e7  8.44893e7\n",
       " 1.0  -5.85387  34.2678  -200.599   1174.28          -8.07215e6  4.72533e7\n",
       " ⋮                                            ⋱                  ⋮\n",
       " 1.0  -6.69186  44.781   -299.668   2005.34   …      -2.69106e7  1.80082e8\n",
       " 1.0  -6.39254  40.8646  -261.229   1669.92          -1.78264e7  1.13956e8\n",
       " 1.0  -6.06737  36.813   -223.358   1355.2           -1.11431e7  6.76095e7\n",
       " 1.0  -6.68403  44.6763  -298.617   1995.97          -2.66284e7  1.77985e8\n",
       " 1.0  -6.37872  40.6881  -259.538   1655.52          -1.74824e7  1.11516e8\n",
       " 1.0  -6.06586  36.7946  -223.191   1353.84   …      -1.1118e7   6.74404e7\n",
       " 1.0  -5.75227  33.0886  -190.335   1094.86          -6.89533e6  3.96638e7\n",
       " 1.0  -5.13241  26.3417  -135.196    693.884         -2.47113e6  1.26829e7\n",
       " 1.0  -4.81135  23.1491  -111.379    535.882         -1.38167e6  6.64771e6\n",
       " 1.0  -4.09827  16.7958   -68.8338   282.099         -3.2614e5   1.33661e6\n",
       " 1.0  -3.66174  13.4084   -49.098    179.784  …      -1.18356e5  4.33389e5\n",
       " 1.0  -3.2644   10.6563   -34.7865   113.557     -42095.1        1.37415e5"
      ]
     },
     "execution_count": 12,
     "metadata": {},
     "output_type": "execute_result"
    }
   ],
   "source": [
    "X_10 = generar_X(10)"
   ]
  },
  {
   "cell_type": "code",
   "execution_count": 13,
   "id": "8b3fba56",
   "metadata": {},
   "outputs": [
    {
     "data": {
      "text/plain": [
       "11-element Vector{Float64}:\n",
       "      7.196911804503488e9\n",
       "      4.401508610396736e7\n",
       " 654533.9743164508\n",
       "  15214.614835538712\n",
       "    631.1972849011818\n",
       "     32.166098045243196\n",
       "      1.9022357713333182\n",
       "      0.10394054615153829\n",
       "      0.004981350609655981\n",
       "      0.0001755632213724922\n",
       "      4.0707222722316145e-6"
      ]
     },
     "execution_count": 13,
     "metadata": {},
     "output_type": "execute_result"
    }
   ],
   "source": [
    "sing_values = svd(X_10).S"
   ]
  },
  {
   "cell_type": "code",
   "execution_count": 14,
   "id": "753c6631",
   "metadata": {},
   "outputs": [
    {
     "data": {
      "text/plain": [
       "11-element Vector{Float64}:\n",
       "      5.315116975603194e-10\n",
       "      4.710082747940292e-7\n",
       "      0.00041929519790480407\n",
       "      0.15883624903515486\n",
       "     50.59401182458721\n",
       "    987.519265832493\n",
       " 398409.90132596693\n",
       "      2.3148450428673536e8\n",
       "      4.284147235393727e11\n",
       "      1.9373278047396092e15\n",
       "      5.1795539521801806e19"
      ]
     },
     "execution_count": 14,
     "metadata": {},
     "output_type": "execute_result"
    }
   ],
   "source": [
    "XtX = X_10'*X_10\n",
    "eigenvalues = eigen(XtX).values"
   ]
  },
  {
   "cell_type": "code",
   "execution_count": 15,
   "id": "fb3e9ffd",
   "metadata": {},
   "outputs": [
    {
     "data": {
      "text/plain": [
       "11-element Vector{Float64}:\n",
       "      2.3054537461426533e-5\n",
       "      0.0006863004260482644\n",
       "      0.02047669890155159\n",
       "      0.3985426564812791\n",
       "      7.11294677504248\n",
       "     31.42481926491373\n",
       "    631.1971968616202\n",
       "  15214.61482544778\n",
       " 654533.974320182\n",
       "      4.401508610396678e7\n",
       "      7.196911804503499e9"
      ]
     },
     "execution_count": 15,
     "metadata": {},
     "output_type": "execute_result"
    }
   ],
   "source": [
    "eigenvalues_2 = sqrt.(eigenvalues)"
   ]
  },
  {
   "cell_type": "code",
   "execution_count": 16,
   "id": "a164c9cc",
   "metadata": {},
   "outputs": [
    {
     "data": {
      "text/plain": [
       "1.7679692504686805e15"
      ]
     },
     "execution_count": 16,
     "metadata": {},
     "output_type": "execute_result"
    }
   ],
   "source": [
    "# Ahora calculamos el numero de condición de la matriz \n",
    "\n",
    "num_cond_julia = cond(X_10)"
   ]
  },
  {
   "cell_type": "code",
   "execution_count": 17,
   "id": "ac35596d",
   "metadata": {},
   "outputs": [
    {
     "data": {
      "text/plain": [
       "1.7679692504686795e15"
      ]
     },
     "execution_count": 17,
     "metadata": {},
     "output_type": "execute_result"
    }
   ],
   "source": [
    "# y ahora a manita\n",
    "sing_values = sort(sing_values)\n",
    "\n",
    "num_cond_2 = sing_values[length(sing_values)] / sing_values[1]"
   ]
  },
  {
   "cell_type": "code",
   "execution_count": 24,
   "id": "e03adc46",
   "metadata": {},
   "outputs": [
    {
     "data": {
      "text/plain": [
       "false"
      ]
     },
     "execution_count": 24,
     "metadata": {},
     "output_type": "execute_result"
    }
   ],
   "source": [
    "# y verificamos que sean los mismos\n",
    "\n",
    "num_cond_julia == num_cond_2\n",
    "\n",
    "# Bueno, se parecen mucho"
   ]
  },
  {
   "cell_type": "code",
   "execution_count": 5,
   "id": "145662dc",
   "metadata": {},
   "outputs": [
    {
     "data": {
      "text/plain": [
       "82×11 Matrix{Float64}:\n",
       " 1.0  -6.86012  47.0613  -322.846   2214.76   …      -3.36501e7  2.30844e8\n",
       " 1.0  -4.32413  18.6981   -80.853    349.619         -5.28553e5  2.28553e6\n",
       " 1.0  -4.35863  18.9976   -82.8035   360.909         -5.67735e5  2.47454e6\n",
       " 1.0  -4.35843  18.9959   -82.7922   360.844         -5.67502e5  2.47342e6\n",
       " 1.0  -6.95585  48.3839  -336.551   2341.0           -3.812e7    2.65157e8\n",
       " 1.0  -6.66115  44.3709  -295.561   1968.77   …      -2.5819e7   1.71984e8\n",
       " 1.0  -6.35546  40.3919  -256.709   1631.51          -1.69171e7  1.07516e8\n",
       " 1.0  -6.1181   37.4312  -229.008   1401.09          -1.20102e7  7.34797e7\n",
       " 1.0  -7.11515  50.6253  -360.207   2562.92          -4.67364e7  3.32537e8\n",
       " 1.0  -6.81531  46.4484  -316.56    2157.46          -3.17227e7  2.162e8\n",
       " 1.0  -6.51999  42.5103  -277.167   1807.13   …      -2.12924e7  1.38826e8\n",
       " 1.0  -6.20412  38.4911  -238.803   1481.57          -1.36183e7  8.44893e7\n",
       " 1.0  -5.85387  34.2678  -200.599   1174.28          -8.07215e6  4.72533e7\n",
       " ⋮                                            ⋱                  ⋮\n",
       " 1.0  -6.69186  44.781   -299.668   2005.34   …      -2.69106e7  1.80082e8\n",
       " 1.0  -6.39254  40.8646  -261.229   1669.92          -1.78264e7  1.13956e8\n",
       " 1.0  -6.06737  36.813   -223.358   1355.2           -1.11431e7  6.76095e7\n",
       " 1.0  -6.68403  44.6763  -298.617   1995.97          -2.66284e7  1.77985e8\n",
       " 1.0  -6.37872  40.6881  -259.538   1655.52          -1.74824e7  1.11516e8\n",
       " 1.0  -6.06586  36.7946  -223.191   1353.84   …      -1.1118e7   6.74404e7\n",
       " 1.0  -5.75227  33.0886  -190.335   1094.86          -6.89533e6  3.96638e7\n",
       " 1.0  -5.13241  26.3417  -135.196    693.884         -2.47113e6  1.26829e7\n",
       " 1.0  -4.81135  23.1491  -111.379    535.882         -1.38167e6  6.64771e6\n",
       " 1.0  -4.09827  16.7958   -68.8338   282.099         -3.2614e5   1.33661e6\n",
       " 1.0  -3.66174  13.4084   -49.098    179.784  …      -1.18356e5  4.33389e5\n",
       " 1.0  -3.2644   10.6563   -34.7865   113.557     -42095.1        1.37415e5"
      ]
     },
     "execution_count": 5,
     "metadata": {},
     "output_type": "execute_result"
    }
   ],
   "source": [
    "X = generar_X(10)"
   ]
  },
  {
   "cell_type": "code",
   "execution_count": 6,
   "id": "59f0df58",
   "metadata": {},
   "outputs": [
    {
     "data": {
      "text/plain": [
       "10"
      ]
     },
     "execution_count": 6,
     "metadata": {},
     "output_type": "execute_result"
    }
   ],
   "source": [
    "rango = rank(X)"
   ]
  },
  {
   "cell_type": "code",
   "execution_count": null,
   "id": "f608f8e4",
   "metadata": {},
   "outputs": [],
   "source": []
  }
 ],
 "metadata": {
  "kernelspec": {
   "display_name": "Julia 1.6.3",
   "language": "julia",
   "name": "julia-1.6"
  },
  "language_info": {
   "file_extension": ".jl",
   "mimetype": "application/julia",
   "name": "julia",
   "version": "1.6.3"
  }
 },
 "nbformat": 4,
 "nbformat_minor": 5
}
