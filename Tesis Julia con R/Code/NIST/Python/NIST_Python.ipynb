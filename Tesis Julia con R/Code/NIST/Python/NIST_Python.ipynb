{
 "cells": [
  {
   "cell_type": "code",
   "execution_count": 7,
   "id": "d75679e5",
   "metadata": {},
   "outputs": [],
   "source": [
    "import pandas as pd\n",
    "import numpy as np\n",
    "import time\n",
    "import os\n",
    "import random"
   ]
  },
  {
   "cell_type": "code",
   "execution_count": 8,
   "id": "f7b038f8",
   "metadata": {},
   "outputs": [],
   "source": [
    "os.chdir('C:\\\\Users\\\\Valeria\\\\Tesis_Julia_con_R\\\\NIST\\\\Python')\n",
    "random.seed(99)"
   ]
  },
  {
   "cell_type": "code",
   "execution_count": 9,
   "id": "2ab02052",
   "metadata": {},
   "outputs": [],
   "source": [
    "filip = pd.read_csv(\"filip_data.csv\")\n",
    "x = filip.x\n",
    "y = filip.y\n",
    "k = 10\n",
    "n = len(x)"
   ]
  },
  {
   "cell_type": "code",
   "execution_count": 10,
   "id": "c9163c49",
   "metadata": {},
   "outputs": [],
   "source": [
    "# https://numpy.org/doc/stable/reference/generated/numpy.polyfit.html\n",
    "\n",
    "def polynomial_fit(grado_pol):\n",
    "    start_time = time.time()\n",
    "# Ojo que te regresa el coeficiente para el highest power first\n",
    "    python_fit = np.polyfit(x, y, deg = grado_pol)\n",
    "\n",
    "# Lo movemos solo para que esté igual que en los demás programas\n",
    "    python_fit = np.flipud(python_fit)\n",
    "\n",
    "# Medimos el tiempo\n",
    "    tiempo = time.time() - start_time\n",
    "    \n",
    "# Guardamos los coeficientes en un dataframe\n",
    "    resultado = pd.DataFrame(python_fit)\n",
    "# Cambiamos el nombre de la columna\n",
    "    resultado.columns = ['Python']\n",
    "    nombre_archivo = \"res_python_gr\" + str(grado_pol) + \".csv\"\n",
    "    resultado.to_csv(nombre_archivo)\n",
    "\n",
    "    return tiempo"
   ]
  },
  {
   "cell_type": "code",
   "execution_count": 11,
   "id": "b94e6831",
   "metadata": {},
   "outputs": [],
   "source": [
    "# Hacemos una función para que me genere todos los dataframes\n",
    "\n",
    "# Hagamos un df vacio\n",
    "column_names = ['Grado','Tiempos']\n",
    "tiempo_df = pd.DataFrame(columns = column_names)\n",
    "\n",
    "for grado in range(1, 11):\n",
    "    time_grado = polynomial_fit(grado)\n",
    "    time_grado = {'Grado': grado, 'Tiempos': time_grado}\n",
    "    tiempo_df = tiempo_df.append(time_grado, ignore_index = True)"
   ]
  },
  {
   "cell_type": "code",
   "execution_count": 12,
   "id": "19049d50",
   "metadata": {},
   "outputs": [
    {
     "data": {
      "text/html": [
       "<div>\n",
       "<style scoped>\n",
       "    .dataframe tbody tr th:only-of-type {\n",
       "        vertical-align: middle;\n",
       "    }\n",
       "\n",
       "    .dataframe tbody tr th {\n",
       "        vertical-align: top;\n",
       "    }\n",
       "\n",
       "    .dataframe thead th {\n",
       "        text-align: right;\n",
       "    }\n",
       "</style>\n",
       "<table border=\"1\" class=\"dataframe\">\n",
       "  <thead>\n",
       "    <tr style=\"text-align: right;\">\n",
       "      <th></th>\n",
       "      <th>Grado</th>\n",
       "      <th>Tiempos</th>\n",
       "    </tr>\n",
       "  </thead>\n",
       "  <tbody>\n",
       "    <tr>\n",
       "      <th>0</th>\n",
       "      <td>1.0</td>\n",
       "      <td>0.000000</td>\n",
       "    </tr>\n",
       "    <tr>\n",
       "      <th>1</th>\n",
       "      <td>2.0</td>\n",
       "      <td>0.000000</td>\n",
       "    </tr>\n",
       "    <tr>\n",
       "      <th>2</th>\n",
       "      <td>3.0</td>\n",
       "      <td>0.000000</td>\n",
       "    </tr>\n",
       "    <tr>\n",
       "      <th>3</th>\n",
       "      <td>4.0</td>\n",
       "      <td>0.000623</td>\n",
       "    </tr>\n",
       "    <tr>\n",
       "      <th>4</th>\n",
       "      <td>5.0</td>\n",
       "      <td>0.000000</td>\n",
       "    </tr>\n",
       "    <tr>\n",
       "      <th>5</th>\n",
       "      <td>6.0</td>\n",
       "      <td>0.000000</td>\n",
       "    </tr>\n",
       "    <tr>\n",
       "      <th>6</th>\n",
       "      <td>7.0</td>\n",
       "      <td>0.000000</td>\n",
       "    </tr>\n",
       "    <tr>\n",
       "      <th>7</th>\n",
       "      <td>8.0</td>\n",
       "      <td>0.002002</td>\n",
       "    </tr>\n",
       "    <tr>\n",
       "      <th>8</th>\n",
       "      <td>9.0</td>\n",
       "      <td>0.000000</td>\n",
       "    </tr>\n",
       "    <tr>\n",
       "      <th>9</th>\n",
       "      <td>10.0</td>\n",
       "      <td>0.000000</td>\n",
       "    </tr>\n",
       "  </tbody>\n",
       "</table>\n",
       "</div>"
      ],
      "text/plain": [
       "   Grado   Tiempos\n",
       "0    1.0  0.000000\n",
       "1    2.0  0.000000\n",
       "2    3.0  0.000000\n",
       "3    4.0  0.000623\n",
       "4    5.0  0.000000\n",
       "5    6.0  0.000000\n",
       "6    7.0  0.000000\n",
       "7    8.0  0.002002\n",
       "8    9.0  0.000000\n",
       "9   10.0  0.000000"
      ]
     },
     "execution_count": 12,
     "metadata": {},
     "output_type": "execute_result"
    }
   ],
   "source": [
    "tiempo_df"
   ]
  },
  {
   "cell_type": "code",
   "execution_count": null,
   "id": "78496acf",
   "metadata": {},
   "outputs": [],
   "source": []
  }
 ],
 "metadata": {
  "kernelspec": {
   "display_name": "Python 3",
   "language": "python",
   "name": "python3"
  },
  "language_info": {
   "codemirror_mode": {
    "name": "ipython",
    "version": 3
   },
   "file_extension": ".py",
   "mimetype": "text/x-python",
   "name": "python",
   "nbconvert_exporter": "python",
   "pygments_lexer": "ipython3",
   "version": "3.8.8"
  }
 },
 "nbformat": 4,
 "nbformat_minor": 5
}
