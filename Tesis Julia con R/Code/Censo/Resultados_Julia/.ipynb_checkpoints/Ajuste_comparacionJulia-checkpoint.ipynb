{
 "cells": [
  {
   "cell_type": "code",
   "execution_count": 31,
   "id": "df9cf3cb",
   "metadata": {},
   "outputs": [
    {
     "name": "stderr",
     "output_type": "stream",
     "text": [
      "\u001b[32m\u001b[1m    Updating\u001b[22m\u001b[39m registry at `C:\\Users\\Valeria\\.julia\\registries\\General`\n",
      "\u001b[32m\u001b[1m   Resolving\u001b[22m\u001b[39m package versions...\n",
      "\u001b[32m\u001b[1m   Installed\u001b[22m\u001b[39m CategoricalArrays ─ v0.10.2\n",
      "\u001b[32m\u001b[1m    Updating\u001b[22m\u001b[39m `C:\\Users\\Valeria\\.julia\\environments\\v1.6\\Project.toml`\n",
      " \u001b[90m [324d7699] \u001b[39m\u001b[92m+ CategoricalArrays v0.10.2\u001b[39m\n",
      "\u001b[32m\u001b[1m    Updating\u001b[22m\u001b[39m `C:\\Users\\Valeria\\.julia\\environments\\v1.6\\Manifest.toml`\n",
      " \u001b[90m [324d7699] \u001b[39m\u001b[92m+ CategoricalArrays v0.10.2\u001b[39m\n",
      "\u001b[32m\u001b[1mPrecompiling\u001b[22m\u001b[39m project...\n",
      "\u001b[32m  ✓ \u001b[39mCategoricalArrays\n",
      "  1 dependency successfully precompiled in 8 seconds (218 already precompiled, 6 skipped during auto due to previous errors)\n"
     ]
    }
   ],
   "source": [
    "#using Pkg; Pkg.add(\"CategoricalArrays\")"
   ]
  },
  {
   "cell_type": "code",
   "execution_count": 32,
   "id": "79a41179",
   "metadata": {},
   "outputs": [],
   "source": [
    "using CSV, DataFrames, StatsBase, GLM, Random, CategoricalArrays"
   ]
  },
  {
   "cell_type": "code",
   "execution_count": 29,
   "id": "f594a9d8",
   "metadata": {},
   "outputs": [
    {
     "data": {
      "text/plain": [
       "MersenneTwister(99)"
      ]
     },
     "execution_count": 29,
     "metadata": {},
     "output_type": "execute_result"
    }
   ],
   "source": [
    "# Equivalente a set.seed\n",
    "Random.seed!(99)"
   ]
  },
  {
   "cell_type": "code",
   "execution_count": 2,
   "id": "bce64ca3",
   "metadata": {},
   "outputs": [
    {
     "data": {
      "text/html": [
       "<div class=\"data-frame\"><p>15,015,683 rows × 92 columns (omitted printing of 85 columns)</p><table class=\"data-frame\"><thead><tr><th></th><th>ENT</th><th>MUN</th><th>LOC50K</th><th>ID_VIV</th><th>ID_PERSONA</th><th>COBERTURA</th><th>ESTRATO</th></tr><tr><th></th><th title=\"Int64\">Int64</th><th title=\"Int64\">Int64</th><th title=\"Int64\">Int64</th><th title=\"Int64\">Int64</th><th title=\"Int64\">Int64</th><th title=\"Int64\">Int64</th><th title=\"String15\">String15</th></tr></thead><tbody><tr><th>1</th><td>1</td><td>1</td><td>1</td><td>10010000001</td><td>1001000000100001</td><td>2</td><td>01-001-0001-00</td></tr><tr><th>2</th><td>1</td><td>1</td><td>1</td><td>10010000001</td><td>1001000000100002</td><td>2</td><td>01-001-0001-00</td></tr><tr><th>3</th><td>1</td><td>1</td><td>1</td><td>10010000001</td><td>1001000000100003</td><td>2</td><td>01-001-0001-00</td></tr><tr><th>4</th><td>1</td><td>1</td><td>1</td><td>10010000002</td><td>1001000000200001</td><td>2</td><td>01-001-0001-00</td></tr><tr><th>5</th><td>1</td><td>1</td><td>1</td><td>10010000002</td><td>1001000000200002</td><td>2</td><td>01-001-0001-00</td></tr><tr><th>6</th><td>1</td><td>1</td><td>1</td><td>10010000002</td><td>1001000000200003</td><td>2</td><td>01-001-0001-00</td></tr><tr><th>7</th><td>1</td><td>1</td><td>1</td><td>10010000002</td><td>1001000000200004</td><td>2</td><td>01-001-0001-00</td></tr><tr><th>8</th><td>1</td><td>1</td><td>1</td><td>10010000003</td><td>1001000000300001</td><td>2</td><td>01-001-0001-00</td></tr><tr><th>9</th><td>1</td><td>1</td><td>1</td><td>10010000004</td><td>1001000000400001</td><td>2</td><td>01-001-0001-00</td></tr><tr><th>10</th><td>1</td><td>1</td><td>1</td><td>10010000004</td><td>1001000000400002</td><td>2</td><td>01-001-0001-00</td></tr><tr><th>11</th><td>1</td><td>1</td><td>1</td><td>10010000004</td><td>1001000000400003</td><td>2</td><td>01-001-0001-00</td></tr><tr><th>12</th><td>1</td><td>1</td><td>1</td><td>10010000005</td><td>1001000000500001</td><td>2</td><td>01-001-0001-00</td></tr><tr><th>13</th><td>1</td><td>1</td><td>1</td><td>10010000005</td><td>1001000000500002</td><td>2</td><td>01-001-0001-00</td></tr><tr><th>14</th><td>1</td><td>1</td><td>1</td><td>10010000005</td><td>1001000000500003</td><td>2</td><td>01-001-0001-00</td></tr><tr><th>15</th><td>1</td><td>1</td><td>1</td><td>10010000005</td><td>1001000000500004</td><td>2</td><td>01-001-0001-00</td></tr><tr><th>16</th><td>1</td><td>1</td><td>1</td><td>10010000006</td><td>1001000000600001</td><td>2</td><td>01-001-0001-00</td></tr><tr><th>17</th><td>1</td><td>1</td><td>1</td><td>10010000006</td><td>1001000000600002</td><td>2</td><td>01-001-0001-00</td></tr><tr><th>18</th><td>1</td><td>1</td><td>1</td><td>10010000006</td><td>1001000000600003</td><td>2</td><td>01-001-0001-00</td></tr><tr><th>19</th><td>1</td><td>1</td><td>1</td><td>10010000006</td><td>1001000000600004</td><td>2</td><td>01-001-0001-00</td></tr><tr><th>20</th><td>1</td><td>1</td><td>1</td><td>10010000007</td><td>1001000000700001</td><td>2</td><td>01-001-0001-00</td></tr><tr><th>21</th><td>1</td><td>1</td><td>1</td><td>10010000008</td><td>1001000000800001</td><td>2</td><td>01-001-0001-00</td></tr><tr><th>22</th><td>1</td><td>1</td><td>1</td><td>10010000008</td><td>1001000000800002</td><td>2</td><td>01-001-0001-00</td></tr><tr><th>23</th><td>1</td><td>1</td><td>1</td><td>10010000008</td><td>1001000000800003</td><td>2</td><td>01-001-0001-00</td></tr><tr><th>24</th><td>1</td><td>1</td><td>1</td><td>10010000008</td><td>1001000000800004</td><td>2</td><td>01-001-0001-00</td></tr><tr><th>25</th><td>1</td><td>1</td><td>1</td><td>10010000009</td><td>1001000000900001</td><td>2</td><td>01-001-0001-00</td></tr><tr><th>26</th><td>1</td><td>1</td><td>1</td><td>10010000009</td><td>1001000000900002</td><td>2</td><td>01-001-0001-00</td></tr><tr><th>27</th><td>1</td><td>1</td><td>1</td><td>10010000009</td><td>1001000000900003</td><td>2</td><td>01-001-0001-00</td></tr><tr><th>28</th><td>1</td><td>1</td><td>1</td><td>10010000009</td><td>1001000000900004</td><td>2</td><td>01-001-0001-00</td></tr><tr><th>29</th><td>1</td><td>1</td><td>1</td><td>10010000010</td><td>1001000001000001</td><td>2</td><td>01-001-0001-00</td></tr><tr><th>30</th><td>1</td><td>1</td><td>1</td><td>10010000010</td><td>1001000001000002</td><td>2</td><td>01-001-0001-00</td></tr><tr><th>&vellip;</th><td>&vellip;</td><td>&vellip;</td><td>&vellip;</td><td>&vellip;</td><td>&vellip;</td><td>&vellip;</td><td>&vellip;</td></tr></tbody></table></div>"
      ],
      "text/latex": [
       "\\begin{tabular}{r|cccccccc}\n",
       "\t& ENT & MUN & LOC50K & ID\\_VIV & ID\\_PERSONA & COBERTURA & ESTRATO & \\\\\n",
       "\t\\hline\n",
       "\t& Int64 & Int64 & Int64 & Int64 & Int64 & Int64 & String15 & \\\\\n",
       "\t\\hline\n",
       "\t1 & 1 & 1 & 1 & 10010000001 & 1001000000100001 & 2 & 01-001-0001-00 & $\\dots$ \\\\\n",
       "\t2 & 1 & 1 & 1 & 10010000001 & 1001000000100002 & 2 & 01-001-0001-00 & $\\dots$ \\\\\n",
       "\t3 & 1 & 1 & 1 & 10010000001 & 1001000000100003 & 2 & 01-001-0001-00 & $\\dots$ \\\\\n",
       "\t4 & 1 & 1 & 1 & 10010000002 & 1001000000200001 & 2 & 01-001-0001-00 & $\\dots$ \\\\\n",
       "\t5 & 1 & 1 & 1 & 10010000002 & 1001000000200002 & 2 & 01-001-0001-00 & $\\dots$ \\\\\n",
       "\t6 & 1 & 1 & 1 & 10010000002 & 1001000000200003 & 2 & 01-001-0001-00 & $\\dots$ \\\\\n",
       "\t7 & 1 & 1 & 1 & 10010000002 & 1001000000200004 & 2 & 01-001-0001-00 & $\\dots$ \\\\\n",
       "\t8 & 1 & 1 & 1 & 10010000003 & 1001000000300001 & 2 & 01-001-0001-00 & $\\dots$ \\\\\n",
       "\t9 & 1 & 1 & 1 & 10010000004 & 1001000000400001 & 2 & 01-001-0001-00 & $\\dots$ \\\\\n",
       "\t10 & 1 & 1 & 1 & 10010000004 & 1001000000400002 & 2 & 01-001-0001-00 & $\\dots$ \\\\\n",
       "\t11 & 1 & 1 & 1 & 10010000004 & 1001000000400003 & 2 & 01-001-0001-00 & $\\dots$ \\\\\n",
       "\t12 & 1 & 1 & 1 & 10010000005 & 1001000000500001 & 2 & 01-001-0001-00 & $\\dots$ \\\\\n",
       "\t13 & 1 & 1 & 1 & 10010000005 & 1001000000500002 & 2 & 01-001-0001-00 & $\\dots$ \\\\\n",
       "\t14 & 1 & 1 & 1 & 10010000005 & 1001000000500003 & 2 & 01-001-0001-00 & $\\dots$ \\\\\n",
       "\t15 & 1 & 1 & 1 & 10010000005 & 1001000000500004 & 2 & 01-001-0001-00 & $\\dots$ \\\\\n",
       "\t16 & 1 & 1 & 1 & 10010000006 & 1001000000600001 & 2 & 01-001-0001-00 & $\\dots$ \\\\\n",
       "\t17 & 1 & 1 & 1 & 10010000006 & 1001000000600002 & 2 & 01-001-0001-00 & $\\dots$ \\\\\n",
       "\t18 & 1 & 1 & 1 & 10010000006 & 1001000000600003 & 2 & 01-001-0001-00 & $\\dots$ \\\\\n",
       "\t19 & 1 & 1 & 1 & 10010000006 & 1001000000600004 & 2 & 01-001-0001-00 & $\\dots$ \\\\\n",
       "\t20 & 1 & 1 & 1 & 10010000007 & 1001000000700001 & 2 & 01-001-0001-00 & $\\dots$ \\\\\n",
       "\t21 & 1 & 1 & 1 & 10010000008 & 1001000000800001 & 2 & 01-001-0001-00 & $\\dots$ \\\\\n",
       "\t22 & 1 & 1 & 1 & 10010000008 & 1001000000800002 & 2 & 01-001-0001-00 & $\\dots$ \\\\\n",
       "\t23 & 1 & 1 & 1 & 10010000008 & 1001000000800003 & 2 & 01-001-0001-00 & $\\dots$ \\\\\n",
       "\t24 & 1 & 1 & 1 & 10010000008 & 1001000000800004 & 2 & 01-001-0001-00 & $\\dots$ \\\\\n",
       "\t25 & 1 & 1 & 1 & 10010000009 & 1001000000900001 & 2 & 01-001-0001-00 & $\\dots$ \\\\\n",
       "\t26 & 1 & 1 & 1 & 10010000009 & 1001000000900002 & 2 & 01-001-0001-00 & $\\dots$ \\\\\n",
       "\t27 & 1 & 1 & 1 & 10010000009 & 1001000000900003 & 2 & 01-001-0001-00 & $\\dots$ \\\\\n",
       "\t28 & 1 & 1 & 1 & 10010000009 & 1001000000900004 & 2 & 01-001-0001-00 & $\\dots$ \\\\\n",
       "\t29 & 1 & 1 & 1 & 10010000010 & 1001000001000001 & 2 & 01-001-0001-00 & $\\dots$ \\\\\n",
       "\t30 & 1 & 1 & 1 & 10010000010 & 1001000001000002 & 2 & 01-001-0001-00 & $\\dots$ \\\\\n",
       "\t$\\dots$ & $\\dots$ & $\\dots$ & $\\dots$ & $\\dots$ & $\\dots$ & $\\dots$ & $\\dots$ &  \\\\\n",
       "\\end{tabular}\n"
      ],
      "text/plain": [
       "\u001b[1m15015683×92 DataFrame\u001b[0m\n",
       "\u001b[1m      Row \u001b[0m│\u001b[1m ENT   \u001b[0m\u001b[1m MUN   \u001b[0m\u001b[1m LOC50K \u001b[0m\u001b[1m ID_VIV       \u001b[0m\u001b[1m ID_PERSONA        \u001b[0m\u001b[1m COBERTURA \u001b[0m\u001b[1m \u001b[0m ⋯\n",
       "\u001b[1m          \u001b[0m│\u001b[90m Int64 \u001b[0m\u001b[90m Int64 \u001b[0m\u001b[90m Int64  \u001b[0m\u001b[90m Int64        \u001b[0m\u001b[90m Int64             \u001b[0m\u001b[90m Int64     \u001b[0m\u001b[90m \u001b[0m ⋯\n",
       "──────────┼─────────────────────────────────────────────────────────────────────\n",
       "        1 │     1      1       1   10010000001   1001000000100001          2   ⋯\n",
       "        2 │     1      1       1   10010000001   1001000000100002          2\n",
       "        3 │     1      1       1   10010000001   1001000000100003          2\n",
       "        4 │     1      1       1   10010000002   1001000000200001          2\n",
       "        5 │     1      1       1   10010000002   1001000000200002          2   ⋯\n",
       "        6 │     1      1       1   10010000002   1001000000200003          2\n",
       "        7 │     1      1       1   10010000002   1001000000200004          2\n",
       "        8 │     1      1       1   10010000003   1001000000300001          2\n",
       "        9 │     1      1       1   10010000004   1001000000400001          2   ⋯\n",
       "       10 │     1      1       1   10010000004   1001000000400002          2\n",
       "       11 │     1      1       1   10010000004   1001000000400003          2\n",
       "    ⋮     │   ⋮      ⋮      ⋮          ⋮                ⋮              ⋮       ⋱\n",
       " 15015674 │    32     58       0  320580000844  32058000084400005          1\n",
       " 15015675 │    32     58       0  320580000844  32058000084400006          1   ⋯\n",
       " 15015676 │    32     58       0  320580000845  32058000084500001          1\n",
       " 15015677 │    32     58       0  320580000845  32058000084500002          1\n",
       " 15015678 │    32     58       0  320580000846  32058000084600001          1\n",
       " 15015679 │    32     58       0  320580000846  32058000084600002          1   ⋯\n",
       " 15015680 │    32     58       0  320580000847  32058000084700001          1\n",
       " 15015681 │    32     58       0  320580000848  32058000084800001          1\n",
       " 15015682 │    32     58       0  320580000848  32058000084800002          1\n",
       " 15015683 │    32     58       0  320580000848  32058000084800003          1   ⋯\n",
       "\u001b[36m                                            86 columns and 15015662 rows omitted\u001b[0m"
      ]
     },
     "execution_count": 2,
     "metadata": {},
     "output_type": "execute_result"
    }
   ],
   "source": [
    "# Base de datos del link https://www.inegi.org.mx/programas/ccpv/2020/default.html#Microdatos\n",
    "# se tarda como 4 miutos en cargar\n",
    "\n",
    "personas = CSV.read(\"Personas00.csv\", DataFrame)"
   ]
  },
  {
   "cell_type": "code",
   "execution_count": 3,
   "id": "037df125",
   "metadata": {},
   "outputs": [
    {
     "data": {
      "text/plain": [
       "18-element Vector{String}:\n",
       " \"ID_PERSONA\"\n",
       " \"ENT\"\n",
       " \"SEXO\"\n",
       " \"EDAD\"\n",
       " \"NIVACAD\"\n",
       " \"ALFABET\"\n",
       " \"INGTRMEN\"\n",
       " \"HORTRA\"\n",
       " \"CONACT\"\n",
       " \"SITTRA\"\n",
       " \"ENT_PAIS_TRAB\"\n",
       " \"AGUINALDO\"\n",
       " \"VACACIONES\"\n",
       " \"SERVICIO_MEDICO\"\n",
       " \"UTILIDADES\"\n",
       " \"INCAP_SUELDO\"\n",
       " \"SAR_AFORE\"\n",
       " \"CREDITO_VIVIENDA\""
      ]
     },
     "execution_count": 3,
     "metadata": {},
     "output_type": "execute_result"
    }
   ],
   "source": [
    "# Las columnas que estoy seleccionando para el ajuste\n",
    "col_sel = [\"ID_PERSONA\",\"ENT\",\"SEXO\", \"EDAD\", \"NIVACAD\", \"ALFABET\", \n",
    "            \"INGTRMEN\",\"HORTRA\", \"CONACT\", \"SITTRA\", \"ENT_PAIS_TRAB\",\n",
    "        \"AGUINALDO\", \"VACACIONES\", \"SERVICIO_MEDICO\", \"UTILIDADES\", \"INCAP_SUELDO\", \"SAR_AFORE\", \"CREDITO_VIVIENDA\"]"
   ]
  },
  {
   "cell_type": "code",
   "execution_count": 4,
   "id": "9a61262f",
   "metadata": {},
   "outputs": [
    {
     "data": {
      "text/html": [
       "<div class=\"data-frame\"><p>15,015,683 rows × 18 columns (omitted printing of 9 columns)</p><table class=\"data-frame\"><thead><tr><th></th><th>ID_PERSONA</th><th>ENT</th><th>SEXO</th><th>EDAD</th><th>NIVACAD</th><th>ALFABET</th><th>INGTRMEN</th><th>HORTRA</th><th>CONACT</th></tr><tr><th></th><th title=\"Int64\">Int64</th><th title=\"Int64\">Int64</th><th title=\"Int64\">Int64</th><th title=\"Int64\">Int64</th><th title=\"Union{Missing, Int64}\">Int64?</th><th title=\"Union{Missing, Int64}\">Int64?</th><th title=\"Union{Missing, Int64}\">Int64?</th><th title=\"Union{Missing, Int64}\">Int64?</th><th title=\"Union{Missing, Int64}\">Int64?</th></tr></thead><tbody><tr><th>1</th><td>1001000000100001</td><td>1</td><td>3</td><td>55</td><td>11</td><td>1</td><td><em>missing</em></td><td><em>missing</em></td><td>60</td></tr><tr><th>2</th><td>1001000000100002</td><td>1</td><td>1</td><td>18</td><td>0</td><td>3</td><td><em>missing</em></td><td><em>missing</em></td><td>80</td></tr><tr><th>3</th><td>1001000000100003</td><td>1</td><td>1</td><td>21</td><td>11</td><td>1</td><td><em>missing</em></td><td><em>missing</em></td><td>50</td></tr><tr><th>4</th><td>1001000000200001</td><td>1</td><td>1</td><td>45</td><td>11</td><td>1</td><td>21500</td><td>40</td><td>10</td></tr><tr><th>5</th><td>1001000000200002</td><td>1</td><td>3</td><td>42</td><td>11</td><td>1</td><td>8600</td><td>40</td><td>10</td></tr><tr><th>6</th><td>1001000000200003</td><td>1</td><td>3</td><td>20</td><td>11</td><td>1</td><td><em>missing</em></td><td><em>missing</em></td><td>50</td></tr><tr><th>7</th><td>1001000000200004</td><td>1</td><td>1</td><td>10</td><td>2</td><td>1</td><td><em>missing</em></td><td><em>missing</em></td><td><em>missing</em></td></tr><tr><th>8</th><td>1001000000300001</td><td>1</td><td>1</td><td>60</td><td>11</td><td>1</td><td>20000</td><td>48</td><td>10</td></tr><tr><th>9</th><td>1001000000400001</td><td>1</td><td>1</td><td>62</td><td>13</td><td>1</td><td>30000</td><td>21</td><td>10</td></tr><tr><th>10</th><td>1001000000400002</td><td>1</td><td>1</td><td>32</td><td>11</td><td>1</td><td>4000</td><td>48</td><td>10</td></tr><tr><th>11</th><td>1001000000400003</td><td>1</td><td>3</td><td>54</td><td>13</td><td>1</td><td>32000</td><td>42</td><td>10</td></tr><tr><th>12</th><td>1001000000500001</td><td>1</td><td>1</td><td>52</td><td>11</td><td>1</td><td>25000</td><td>0</td><td>20</td></tr><tr><th>13</th><td>1001000000500002</td><td>1</td><td>3</td><td>53</td><td>7</td><td>1</td><td><em>missing</em></td><td><em>missing</em></td><td>60</td></tr><tr><th>14</th><td>1001000000500003</td><td>1</td><td>1</td><td>21</td><td>11</td><td>1</td><td><em>missing</em></td><td><em>missing</em></td><td>50</td></tr><tr><th>15</th><td>1001000000500004</td><td>1</td><td>1</td><td>20</td><td>11</td><td>1</td><td><em>missing</em></td><td><em>missing</em></td><td>50</td></tr><tr><th>16</th><td>1001000000600001</td><td>1</td><td>3</td><td>10</td><td>2</td><td>1</td><td><em>missing</em></td><td><em>missing</em></td><td><em>missing</em></td></tr><tr><th>17</th><td>1001000000600002</td><td>1</td><td>3</td><td>41</td><td>11</td><td>1</td><td>25000</td><td>40</td><td>10</td></tr><tr><th>18</th><td>1001000000600003</td><td>1</td><td>1</td><td>40</td><td>11</td><td>1</td><td>25000</td><td>72</td><td>10</td></tr><tr><th>19</th><td>1001000000600004</td><td>1</td><td>3</td><td>7</td><td>1</td><td>1</td><td><em>missing</em></td><td><em>missing</em></td><td><em>missing</em></td></tr><tr><th>20</th><td>1001000000700001</td><td>1</td><td>1</td><td>28</td><td>11</td><td>1</td><td>40000</td><td>60</td><td>10</td></tr><tr><th>21</th><td>1001000000800001</td><td>1</td><td>1</td><td>13</td><td>3</td><td>1</td><td><em>missing</em></td><td><em>missing</em></td><td>50</td></tr><tr><th>22</th><td>1001000000800002</td><td>1</td><td>3</td><td>42</td><td>13</td><td>1</td><td>12000</td><td>45</td><td>10</td></tr><tr><th>23</th><td>1001000000800003</td><td>1</td><td>1</td><td>42</td><td>13</td><td>1</td><td>16000</td><td>45</td><td>10</td></tr><tr><th>24</th><td>1001000000800004</td><td>1</td><td>1</td><td>15</td><td>4</td><td>1</td><td><em>missing</em></td><td><em>missing</em></td><td>50</td></tr><tr><th>25</th><td>1001000000900001</td><td>1</td><td>1</td><td>17</td><td>4</td><td>1</td><td><em>missing</em></td><td><em>missing</em></td><td>50</td></tr><tr><th>26</th><td>1001000000900002</td><td>1</td><td>3</td><td>15</td><td>3</td><td>1</td><td><em>missing</em></td><td><em>missing</em></td><td>50</td></tr><tr><th>27</th><td>1001000000900003</td><td>1</td><td>1</td><td>45</td><td>11</td><td>1</td><td>20000</td><td>42</td><td>10</td></tr><tr><th>28</th><td>1001000000900004</td><td>1</td><td>3</td><td>45</td><td>11</td><td>1</td><td>21500</td><td>20</td><td>10</td></tr><tr><th>29</th><td>1001000001000001</td><td>1</td><td>3</td><td>9</td><td>2</td><td>1</td><td><em>missing</em></td><td><em>missing</em></td><td><em>missing</em></td></tr><tr><th>30</th><td>1001000001000002</td><td>1</td><td>3</td><td>5</td><td>1</td><td>3</td><td><em>missing</em></td><td><em>missing</em></td><td><em>missing</em></td></tr><tr><th>&vellip;</th><td>&vellip;</td><td>&vellip;</td><td>&vellip;</td><td>&vellip;</td><td>&vellip;</td><td>&vellip;</td><td>&vellip;</td><td>&vellip;</td><td>&vellip;</td></tr></tbody></table></div>"
      ],
      "text/latex": [
       "\\begin{tabular}{r|cccccccccc}\n",
       "\t& ID\\_PERSONA & ENT & SEXO & EDAD & NIVACAD & ALFABET & INGTRMEN & HORTRA & CONACT & \\\\\n",
       "\t\\hline\n",
       "\t& Int64 & Int64 & Int64 & Int64 & Int64? & Int64? & Int64? & Int64? & Int64? & \\\\\n",
       "\t\\hline\n",
       "\t1 & 1001000000100001 & 1 & 3 & 55 & 11 & 1 & \\emph{missing} & \\emph{missing} & 60 & $\\dots$ \\\\\n",
       "\t2 & 1001000000100002 & 1 & 1 & 18 & 0 & 3 & \\emph{missing} & \\emph{missing} & 80 & $\\dots$ \\\\\n",
       "\t3 & 1001000000100003 & 1 & 1 & 21 & 11 & 1 & \\emph{missing} & \\emph{missing} & 50 & $\\dots$ \\\\\n",
       "\t4 & 1001000000200001 & 1 & 1 & 45 & 11 & 1 & 21500 & 40 & 10 & $\\dots$ \\\\\n",
       "\t5 & 1001000000200002 & 1 & 3 & 42 & 11 & 1 & 8600 & 40 & 10 & $\\dots$ \\\\\n",
       "\t6 & 1001000000200003 & 1 & 3 & 20 & 11 & 1 & \\emph{missing} & \\emph{missing} & 50 & $\\dots$ \\\\\n",
       "\t7 & 1001000000200004 & 1 & 1 & 10 & 2 & 1 & \\emph{missing} & \\emph{missing} & \\emph{missing} & $\\dots$ \\\\\n",
       "\t8 & 1001000000300001 & 1 & 1 & 60 & 11 & 1 & 20000 & 48 & 10 & $\\dots$ \\\\\n",
       "\t9 & 1001000000400001 & 1 & 1 & 62 & 13 & 1 & 30000 & 21 & 10 & $\\dots$ \\\\\n",
       "\t10 & 1001000000400002 & 1 & 1 & 32 & 11 & 1 & 4000 & 48 & 10 & $\\dots$ \\\\\n",
       "\t11 & 1001000000400003 & 1 & 3 & 54 & 13 & 1 & 32000 & 42 & 10 & $\\dots$ \\\\\n",
       "\t12 & 1001000000500001 & 1 & 1 & 52 & 11 & 1 & 25000 & 0 & 20 & $\\dots$ \\\\\n",
       "\t13 & 1001000000500002 & 1 & 3 & 53 & 7 & 1 & \\emph{missing} & \\emph{missing} & 60 & $\\dots$ \\\\\n",
       "\t14 & 1001000000500003 & 1 & 1 & 21 & 11 & 1 & \\emph{missing} & \\emph{missing} & 50 & $\\dots$ \\\\\n",
       "\t15 & 1001000000500004 & 1 & 1 & 20 & 11 & 1 & \\emph{missing} & \\emph{missing} & 50 & $\\dots$ \\\\\n",
       "\t16 & 1001000000600001 & 1 & 3 & 10 & 2 & 1 & \\emph{missing} & \\emph{missing} & \\emph{missing} & $\\dots$ \\\\\n",
       "\t17 & 1001000000600002 & 1 & 3 & 41 & 11 & 1 & 25000 & 40 & 10 & $\\dots$ \\\\\n",
       "\t18 & 1001000000600003 & 1 & 1 & 40 & 11 & 1 & 25000 & 72 & 10 & $\\dots$ \\\\\n",
       "\t19 & 1001000000600004 & 1 & 3 & 7 & 1 & 1 & \\emph{missing} & \\emph{missing} & \\emph{missing} & $\\dots$ \\\\\n",
       "\t20 & 1001000000700001 & 1 & 1 & 28 & 11 & 1 & 40000 & 60 & 10 & $\\dots$ \\\\\n",
       "\t21 & 1001000000800001 & 1 & 1 & 13 & 3 & 1 & \\emph{missing} & \\emph{missing} & 50 & $\\dots$ \\\\\n",
       "\t22 & 1001000000800002 & 1 & 3 & 42 & 13 & 1 & 12000 & 45 & 10 & $\\dots$ \\\\\n",
       "\t23 & 1001000000800003 & 1 & 1 & 42 & 13 & 1 & 16000 & 45 & 10 & $\\dots$ \\\\\n",
       "\t24 & 1001000000800004 & 1 & 1 & 15 & 4 & 1 & \\emph{missing} & \\emph{missing} & 50 & $\\dots$ \\\\\n",
       "\t25 & 1001000000900001 & 1 & 1 & 17 & 4 & 1 & \\emph{missing} & \\emph{missing} & 50 & $\\dots$ \\\\\n",
       "\t26 & 1001000000900002 & 1 & 3 & 15 & 3 & 1 & \\emph{missing} & \\emph{missing} & 50 & $\\dots$ \\\\\n",
       "\t27 & 1001000000900003 & 1 & 1 & 45 & 11 & 1 & 20000 & 42 & 10 & $\\dots$ \\\\\n",
       "\t28 & 1001000000900004 & 1 & 3 & 45 & 11 & 1 & 21500 & 20 & 10 & $\\dots$ \\\\\n",
       "\t29 & 1001000001000001 & 1 & 3 & 9 & 2 & 1 & \\emph{missing} & \\emph{missing} & \\emph{missing} & $\\dots$ \\\\\n",
       "\t30 & 1001000001000002 & 1 & 3 & 5 & 1 & 3 & \\emph{missing} & \\emph{missing} & \\emph{missing} & $\\dots$ \\\\\n",
       "\t$\\dots$ & $\\dots$ & $\\dots$ & $\\dots$ & $\\dots$ & $\\dots$ & $\\dots$ & $\\dots$ & $\\dots$ & $\\dots$ &  \\\\\n",
       "\\end{tabular}\n"
      ],
      "text/plain": [
       "\u001b[1m15015683×18 DataFrame\u001b[0m\n",
       "\u001b[1m      Row \u001b[0m│\u001b[1m ID_PERSONA        \u001b[0m\u001b[1m ENT   \u001b[0m\u001b[1m SEXO  \u001b[0m\u001b[1m EDAD  \u001b[0m\u001b[1m NIVACAD \u001b[0m\u001b[1m ALFABET \u001b[0m\u001b[1m INGTRMEN\u001b[0m ⋯\n",
       "\u001b[1m          \u001b[0m│\u001b[90m Int64             \u001b[0m\u001b[90m Int64 \u001b[0m\u001b[90m Int64 \u001b[0m\u001b[90m Int64 \u001b[0m\u001b[90m Int64?  \u001b[0m\u001b[90m Int64?  \u001b[0m\u001b[90m Int64?  \u001b[0m ⋯\n",
       "──────────┼─────────────────────────────────────────────────────────────────────\n",
       "        1 │  1001000000100001      1      3     55       11        1 \u001b[90m  missing\u001b[0m ⋯\n",
       "        2 │  1001000000100002      1      1     18        0        3 \u001b[90m  missing\u001b[0m\n",
       "        3 │  1001000000100003      1      1     21       11        1 \u001b[90m  missing\u001b[0m\n",
       "        4 │  1001000000200001      1      1     45       11        1     21500\n",
       "        5 │  1001000000200002      1      3     42       11        1      8600 ⋯\n",
       "        6 │  1001000000200003      1      3     20       11        1 \u001b[90m  missing\u001b[0m\n",
       "        7 │  1001000000200004      1      1     10        2        1 \u001b[90m  missing\u001b[0m\n",
       "        8 │  1001000000300001      1      1     60       11        1     20000\n",
       "        9 │  1001000000400001      1      1     62       13        1     30000 ⋯\n",
       "       10 │  1001000000400002      1      1     32       11        1      4000\n",
       "       11 │  1001000000400003      1      3     54       13        1     32000\n",
       "    ⋮     │         ⋮            ⋮      ⋮      ⋮       ⋮        ⋮        ⋮     ⋱\n",
       " 15015674 │ 32058000084400005     32      3      3        0 \u001b[90m missing \u001b[0m\u001b[90m  missing\u001b[0m\n",
       " 15015675 │ 32058000084400006     32      3      5        1        3 \u001b[90m  missing\u001b[0m ⋯\n",
       " 15015676 │ 32058000084500001     32      3     83        3        1 \u001b[90m  missing\u001b[0m\n",
       " 15015677 │ 32058000084500002     32      1     50       11        1         0\n",
       " 15015678 │ 32058000084600001     32      1     50        3        1      3440\n",
       " 15015679 │ 32058000084600002     32      3     49        4        1 \u001b[90m  missing\u001b[0m ⋯\n",
       " 15015680 │ 32058000084700001     32      1     28        4        1      6450\n",
       " 15015681 │ 32058000084800001     32      3     13        3        1 \u001b[90m  missing\u001b[0m\n",
       " 15015682 │ 32058000084800002     32      3     21        3        1 \u001b[90m  missing\u001b[0m\n",
       " 15015683 │ 32058000084800003     32      1     38        3        1      5000 ⋯\n",
       "\u001b[36m                                            11 columns and 15015662 rows omitted\u001b[0m"
      ]
     },
     "execution_count": 4,
     "metadata": {},
     "output_type": "execute_result"
    }
   ],
   "source": [
    "# Selecciono solo las columnas que quiero\n",
    "personas_filt = personas[:, col_sel]"
   ]
  },
  {
   "cell_type": "code",
   "execution_count": 40,
   "id": "492aa590",
   "metadata": {},
   "outputs": [
    {
     "data": {
      "text/html": [
       "<div class=\"data-frame\"><p>5,525,640 rows × 18 columns (omitted printing of 9 columns)</p><table class=\"data-frame\"><thead><tr><th></th><th>ID_PERSONA</th><th>ENT</th><th>SEXO</th><th>EDAD</th><th>NIVACAD</th><th>ALFABET</th><th>INGTRMEN</th><th>HORTRA</th><th>CONACT</th></tr><tr><th></th><th title=\"Int64\">Int64</th><th title=\"Int64\">Int64</th><th title=\"Int64\">Int64</th><th title=\"Int64\">Int64</th><th title=\"Union{Missing, Int64}\">Int64?</th><th title=\"Union{Missing, Int64}\">Int64?</th><th title=\"Union{Missing, Int64}\">Int64?</th><th title=\"Union{Missing, Int64}\">Int64?</th><th title=\"Union{Missing, Int64}\">Int64?</th></tr></thead><tbody><tr><th>1</th><td>1001000000200001</td><td>1</td><td>1</td><td>45</td><td>11</td><td>1</td><td>21500</td><td>40</td><td>10</td></tr><tr><th>2</th><td>1001000000200002</td><td>1</td><td>3</td><td>42</td><td>11</td><td>1</td><td>8600</td><td>40</td><td>10</td></tr><tr><th>3</th><td>1001000000300001</td><td>1</td><td>1</td><td>60</td><td>11</td><td>1</td><td>20000</td><td>48</td><td>10</td></tr><tr><th>4</th><td>1001000000400001</td><td>1</td><td>1</td><td>62</td><td>13</td><td>1</td><td>30000</td><td>21</td><td>10</td></tr><tr><th>5</th><td>1001000000400002</td><td>1</td><td>1</td><td>32</td><td>11</td><td>1</td><td>4000</td><td>48</td><td>10</td></tr><tr><th>6</th><td>1001000000400003</td><td>1</td><td>3</td><td>54</td><td>13</td><td>1</td><td>32000</td><td>42</td><td>10</td></tr><tr><th>7</th><td>1001000000500001</td><td>1</td><td>1</td><td>52</td><td>11</td><td>1</td><td>25000</td><td>0</td><td>20</td></tr><tr><th>8</th><td>1001000000600002</td><td>1</td><td>3</td><td>41</td><td>11</td><td>1</td><td>25000</td><td>40</td><td>10</td></tr><tr><th>9</th><td>1001000000600003</td><td>1</td><td>1</td><td>40</td><td>11</td><td>1</td><td>25000</td><td>72</td><td>10</td></tr><tr><th>10</th><td>1001000000700001</td><td>1</td><td>1</td><td>28</td><td>11</td><td>1</td><td>40000</td><td>60</td><td>10</td></tr><tr><th>11</th><td>1001000000800002</td><td>1</td><td>3</td><td>42</td><td>13</td><td>1</td><td>12000</td><td>45</td><td>10</td></tr><tr><th>12</th><td>1001000000800003</td><td>1</td><td>1</td><td>42</td><td>13</td><td>1</td><td>16000</td><td>45</td><td>10</td></tr><tr><th>13</th><td>1001000000900003</td><td>1</td><td>1</td><td>45</td><td>11</td><td>1</td><td>20000</td><td>42</td><td>10</td></tr><tr><th>14</th><td>1001000000900004</td><td>1</td><td>3</td><td>45</td><td>11</td><td>1</td><td>21500</td><td>20</td><td>10</td></tr><tr><th>15</th><td>1001000001000003</td><td>1</td><td>3</td><td>31</td><td>11</td><td>1</td><td>43000</td><td>25</td><td>10</td></tr><tr><th>16</th><td>1001000001000004</td><td>1</td><td>1</td><td>32</td><td>3</td><td>1</td><td>43000</td><td>60</td><td>10</td></tr><tr><th>17</th><td>1001000001100001</td><td>1</td><td>1</td><td>34</td><td>3</td><td>1</td><td>50000</td><td>72</td><td>10</td></tr><tr><th>18</th><td>1001000001200001</td><td>1</td><td>1</td><td>46</td><td>11</td><td>1</td><td>43000</td><td>48</td><td>10</td></tr><tr><th>19</th><td>1001000001200005</td><td>1</td><td>3</td><td>43</td><td>13</td><td>1</td><td>20000</td><td>40</td><td>10</td></tr><tr><th>20</th><td>1001000001300003</td><td>1</td><td>3</td><td>65</td><td>11</td><td>1</td><td>17000</td><td>54</td><td>10</td></tr><tr><th>21</th><td>1001000001400001</td><td>1</td><td>3</td><td>34</td><td>11</td><td>1</td><td>20000</td><td>48</td><td>10</td></tr><tr><th>22</th><td>1001000001400003</td><td>1</td><td>1</td><td>35</td><td>11</td><td>1</td><td>30000</td><td>60</td><td>10</td></tr><tr><th>23</th><td>1001000001600004</td><td>1</td><td>3</td><td>39</td><td>13</td><td>1</td><td>26000</td><td>48</td><td>10</td></tr><tr><th>24</th><td>1001000001700001</td><td>1</td><td>1</td><td>35</td><td>3</td><td>1</td><td>43000</td><td>90</td><td>10</td></tr><tr><th>25</th><td>1001000001800001</td><td>1</td><td>3</td><td>60</td><td>4</td><td>1</td><td>21500</td><td>48</td><td>10</td></tr><tr><th>26</th><td>1001000001800002</td><td>1</td><td>3</td><td>23</td><td>11</td><td>1</td><td>40000</td><td>50</td><td>10</td></tr><tr><th>27</th><td>1001000001800003</td><td>1</td><td>1</td><td>48</td><td>12</td><td>1</td><td>21500</td><td>48</td><td>10</td></tr><tr><th>28</th><td>1001000001900001</td><td>1</td><td>3</td><td>26</td><td>11</td><td>1</td><td>7600</td><td>48</td><td>10</td></tr><tr><th>29</th><td>1001000001900002</td><td>1</td><td>1</td><td>34</td><td>11</td><td>1</td><td>12000</td><td>48</td><td>10</td></tr><tr><th>30</th><td>1001000002000002</td><td>1</td><td>3</td><td>37</td><td>11</td><td>1</td><td>4300</td><td>10</td><td>10</td></tr><tr><th>&vellip;</th><td>&vellip;</td><td>&vellip;</td><td>&vellip;</td><td>&vellip;</td><td>&vellip;</td><td>&vellip;</td><td>&vellip;</td><td>&vellip;</td><td>&vellip;</td></tr></tbody></table></div>"
      ],
      "text/latex": [
       "\\begin{tabular}{r|cccccccccc}\n",
       "\t& ID\\_PERSONA & ENT & SEXO & EDAD & NIVACAD & ALFABET & INGTRMEN & HORTRA & CONACT & \\\\\n",
       "\t\\hline\n",
       "\t& Int64 & Int64 & Int64 & Int64 & Int64? & Int64? & Int64? & Int64? & Int64? & \\\\\n",
       "\t\\hline\n",
       "\t1 & 1001000000200001 & 1 & 1 & 45 & 11 & 1 & 21500 & 40 & 10 & $\\dots$ \\\\\n",
       "\t2 & 1001000000200002 & 1 & 3 & 42 & 11 & 1 & 8600 & 40 & 10 & $\\dots$ \\\\\n",
       "\t3 & 1001000000300001 & 1 & 1 & 60 & 11 & 1 & 20000 & 48 & 10 & $\\dots$ \\\\\n",
       "\t4 & 1001000000400001 & 1 & 1 & 62 & 13 & 1 & 30000 & 21 & 10 & $\\dots$ \\\\\n",
       "\t5 & 1001000000400002 & 1 & 1 & 32 & 11 & 1 & 4000 & 48 & 10 & $\\dots$ \\\\\n",
       "\t6 & 1001000000400003 & 1 & 3 & 54 & 13 & 1 & 32000 & 42 & 10 & $\\dots$ \\\\\n",
       "\t7 & 1001000000500001 & 1 & 1 & 52 & 11 & 1 & 25000 & 0 & 20 & $\\dots$ \\\\\n",
       "\t8 & 1001000000600002 & 1 & 3 & 41 & 11 & 1 & 25000 & 40 & 10 & $\\dots$ \\\\\n",
       "\t9 & 1001000000600003 & 1 & 1 & 40 & 11 & 1 & 25000 & 72 & 10 & $\\dots$ \\\\\n",
       "\t10 & 1001000000700001 & 1 & 1 & 28 & 11 & 1 & 40000 & 60 & 10 & $\\dots$ \\\\\n",
       "\t11 & 1001000000800002 & 1 & 3 & 42 & 13 & 1 & 12000 & 45 & 10 & $\\dots$ \\\\\n",
       "\t12 & 1001000000800003 & 1 & 1 & 42 & 13 & 1 & 16000 & 45 & 10 & $\\dots$ \\\\\n",
       "\t13 & 1001000000900003 & 1 & 1 & 45 & 11 & 1 & 20000 & 42 & 10 & $\\dots$ \\\\\n",
       "\t14 & 1001000000900004 & 1 & 3 & 45 & 11 & 1 & 21500 & 20 & 10 & $\\dots$ \\\\\n",
       "\t15 & 1001000001000003 & 1 & 3 & 31 & 11 & 1 & 43000 & 25 & 10 & $\\dots$ \\\\\n",
       "\t16 & 1001000001000004 & 1 & 1 & 32 & 3 & 1 & 43000 & 60 & 10 & $\\dots$ \\\\\n",
       "\t17 & 1001000001100001 & 1 & 1 & 34 & 3 & 1 & 50000 & 72 & 10 & $\\dots$ \\\\\n",
       "\t18 & 1001000001200001 & 1 & 1 & 46 & 11 & 1 & 43000 & 48 & 10 & $\\dots$ \\\\\n",
       "\t19 & 1001000001200005 & 1 & 3 & 43 & 13 & 1 & 20000 & 40 & 10 & $\\dots$ \\\\\n",
       "\t20 & 1001000001300003 & 1 & 3 & 65 & 11 & 1 & 17000 & 54 & 10 & $\\dots$ \\\\\n",
       "\t21 & 1001000001400001 & 1 & 3 & 34 & 11 & 1 & 20000 & 48 & 10 & $\\dots$ \\\\\n",
       "\t22 & 1001000001400003 & 1 & 1 & 35 & 11 & 1 & 30000 & 60 & 10 & $\\dots$ \\\\\n",
       "\t23 & 1001000001600004 & 1 & 3 & 39 & 13 & 1 & 26000 & 48 & 10 & $\\dots$ \\\\\n",
       "\t24 & 1001000001700001 & 1 & 1 & 35 & 3 & 1 & 43000 & 90 & 10 & $\\dots$ \\\\\n",
       "\t25 & 1001000001800001 & 1 & 3 & 60 & 4 & 1 & 21500 & 48 & 10 & $\\dots$ \\\\\n",
       "\t26 & 1001000001800002 & 1 & 3 & 23 & 11 & 1 & 40000 & 50 & 10 & $\\dots$ \\\\\n",
       "\t27 & 1001000001800003 & 1 & 1 & 48 & 12 & 1 & 21500 & 48 & 10 & $\\dots$ \\\\\n",
       "\t28 & 1001000001900001 & 1 & 3 & 26 & 11 & 1 & 7600 & 48 & 10 & $\\dots$ \\\\\n",
       "\t29 & 1001000001900002 & 1 & 1 & 34 & 11 & 1 & 12000 & 48 & 10 & $\\dots$ \\\\\n",
       "\t30 & 1001000002000002 & 1 & 3 & 37 & 11 & 1 & 4300 & 10 & 10 & $\\dots$ \\\\\n",
       "\t$\\dots$ & $\\dots$ & $\\dots$ & $\\dots$ & $\\dots$ & $\\dots$ & $\\dots$ & $\\dots$ & $\\dots$ & $\\dots$ &  \\\\\n",
       "\\end{tabular}\n"
      ],
      "text/plain": [
       "\u001b[1m5525640×18 DataFrame\u001b[0m\n",
       "\u001b[1m     Row \u001b[0m│\u001b[1m ID_PERSONA        \u001b[0m\u001b[1m ENT   \u001b[0m\u001b[1m SEXO  \u001b[0m\u001b[1m EDAD  \u001b[0m\u001b[1m NIVACAD \u001b[0m\u001b[1m ALFABET \u001b[0m\u001b[1m INGTRMEN \u001b[0m\u001b[1m\u001b[0m ⋯\n",
       "\u001b[1m         \u001b[0m│\u001b[90m Int64             \u001b[0m\u001b[90m Int64 \u001b[0m\u001b[90m Int64 \u001b[0m\u001b[90m Int64 \u001b[0m\u001b[90m Int64?  \u001b[0m\u001b[90m Int64?  \u001b[0m\u001b[90m Int64?   \u001b[0m\u001b[90m\u001b[0m ⋯\n",
       "─────────┼──────────────────────────────────────────────────────────────────────\n",
       "       1 │  1001000000200001      1      1     45       11        1     21500  ⋯\n",
       "       2 │  1001000000200002      1      3     42       11        1      8600\n",
       "       3 │  1001000000300001      1      1     60       11        1     20000\n",
       "       4 │  1001000000400001      1      1     62       13        1     30000\n",
       "       5 │  1001000000400002      1      1     32       11        1      4000  ⋯\n",
       "       6 │  1001000000400003      1      3     54       13        1     32000\n",
       "       7 │  1001000000500001      1      1     52       11        1     25000\n",
       "       8 │  1001000000600002      1      3     41       11        1     25000\n",
       "       9 │  1001000000600003      1      1     40       11        1     25000  ⋯\n",
       "      10 │  1001000000700001      1      1     28       11        1     40000\n",
       "      11 │  1001000000800002      1      3     42       13        1     12000\n",
       "    ⋮    │         ⋮            ⋮      ⋮      ⋮       ⋮        ⋮        ⋮      ⋱\n",
       " 5525631 │ 32058000083500002     32      1     61       11        1      7740\n",
       " 5525632 │ 32058000083500003     32      1     20        4        1      6450  ⋯\n",
       " 5525633 │ 32058000083700002     32      1     53        2        1      4000\n",
       " 5525634 │ 32058000083900004     32      1     46        3        1      5160\n",
       " 5525635 │ 32058000084000005     32      1     37       11        1     10000\n",
       " 5525636 │ 32058000084400004     32      1     30        3        1      1200  ⋯\n",
       " 5525637 │ 32058000084500002     32      1     50       11        1         0\n",
       " 5525638 │ 32058000084600001     32      1     50        3        1      3440\n",
       " 5525639 │ 32058000084700001     32      1     28        4        1      6450\n",
       " 5525640 │ 32058000084800003     32      1     38        3        1      5000  ⋯\n",
       "\u001b[36m                                             11 columns and 5525619 rows omitted\u001b[0m"
      ]
     },
     "execution_count": 40,
     "metadata": {},
     "output_type": "execute_result"
    }
   ],
   "source": [
    "# Es momento de filtrar\n",
    "\n",
    "# Primero filtramos con las personas que actually trabajan\n",
    "cond_act = [10, 13, 14, 15, 16, 17, 18, 19, 20]\n",
    "personas_filt = subset(personas_filt, :CONACT => ByRow(in(cond_act)), skipmissing = true)\n",
    "\n",
    "\n",
    "function diferente_a(dataframe, columna, condicion)\n",
    "    dataframe = subset(dataframe, :columna => ByRow(!= (condicion)), skipmissing = true)\n",
    "end\n",
    "\n",
    "function hacer_categorical(dataframe, vector_nombres)\n",
    "    for i=1:length(vector_nombres)\n",
    "        df_mil[:, vector_nombres[i]] = as.categorical(df_mil[:, vector_nombres[i]])\n",
    "    end\n",
    "end\n",
    "\n",
    "\n",
    "\n",
    "personas_filt = subset(personas_filt, :ENT_PAIS_TRAB => ByRow(<(33)), skipmissing = true)\n",
    "\n",
    "df_mil.SEXO = categorical(df_mil.SEXO) \n",
    "df_mil.NIVACAD = categorical(df_mil.NIVACAD)\n",
    "df_mil.ENT_PAIS_TRAB = categorical(df_mil.ENT_PAIS_TRAB)\n",
    "\n",
    "#Agregar SITTRA diferente de 9 con skipmissing = true y as.categorical\n",
    "# AGUINALDO, VACACIONES, SERVICIO_MEDICO, UTILIDADES, INCAP_SUELDO, SAR_AFORE, CREDITO_VIVIENDA\n",
    "# diferente de 9 y agregar as.categorical\n",
    "# Agregar ENT as.categorical\n",
    "# ALFABET diferente de 9 con skipmissing = true\n",
    "\n"
   ]
  },
  {
   "cell_type": "code",
   "execution_count": 41,
   "id": "605f13a5",
   "metadata": {},
   "outputs": [
    {
     "data": {
      "text/html": [
       "<div class=\"data-frame\"><p>5,000 rows × 18 columns (omitted printing of 9 columns)</p><table class=\"data-frame\"><thead><tr><th></th><th>ID_PERSONA</th><th>ENT</th><th>SEXO</th><th>EDAD</th><th>NIVACAD</th><th>ALFABET</th><th>INGTRMEN</th><th>HORTRA</th><th>CONACT</th></tr><tr><th></th><th title=\"Int64\">Int64</th><th title=\"Int64\">Int64</th><th title=\"Int64\">Int64</th><th title=\"Int64\">Int64</th><th title=\"Union{Missing, Int64}\">Int64?</th><th title=\"Union{Missing, Int64}\">Int64?</th><th title=\"Union{Missing, Int64}\">Int64?</th><th title=\"Union{Missing, Int64}\">Int64?</th><th title=\"Union{Missing, Int64}\">Int64?</th></tr></thead><tbody><tr><th>1</th><td>13005000085800001</td><td>13</td><td>1</td><td>39</td><td>3</td><td>1</td><td>6450</td><td>55</td><td>10</td></tr><tr><th>2</th><td>7093000313200004</td><td>7</td><td>3</td><td>14</td><td>2</td><td>1</td><td>0</td><td>14</td><td>10</td></tr><tr><th>3</th><td>12074000270500001</td><td>12</td><td>3</td><td>48</td><td>2</td><td>1</td><td>215</td><td>15</td><td>16</td></tr><tr><th>4</th><td>20148000001000003</td><td>20</td><td>3</td><td>66</td><td>0</td><td>3</td><td>430</td><td>42</td><td>16</td></tr><tr><th>5</th><td>20065000005900002</td><td>20</td><td>1</td><td>55</td><td>2</td><td>1</td><td>2000</td><td>50</td><td>10</td></tr><tr><th>6</th><td>15087000169500001</td><td>15</td><td>1</td><td>38</td><td>4</td><td>1</td><td>24000</td><td>25</td><td>10</td></tr><tr><th>7</th><td>15085000181100005</td><td>15</td><td>3</td><td>79</td><td>0</td><td>3</td><td>645</td><td>5</td><td>10</td></tr><tr><th>8</th><td>27006000090000001</td><td>27</td><td>1</td><td>32</td><td>11</td><td>1</td><td>30100</td><td>60</td><td>10</td></tr><tr><th>9</th><td>16041000079800002</td><td>16</td><td>1</td><td>34</td><td>2</td><td>1</td><td>5160</td><td>60</td><td>10</td></tr><tr><th>10</th><td>12023000206300002</td><td>12</td><td>3</td><td>15</td><td>3</td><td>1</td><td>2150</td><td>42</td><td>10</td></tr><tr><th>11</th><td>17007000269800005</td><td>17</td><td>1</td><td>39</td><td>3</td><td>1</td><td>5160</td><td>48</td><td>10</td></tr><tr><th>12</th><td>16085000103500003</td><td>16</td><td>3</td><td>36</td><td>3</td><td>1</td><td>6450</td><td>40</td><td>10</td></tr><tr><th>13</th><td>30022000095000004</td><td>30</td><td>1</td><td>62</td><td>2</td><td>1</td><td>2580</td><td>48</td><td>10</td></tr><tr><th>14</th><td>7023000603100002</td><td>7</td><td>1</td><td>46</td><td>2</td><td>1</td><td>1290</td><td>40</td><td>10</td></tr><tr><th>15</th><td>20338000045700001</td><td>20</td><td>3</td><td>61</td><td>7</td><td>1</td><td>12900</td><td>40</td><td>10</td></tr><tr><th>16</th><td>21183000129900006</td><td>21</td><td>1</td><td>61</td><td>2</td><td>1</td><td>3225</td><td>60</td><td>10</td></tr><tr><th>17</th><td>20309000160300005</td><td>20</td><td>1</td><td>49</td><td>2</td><td>1</td><td>1290</td><td>40</td><td>10</td></tr><tr><th>18</th><td>17035000014900002</td><td>17</td><td>3</td><td>48</td><td>3</td><td>1</td><td>1720</td><td>30</td><td>16</td></tr><tr><th>19</th><td>18016000030300001</td><td>18</td><td>1</td><td>61</td><td>2</td><td>1</td><td>3960</td><td>48</td><td>10</td></tr><tr><th>20</th><td>21119000271800005</td><td>21</td><td>1</td><td>35</td><td>3</td><td>1</td><td>7310</td><td>45</td><td>10</td></tr><tr><th>21</th><td>27014000105100002</td><td>27</td><td>1</td><td>18</td><td>3</td><td>1</td><td>2150</td><td>30</td><td>10</td></tr><tr><th>22</th><td>20447000035200001</td><td>20</td><td>3</td><td>59</td><td>5</td><td>1</td><td>2150</td><td>60</td><td>10</td></tr><tr><th>23</th><td>30089000152300001</td><td>30</td><td>1</td><td>52</td><td>0</td><td>3</td><td>3870</td><td>36</td><td>10</td></tr><tr><th>24</th><td>2001000143000004</td><td>2</td><td>1</td><td>22</td><td>4</td><td>1</td><td>12900</td><td>33</td><td>10</td></tr><tr><th>25</th><td>30115000091000001</td><td>30</td><td>1</td><td>20</td><td>3</td><td>1</td><td>2150</td><td>30</td><td>10</td></tr><tr><th>26</th><td>16066000008800007</td><td>16</td><td>3</td><td>28</td><td>4</td><td>1</td><td>3010</td><td>45</td><td>10</td></tr><tr><th>27</th><td>11007000358300005</td><td>11</td><td>1</td><td>26</td><td>4</td><td>1</td><td>12000</td><td>84</td><td>10</td></tr><tr><th>28</th><td>16102000428100004</td><td>16</td><td>3</td><td>36</td><td>11</td><td>1</td><td>3200</td><td>20</td><td>10</td></tr><tr><th>29</th><td>19014000001600001</td><td>19</td><td>3</td><td>35</td><td>4</td><td>1</td><td>12000</td><td>48</td><td>10</td></tr><tr><th>30</th><td>21122000011500003</td><td>21</td><td>1</td><td>29</td><td>2</td><td>1</td><td>1290</td><td>24</td><td>10</td></tr><tr><th>&vellip;</th><td>&vellip;</td><td>&vellip;</td><td>&vellip;</td><td>&vellip;</td><td>&vellip;</td><td>&vellip;</td><td>&vellip;</td><td>&vellip;</td><td>&vellip;</td></tr></tbody></table></div>"
      ],
      "text/latex": [
       "\\begin{tabular}{r|cccccccccc}\n",
       "\t& ID\\_PERSONA & ENT & SEXO & EDAD & NIVACAD & ALFABET & INGTRMEN & HORTRA & CONACT & \\\\\n",
       "\t\\hline\n",
       "\t& Int64 & Int64 & Int64 & Int64 & Int64? & Int64? & Int64? & Int64? & Int64? & \\\\\n",
       "\t\\hline\n",
       "\t1 & 13005000085800001 & 13 & 1 & 39 & 3 & 1 & 6450 & 55 & 10 & $\\dots$ \\\\\n",
       "\t2 & 7093000313200004 & 7 & 3 & 14 & 2 & 1 & 0 & 14 & 10 & $\\dots$ \\\\\n",
       "\t3 & 12074000270500001 & 12 & 3 & 48 & 2 & 1 & 215 & 15 & 16 & $\\dots$ \\\\\n",
       "\t4 & 20148000001000003 & 20 & 3 & 66 & 0 & 3 & 430 & 42 & 16 & $\\dots$ \\\\\n",
       "\t5 & 20065000005900002 & 20 & 1 & 55 & 2 & 1 & 2000 & 50 & 10 & $\\dots$ \\\\\n",
       "\t6 & 15087000169500001 & 15 & 1 & 38 & 4 & 1 & 24000 & 25 & 10 & $\\dots$ \\\\\n",
       "\t7 & 15085000181100005 & 15 & 3 & 79 & 0 & 3 & 645 & 5 & 10 & $\\dots$ \\\\\n",
       "\t8 & 27006000090000001 & 27 & 1 & 32 & 11 & 1 & 30100 & 60 & 10 & $\\dots$ \\\\\n",
       "\t9 & 16041000079800002 & 16 & 1 & 34 & 2 & 1 & 5160 & 60 & 10 & $\\dots$ \\\\\n",
       "\t10 & 12023000206300002 & 12 & 3 & 15 & 3 & 1 & 2150 & 42 & 10 & $\\dots$ \\\\\n",
       "\t11 & 17007000269800005 & 17 & 1 & 39 & 3 & 1 & 5160 & 48 & 10 & $\\dots$ \\\\\n",
       "\t12 & 16085000103500003 & 16 & 3 & 36 & 3 & 1 & 6450 & 40 & 10 & $\\dots$ \\\\\n",
       "\t13 & 30022000095000004 & 30 & 1 & 62 & 2 & 1 & 2580 & 48 & 10 & $\\dots$ \\\\\n",
       "\t14 & 7023000603100002 & 7 & 1 & 46 & 2 & 1 & 1290 & 40 & 10 & $\\dots$ \\\\\n",
       "\t15 & 20338000045700001 & 20 & 3 & 61 & 7 & 1 & 12900 & 40 & 10 & $\\dots$ \\\\\n",
       "\t16 & 21183000129900006 & 21 & 1 & 61 & 2 & 1 & 3225 & 60 & 10 & $\\dots$ \\\\\n",
       "\t17 & 20309000160300005 & 20 & 1 & 49 & 2 & 1 & 1290 & 40 & 10 & $\\dots$ \\\\\n",
       "\t18 & 17035000014900002 & 17 & 3 & 48 & 3 & 1 & 1720 & 30 & 16 & $\\dots$ \\\\\n",
       "\t19 & 18016000030300001 & 18 & 1 & 61 & 2 & 1 & 3960 & 48 & 10 & $\\dots$ \\\\\n",
       "\t20 & 21119000271800005 & 21 & 1 & 35 & 3 & 1 & 7310 & 45 & 10 & $\\dots$ \\\\\n",
       "\t21 & 27014000105100002 & 27 & 1 & 18 & 3 & 1 & 2150 & 30 & 10 & $\\dots$ \\\\\n",
       "\t22 & 20447000035200001 & 20 & 3 & 59 & 5 & 1 & 2150 & 60 & 10 & $\\dots$ \\\\\n",
       "\t23 & 30089000152300001 & 30 & 1 & 52 & 0 & 3 & 3870 & 36 & 10 & $\\dots$ \\\\\n",
       "\t24 & 2001000143000004 & 2 & 1 & 22 & 4 & 1 & 12900 & 33 & 10 & $\\dots$ \\\\\n",
       "\t25 & 30115000091000001 & 30 & 1 & 20 & 3 & 1 & 2150 & 30 & 10 & $\\dots$ \\\\\n",
       "\t26 & 16066000008800007 & 16 & 3 & 28 & 4 & 1 & 3010 & 45 & 10 & $\\dots$ \\\\\n",
       "\t27 & 11007000358300005 & 11 & 1 & 26 & 4 & 1 & 12000 & 84 & 10 & $\\dots$ \\\\\n",
       "\t28 & 16102000428100004 & 16 & 3 & 36 & 11 & 1 & 3200 & 20 & 10 & $\\dots$ \\\\\n",
       "\t29 & 19014000001600001 & 19 & 3 & 35 & 4 & 1 & 12000 & 48 & 10 & $\\dots$ \\\\\n",
       "\t30 & 21122000011500003 & 21 & 1 & 29 & 2 & 1 & 1290 & 24 & 10 & $\\dots$ \\\\\n",
       "\t$\\dots$ & $\\dots$ & $\\dots$ & $\\dots$ & $\\dots$ & $\\dots$ & $\\dots$ & $\\dots$ & $\\dots$ & $\\dots$ &  \\\\\n",
       "\\end{tabular}\n"
      ],
      "text/plain": [
       "\u001b[1m5000×18 DataFrame\u001b[0m\n",
       "\u001b[1m  Row \u001b[0m│\u001b[1m ID_PERSONA        \u001b[0m\u001b[1m ENT   \u001b[0m\u001b[1m SEXO  \u001b[0m\u001b[1m EDAD  \u001b[0m\u001b[1m NIVACAD \u001b[0m\u001b[1m ALFABET \u001b[0m\u001b[1m INGTRMEN \u001b[0m\u001b[1m HO\u001b[0m ⋯\n",
       "\u001b[1m      \u001b[0m│\u001b[90m Int64             \u001b[0m\u001b[90m Int64 \u001b[0m\u001b[90m Int64 \u001b[0m\u001b[90m Int64 \u001b[0m\u001b[90m Int64?  \u001b[0m\u001b[90m Int64?  \u001b[0m\u001b[90m Int64?   \u001b[0m\u001b[90m In\u001b[0m ⋯\n",
       "──────┼─────────────────────────────────────────────────────────────────────────\n",
       "    1 │ 13005000085800001     13      1     39        3        1      6450     ⋯\n",
       "    2 │  7093000313200004      7      3     14        2        1         0\n",
       "    3 │ 12074000270500001     12      3     48        2        1       215\n",
       "    4 │ 20148000001000003     20      3     66        0        3       430\n",
       "    5 │ 20065000005900002     20      1     55        2        1      2000     ⋯\n",
       "    6 │ 15087000169500001     15      1     38        4        1     24000\n",
       "    7 │ 15085000181100005     15      3     79        0        3       645\n",
       "    8 │ 27006000090000001     27      1     32       11        1     30100\n",
       "    9 │ 16041000079800002     16      1     34        2        1      5160     ⋯\n",
       "   10 │ 12023000206300002     12      3     15        3        1      2150\n",
       "   11 │ 17007000269800005     17      1     39        3        1      5160\n",
       "  ⋮   │         ⋮            ⋮      ⋮      ⋮       ⋮        ⋮        ⋮         ⋱\n",
       " 4991 │ 15120000229200001     15      1     79        2        1      3440\n",
       " 4992 │ 16050000082800008     16      1     13        2        1      5160     ⋯\n",
       " 4993 │ 24007000039100001     24      1     52       10        1     16340\n",
       " 4994 │ 20530000073700004     20      3     36        3        1      2580\n",
       " 4995 │ 15023000043400002     15      1     29        4        1    382218\n",
       " 4996 │  7101000240600004      7      1     25       11        1      8600     ⋯\n",
       " 4997 │ 31083000028200001     31      1     65        2        1      2580\n",
       " 4998 │  7063000091300005      7      1     37        2        1         0\n",
       " 4999 │ 16006000222200001     16      1     23       11        1      4300\n",
       " 5000 │ 27007000066500001     27      1     40        2        1     34400     ⋯\n",
       "\u001b[36m                                                11 columns and 4979 rows omitted\u001b[0m"
      ]
     },
     "execution_count": 41,
     "metadata": {},
     "output_type": "execute_result"
    }
   ],
   "source": [
    "sample_rows = sample(1:nrow(personas_filt), 5000, replace=false)\n",
    "\n",
    "df_mil = personas_filt[sample_rows, :]"
   ]
  },
  {
   "cell_type": "code",
   "execution_count": 42,
   "id": "5324ebad",
   "metadata": {},
   "outputs": [
    {
     "data": {
      "text/plain": [
       "5000-element CategoricalArray{Union{Missing, Int64},1,UInt32}:\n",
       " 13\n",
       " 7\n",
       " 12\n",
       " 20\n",
       " 20\n",
       " 15\n",
       " 15\n",
       " 27\n",
       " 16\n",
       " 12\n",
       " 17\n",
       " 16\n",
       " 30\n",
       " ⋮\n",
       " 16\n",
       " 7\n",
       " 15\n",
       " 16\n",
       " 24\n",
       " 20\n",
       " 15\n",
       " 7\n",
       " 31\n",
       " 7\n",
       " 16\n",
       " 27"
      ]
     },
     "execution_count": 42,
     "metadata": {},
     "output_type": "execute_result"
    }
   ],
   "source": [
    "df_mil.SEXO = categorical(df_mil.SEXO) \n",
    "df_mil.NIVACAD = categorical(df_mil.NIVACAD)\n",
    "df_mil.ENT_PAIS_TRAB = categorical(df_mil.ENT_PAIS_TRAB)"
   ]
  },
  {
   "cell_type": "code",
   "execution_count": 43,
   "id": "1bf334fb",
   "metadata": {},
   "outputs": [
    {
     "data": {
      "text/plain": [
       "\"5mil.csv\""
      ]
     },
     "execution_count": 43,
     "metadata": {},
     "output_type": "execute_result"
    }
   ],
   "source": [
    "CSV.write(\"5mil.csv\", df_mil)"
   ]
  },
  {
   "cell_type": "code",
   "execution_count": 44,
   "id": "80283270",
   "metadata": {},
   "outputs": [
    {
     "data": {
      "text/plain": [
       "StatsModels.TableRegressionModel{LinearModel{GLM.LmResp{Vector{Float64}}, GLM.DensePredChol{Float64, LinearAlgebra.CholeskyPivoted{Float64, Matrix{Float64}}}}, Matrix{Float64}}\n",
       "\n",
       "INGTRMEN ~ 1 + SEXO + EDAD + NIVACAD + HORTRA + ENT_PAIS_TRAB\n",
       "\n",
       "Coefficients:\n",
       "──────────────────────────────────────────────────────────────────────────────────\n",
       "                        Coef.  Std. Error      t  Pr(>|t|)    Lower 95%  Upper 95%\n",
       "──────────────────────────────────────────────────────────────────────────────────\n",
       "(Intercept)        -5453.42    12639.9     -0.43    0.6662  -30233.3     19326.4\n",
       "SEXO: 3              398.937    1898.65     0.21    0.8336   -3323.25     4121.12\n",
       "EDAD                  44.3742     64.5973   0.69    0.4922     -82.2651    171.013\n",
       "NIVACAD: 1         -5784.24    16262.3     -0.36    0.7221  -37665.6     26097.1\n",
       "NIVACAD: 2           154.647    3857.34     0.04    0.9680   -7407.45     7716.74\n",
       "NIVACAD: 3          3366.18     4048.72     0.83    0.4058   -4571.12    11303.5\n",
       "NIVACAD: 4          3890.98     4305.26     0.90    0.3662   -4549.23    12331.2\n",
       "NIVACAD: 5         -1174.96     7319.2     -0.16    0.8725  -15523.8     13173.9\n",
       "NIVACAD: 6         -3823.73    19860.8     -0.19    0.8473  -42759.7     35112.2\n",
       "NIVACAD: 7           -88.3826  11333.8     -0.01    0.9938  -22307.6     22130.8\n",
       "NIVACAD: 8         22161.5      9865.11     2.25    0.0247    2821.48    41501.5\n",
       "NIVACAD: 9          2503.06    27741.7      0.09    0.9281  -51882.9     56889.0\n",
       "NIVACAD: 10         4838.91    10486.5      0.46    0.6445  -15719.3     25397.1\n",
       "NIVACAD: 11        10011.3      4489.78     2.23    0.0258    1209.37    18813.3\n",
       "NIVACAD: 12        11527.6     13920.2      0.83    0.4076  -15762.1     38817.3\n",
       "NIVACAD: 13         8380.9     10658.7      0.79    0.4317  -12514.9     29276.7\n",
       "NIVACAD: 14         -256.612   25403.2     -0.01    0.9919  -50058.1     49544.9\n",
       "NIVACAD: 99         4325.2     22094.3      0.20    0.8448  -38989.5     47639.9\n",
       "HORTRA               135.492      21.5781   6.28    <1e-09      93.1898    177.795\n",
       "ENT_PAIS_TRAB: 2    5020.55    16009.7      0.31    0.7538  -26365.5     36406.6\n",
       "ENT_PAIS_TRAB: 3    3309.05    20620.2      0.16    0.8725  -37115.6     43733.7\n",
       "ENT_PAIS_TRAB: 4    1847.63    15301.3      0.12    0.9039  -28149.7     31845.0\n",
       "ENT_PAIS_TRAB: 5   13835.2     13730.6      1.01    0.3137  -13082.8     40753.2\n",
       "ENT_PAIS_TRAB: 6    2966.98    17729.7      0.17    0.8671  -31791.1     37725.1\n",
       "ENT_PAIS_TRAB: 7    1806.86    12113.7      0.15    0.8814  -21941.4     25555.1\n",
       "ENT_PAIS_TRAB: 8   34100.7     13196.1      2.58    0.0098    8230.53    59970.8\n",
       "ENT_PAIS_TRAB: 9   21622.4     12605.1      1.72    0.0863   -3089.18    46333.9\n",
       "ENT_PAIS_TRAB: 10    871.365   13938.6      0.06    0.9502  -26454.4     28197.1\n",
       "ENT_PAIS_TRAB: 11    805.094   12551.7      0.06    0.9489  -23801.7     25411.9\n",
       "ENT_PAIS_TRAB: 12   -550.631   12446.8     -0.04    0.9647  -24951.9     23850.7\n",
       "ENT_PAIS_TRAB: 13   5534.31    12622.6      0.44    0.6611  -19211.6     30280.3\n",
       "ENT_PAIS_TRAB: 14   1459.87    12190.2      0.12    0.9047  -22438.4     25358.1\n",
       "ENT_PAIS_TRAB: 15  12009.3     11974.6      1.00    0.3160  -11466.1     35484.8\n",
       "ENT_PAIS_TRAB: 16   4683.69    12243.7      0.38    0.7021  -19319.3     28686.7\n",
       "ENT_PAIS_TRAB: 17    -23.5903  13350.0     -0.00    0.9986  -26195.4     26148.3\n",
       "ENT_PAIS_TRAB: 18   -319.656   14732.1     -0.02    0.9827  -29201.1     28561.8\n",
       "ENT_PAIS_TRAB: 19  16815.9     12630.6      1.33    0.1831   -7945.7     41577.5\n",
       "ENT_PAIS_TRAB: 20    587.683   11878.6      0.05    0.9605  -22699.6     23875.0\n",
       "ENT_PAIS_TRAB: 21   -758.335   12002.3     -0.06    0.9496  -24288.2     22771.6\n",
       "ENT_PAIS_TRAB: 22  -1748.13    14152.4     -0.12    0.9017  -29493.2     25996.9\n",
       "ENT_PAIS_TRAB: 23    313.005   14597.8      0.02    0.9829  -28305.2     28931.2\n",
       "ENT_PAIS_TRAB: 24  10490.9     13151.5      0.80    0.4251  -15291.9     36273.6\n",
       "ENT_PAIS_TRAB: 25   1312.15    14399.2      0.09    0.9274  -26916.7     29541.0\n",
       "ENT_PAIS_TRAB: 26    693.884   13158.5      0.05    0.9579  -25102.6     26490.3\n",
       "ENT_PAIS_TRAB: 27    281.152   13818.9      0.02    0.9838  -26810.1     27372.4\n",
       "ENT_PAIS_TRAB: 28   -394.143   13309.3     -0.03    0.9764  -26486.3     25698.0\n",
       "ENT_PAIS_TRAB: 29  -1019.96    12957.1     -0.08    0.9373  -26421.6     24381.6\n",
       "ENT_PAIS_TRAB: 30   -726.016   11955.1     -0.06    0.9516  -24163.3     22711.2\n",
       "ENT_PAIS_TRAB: 31   -194.091   12548.1     -0.02    0.9877  -24793.9     24405.7\n",
       "ENT_PAIS_TRAB: 32   1038.33    13012.1      0.08    0.9364  -24471.2     26547.9\n",
       "──────────────────────────────────────────────────────────────────────────────────"
      ]
     },
     "execution_count": 44,
     "metadata": {},
     "output_type": "execute_result"
    }
   ],
   "source": [
    "miles_fit = lm(@formula(INGTRMEN ~ SEXO + EDAD + NIVACAD + HORTRA + ENT_PAIS_TRAB), df_mil)"
   ]
  },
  {
   "cell_type": "code",
   "execution_count": null,
   "id": "e67fa097",
   "metadata": {},
   "outputs": [],
   "source": []
  }
 ],
 "metadata": {
  "kernelspec": {
   "display_name": "Julia 1.6.3",
   "language": "julia",
   "name": "julia-1.6"
  },
  "language_info": {
   "file_extension": ".jl",
   "mimetype": "application/julia",
   "name": "julia",
   "version": "1.6.3"
  }
 },
 "nbformat": 4,
 "nbformat_minor": 5
}
