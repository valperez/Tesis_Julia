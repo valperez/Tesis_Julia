{
 "cells": [
  {
   "cell_type": "code",
   "execution_count": 1,
   "id": "df9cf3cb",
   "metadata": {},
   "outputs": [],
   "source": [
    "# # # Recuerda no correr todo a menos que sea necesario\n",
    "# # # Usa lo ya filtrado\n",
    "#using Pkg; Pkg.add(\"CategoricalArrays\")"
   ]
  },
  {
   "cell_type": "code",
   "execution_count": 1,
   "id": "79a41179",
   "metadata": {},
   "outputs": [],
   "source": [
    "using CSV, DataFrames, StatsBase, GLM, Random, CategoricalArrays"
   ]
  },
  {
   "cell_type": "code",
   "execution_count": 2,
   "id": "f594a9d8",
   "metadata": {},
   "outputs": [
    {
     "data": {
      "text/plain": [
       "MersenneTwister(99)"
      ]
     },
     "execution_count": 2,
     "metadata": {},
     "output_type": "execute_result"
    }
   ],
   "source": [
    "# Equivalente a set.seed\n",
    "Random.seed!(99)"
   ]
  },
  {
   "cell_type": "code",
   "execution_count": 3,
   "id": "bce64ca3",
   "metadata": {},
   "outputs": [
    {
     "data": {
      "text/html": [
       "<div class=\"data-frame\"><p>15,015,683 rows × 92 columns (omitted printing of 85 columns)</p><table class=\"data-frame\"><thead><tr><th></th><th>ENT</th><th>MUN</th><th>LOC50K</th><th>ID_VIV</th><th>ID_PERSONA</th><th>COBERTURA</th><th>ESTRATO</th></tr><tr><th></th><th title=\"Int64\">Int64</th><th title=\"Int64\">Int64</th><th title=\"Int64\">Int64</th><th title=\"Int64\">Int64</th><th title=\"Int64\">Int64</th><th title=\"Int64\">Int64</th><th title=\"String15\">String15</th></tr></thead><tbody><tr><th>1</th><td>1</td><td>1</td><td>1</td><td>10010000001</td><td>1001000000100001</td><td>2</td><td>01-001-0001-00</td></tr><tr><th>2</th><td>1</td><td>1</td><td>1</td><td>10010000001</td><td>1001000000100002</td><td>2</td><td>01-001-0001-00</td></tr><tr><th>3</th><td>1</td><td>1</td><td>1</td><td>10010000001</td><td>1001000000100003</td><td>2</td><td>01-001-0001-00</td></tr><tr><th>4</th><td>1</td><td>1</td><td>1</td><td>10010000002</td><td>1001000000200001</td><td>2</td><td>01-001-0001-00</td></tr><tr><th>5</th><td>1</td><td>1</td><td>1</td><td>10010000002</td><td>1001000000200002</td><td>2</td><td>01-001-0001-00</td></tr><tr><th>6</th><td>1</td><td>1</td><td>1</td><td>10010000002</td><td>1001000000200003</td><td>2</td><td>01-001-0001-00</td></tr><tr><th>7</th><td>1</td><td>1</td><td>1</td><td>10010000002</td><td>1001000000200004</td><td>2</td><td>01-001-0001-00</td></tr><tr><th>8</th><td>1</td><td>1</td><td>1</td><td>10010000003</td><td>1001000000300001</td><td>2</td><td>01-001-0001-00</td></tr><tr><th>9</th><td>1</td><td>1</td><td>1</td><td>10010000004</td><td>1001000000400001</td><td>2</td><td>01-001-0001-00</td></tr><tr><th>10</th><td>1</td><td>1</td><td>1</td><td>10010000004</td><td>1001000000400002</td><td>2</td><td>01-001-0001-00</td></tr><tr><th>11</th><td>1</td><td>1</td><td>1</td><td>10010000004</td><td>1001000000400003</td><td>2</td><td>01-001-0001-00</td></tr><tr><th>12</th><td>1</td><td>1</td><td>1</td><td>10010000005</td><td>1001000000500001</td><td>2</td><td>01-001-0001-00</td></tr><tr><th>13</th><td>1</td><td>1</td><td>1</td><td>10010000005</td><td>1001000000500002</td><td>2</td><td>01-001-0001-00</td></tr><tr><th>14</th><td>1</td><td>1</td><td>1</td><td>10010000005</td><td>1001000000500003</td><td>2</td><td>01-001-0001-00</td></tr><tr><th>15</th><td>1</td><td>1</td><td>1</td><td>10010000005</td><td>1001000000500004</td><td>2</td><td>01-001-0001-00</td></tr><tr><th>16</th><td>1</td><td>1</td><td>1</td><td>10010000006</td><td>1001000000600001</td><td>2</td><td>01-001-0001-00</td></tr><tr><th>17</th><td>1</td><td>1</td><td>1</td><td>10010000006</td><td>1001000000600002</td><td>2</td><td>01-001-0001-00</td></tr><tr><th>18</th><td>1</td><td>1</td><td>1</td><td>10010000006</td><td>1001000000600003</td><td>2</td><td>01-001-0001-00</td></tr><tr><th>19</th><td>1</td><td>1</td><td>1</td><td>10010000006</td><td>1001000000600004</td><td>2</td><td>01-001-0001-00</td></tr><tr><th>20</th><td>1</td><td>1</td><td>1</td><td>10010000007</td><td>1001000000700001</td><td>2</td><td>01-001-0001-00</td></tr><tr><th>21</th><td>1</td><td>1</td><td>1</td><td>10010000008</td><td>1001000000800001</td><td>2</td><td>01-001-0001-00</td></tr><tr><th>22</th><td>1</td><td>1</td><td>1</td><td>10010000008</td><td>1001000000800002</td><td>2</td><td>01-001-0001-00</td></tr><tr><th>23</th><td>1</td><td>1</td><td>1</td><td>10010000008</td><td>1001000000800003</td><td>2</td><td>01-001-0001-00</td></tr><tr><th>24</th><td>1</td><td>1</td><td>1</td><td>10010000008</td><td>1001000000800004</td><td>2</td><td>01-001-0001-00</td></tr><tr><th>25</th><td>1</td><td>1</td><td>1</td><td>10010000009</td><td>1001000000900001</td><td>2</td><td>01-001-0001-00</td></tr><tr><th>26</th><td>1</td><td>1</td><td>1</td><td>10010000009</td><td>1001000000900002</td><td>2</td><td>01-001-0001-00</td></tr><tr><th>27</th><td>1</td><td>1</td><td>1</td><td>10010000009</td><td>1001000000900003</td><td>2</td><td>01-001-0001-00</td></tr><tr><th>28</th><td>1</td><td>1</td><td>1</td><td>10010000009</td><td>1001000000900004</td><td>2</td><td>01-001-0001-00</td></tr><tr><th>29</th><td>1</td><td>1</td><td>1</td><td>10010000010</td><td>1001000001000001</td><td>2</td><td>01-001-0001-00</td></tr><tr><th>30</th><td>1</td><td>1</td><td>1</td><td>10010000010</td><td>1001000001000002</td><td>2</td><td>01-001-0001-00</td></tr><tr><th>&vellip;</th><td>&vellip;</td><td>&vellip;</td><td>&vellip;</td><td>&vellip;</td><td>&vellip;</td><td>&vellip;</td><td>&vellip;</td></tr></tbody></table></div>"
      ],
      "text/latex": [
       "\\begin{tabular}{r|cccccccc}\n",
       "\t& ENT & MUN & LOC50K & ID\\_VIV & ID\\_PERSONA & COBERTURA & ESTRATO & \\\\\n",
       "\t\\hline\n",
       "\t& Int64 & Int64 & Int64 & Int64 & Int64 & Int64 & String15 & \\\\\n",
       "\t\\hline\n",
       "\t1 & 1 & 1 & 1 & 10010000001 & 1001000000100001 & 2 & 01-001-0001-00 & $\\dots$ \\\\\n",
       "\t2 & 1 & 1 & 1 & 10010000001 & 1001000000100002 & 2 & 01-001-0001-00 & $\\dots$ \\\\\n",
       "\t3 & 1 & 1 & 1 & 10010000001 & 1001000000100003 & 2 & 01-001-0001-00 & $\\dots$ \\\\\n",
       "\t4 & 1 & 1 & 1 & 10010000002 & 1001000000200001 & 2 & 01-001-0001-00 & $\\dots$ \\\\\n",
       "\t5 & 1 & 1 & 1 & 10010000002 & 1001000000200002 & 2 & 01-001-0001-00 & $\\dots$ \\\\\n",
       "\t6 & 1 & 1 & 1 & 10010000002 & 1001000000200003 & 2 & 01-001-0001-00 & $\\dots$ \\\\\n",
       "\t7 & 1 & 1 & 1 & 10010000002 & 1001000000200004 & 2 & 01-001-0001-00 & $\\dots$ \\\\\n",
       "\t8 & 1 & 1 & 1 & 10010000003 & 1001000000300001 & 2 & 01-001-0001-00 & $\\dots$ \\\\\n",
       "\t9 & 1 & 1 & 1 & 10010000004 & 1001000000400001 & 2 & 01-001-0001-00 & $\\dots$ \\\\\n",
       "\t10 & 1 & 1 & 1 & 10010000004 & 1001000000400002 & 2 & 01-001-0001-00 & $\\dots$ \\\\\n",
       "\t11 & 1 & 1 & 1 & 10010000004 & 1001000000400003 & 2 & 01-001-0001-00 & $\\dots$ \\\\\n",
       "\t12 & 1 & 1 & 1 & 10010000005 & 1001000000500001 & 2 & 01-001-0001-00 & $\\dots$ \\\\\n",
       "\t13 & 1 & 1 & 1 & 10010000005 & 1001000000500002 & 2 & 01-001-0001-00 & $\\dots$ \\\\\n",
       "\t14 & 1 & 1 & 1 & 10010000005 & 1001000000500003 & 2 & 01-001-0001-00 & $\\dots$ \\\\\n",
       "\t15 & 1 & 1 & 1 & 10010000005 & 1001000000500004 & 2 & 01-001-0001-00 & $\\dots$ \\\\\n",
       "\t16 & 1 & 1 & 1 & 10010000006 & 1001000000600001 & 2 & 01-001-0001-00 & $\\dots$ \\\\\n",
       "\t17 & 1 & 1 & 1 & 10010000006 & 1001000000600002 & 2 & 01-001-0001-00 & $\\dots$ \\\\\n",
       "\t18 & 1 & 1 & 1 & 10010000006 & 1001000000600003 & 2 & 01-001-0001-00 & $\\dots$ \\\\\n",
       "\t19 & 1 & 1 & 1 & 10010000006 & 1001000000600004 & 2 & 01-001-0001-00 & $\\dots$ \\\\\n",
       "\t20 & 1 & 1 & 1 & 10010000007 & 1001000000700001 & 2 & 01-001-0001-00 & $\\dots$ \\\\\n",
       "\t21 & 1 & 1 & 1 & 10010000008 & 1001000000800001 & 2 & 01-001-0001-00 & $\\dots$ \\\\\n",
       "\t22 & 1 & 1 & 1 & 10010000008 & 1001000000800002 & 2 & 01-001-0001-00 & $\\dots$ \\\\\n",
       "\t23 & 1 & 1 & 1 & 10010000008 & 1001000000800003 & 2 & 01-001-0001-00 & $\\dots$ \\\\\n",
       "\t24 & 1 & 1 & 1 & 10010000008 & 1001000000800004 & 2 & 01-001-0001-00 & $\\dots$ \\\\\n",
       "\t25 & 1 & 1 & 1 & 10010000009 & 1001000000900001 & 2 & 01-001-0001-00 & $\\dots$ \\\\\n",
       "\t26 & 1 & 1 & 1 & 10010000009 & 1001000000900002 & 2 & 01-001-0001-00 & $\\dots$ \\\\\n",
       "\t27 & 1 & 1 & 1 & 10010000009 & 1001000000900003 & 2 & 01-001-0001-00 & $\\dots$ \\\\\n",
       "\t28 & 1 & 1 & 1 & 10010000009 & 1001000000900004 & 2 & 01-001-0001-00 & $\\dots$ \\\\\n",
       "\t29 & 1 & 1 & 1 & 10010000010 & 1001000001000001 & 2 & 01-001-0001-00 & $\\dots$ \\\\\n",
       "\t30 & 1 & 1 & 1 & 10010000010 & 1001000001000002 & 2 & 01-001-0001-00 & $\\dots$ \\\\\n",
       "\t$\\dots$ & $\\dots$ & $\\dots$ & $\\dots$ & $\\dots$ & $\\dots$ & $\\dots$ & $\\dots$ &  \\\\\n",
       "\\end{tabular}\n"
      ],
      "text/plain": [
       "\u001b[1m15015683×92 DataFrame\u001b[0m\n",
       "\u001b[1m      Row \u001b[0m│\u001b[1m ENT   \u001b[0m\u001b[1m MUN   \u001b[0m\u001b[1m LOC50K \u001b[0m\u001b[1m ID_VIV       \u001b[0m\u001b[1m ID_PERSONA        \u001b[0m\u001b[1m COBERTURA \u001b[0m\u001b[1m \u001b[0m ⋯\n",
       "\u001b[1m          \u001b[0m│\u001b[90m Int64 \u001b[0m\u001b[90m Int64 \u001b[0m\u001b[90m Int64  \u001b[0m\u001b[90m Int64        \u001b[0m\u001b[90m Int64             \u001b[0m\u001b[90m Int64     \u001b[0m\u001b[90m \u001b[0m ⋯\n",
       "──────────┼─────────────────────────────────────────────────────────────────────\n",
       "        1 │     1      1       1   10010000001   1001000000100001          2   ⋯\n",
       "        2 │     1      1       1   10010000001   1001000000100002          2\n",
       "        3 │     1      1       1   10010000001   1001000000100003          2\n",
       "        4 │     1      1       1   10010000002   1001000000200001          2\n",
       "        5 │     1      1       1   10010000002   1001000000200002          2   ⋯\n",
       "        6 │     1      1       1   10010000002   1001000000200003          2\n",
       "        7 │     1      1       1   10010000002   1001000000200004          2\n",
       "        8 │     1      1       1   10010000003   1001000000300001          2\n",
       "        9 │     1      1       1   10010000004   1001000000400001          2   ⋯\n",
       "       10 │     1      1       1   10010000004   1001000000400002          2\n",
       "       11 │     1      1       1   10010000004   1001000000400003          2\n",
       "    ⋮     │   ⋮      ⋮      ⋮          ⋮                ⋮              ⋮       ⋱\n",
       " 15015674 │    32     58       0  320580000844  32058000084400005          1\n",
       " 15015675 │    32     58       0  320580000844  32058000084400006          1   ⋯\n",
       " 15015676 │    32     58       0  320580000845  32058000084500001          1\n",
       " 15015677 │    32     58       0  320580000845  32058000084500002          1\n",
       " 15015678 │    32     58       0  320580000846  32058000084600001          1\n",
       " 15015679 │    32     58       0  320580000846  32058000084600002          1   ⋯\n",
       " 15015680 │    32     58       0  320580000847  32058000084700001          1\n",
       " 15015681 │    32     58       0  320580000848  32058000084800001          1\n",
       " 15015682 │    32     58       0  320580000848  32058000084800002          1\n",
       " 15015683 │    32     58       0  320580000848  32058000084800003          1   ⋯\n",
       "\u001b[36m                                            86 columns and 15015662 rows omitted\u001b[0m"
      ]
     },
     "execution_count": 3,
     "metadata": {},
     "output_type": "execute_result"
    }
   ],
   "source": [
    "# Base de datos del link https://www.inegi.org.mx/programas/ccpv/2020/default.html#Microdatos\n",
    "# se tarda como 4 miutos en cargar\n",
    "\n",
    "personas = CSV.read(\"Personas00.csv\", DataFrame)"
   ]
  },
  {
   "cell_type": "code",
   "execution_count": 4,
   "id": "037df125",
   "metadata": {},
   "outputs": [
    {
     "data": {
      "text/plain": [
       "18-element Vector{String}:\n",
       " \"ID_PERSONA\"\n",
       " \"ENT\"\n",
       " \"SEXO\"\n",
       " \"EDAD\"\n",
       " \"NIVACAD\"\n",
       " \"ALFABET\"\n",
       " \"INGTRMEN\"\n",
       " \"HORTRA\"\n",
       " \"CONACT\"\n",
       " \"SITTRA\"\n",
       " \"ENT_PAIS_TRAB\"\n",
       " \"AGUINALDO\"\n",
       " \"VACACIONES\"\n",
       " \"SERVICIO_MEDICO\"\n",
       " \"UTILIDADES\"\n",
       " \"INCAP_SUELDO\"\n",
       " \"SAR_AFORE\"\n",
       " \"CREDITO_VIVIENDA\""
      ]
     },
     "execution_count": 4,
     "metadata": {},
     "output_type": "execute_result"
    }
   ],
   "source": [
    "# Las columnas que estoy seleccionando para el ajuste\n",
    "col_sel = [\"ID_PERSONA\",\"ENT\",\"SEXO\", \"EDAD\", \"NIVACAD\", \"ALFABET\", \n",
    "            \"INGTRMEN\",\"HORTRA\", \"CONACT\", \"SITTRA\", \"ENT_PAIS_TRAB\",\n",
    "        \"AGUINALDO\", \"VACACIONES\", \"SERVICIO_MEDICO\", \"UTILIDADES\", \"INCAP_SUELDO\", \"SAR_AFORE\", \"CREDITO_VIVIENDA\"]"
   ]
  },
  {
   "cell_type": "code",
   "execution_count": 5,
   "id": "9a61262f",
   "metadata": {},
   "outputs": [
    {
     "data": {
      "text/html": [
       "<div class=\"data-frame\"><p>15,015,683 rows × 18 columns (omitted printing of 9 columns)</p><table class=\"data-frame\"><thead><tr><th></th><th>ID_PERSONA</th><th>ENT</th><th>SEXO</th><th>EDAD</th><th>NIVACAD</th><th>ALFABET</th><th>INGTRMEN</th><th>HORTRA</th><th>CONACT</th></tr><tr><th></th><th title=\"Int64\">Int64</th><th title=\"Int64\">Int64</th><th title=\"Int64\">Int64</th><th title=\"Int64\">Int64</th><th title=\"Union{Missing, Int64}\">Int64?</th><th title=\"Union{Missing, Int64}\">Int64?</th><th title=\"Union{Missing, Int64}\">Int64?</th><th title=\"Union{Missing, Int64}\">Int64?</th><th title=\"Union{Missing, Int64}\">Int64?</th></tr></thead><tbody><tr><th>1</th><td>1001000000100001</td><td>1</td><td>3</td><td>55</td><td>11</td><td>1</td><td><em>missing</em></td><td><em>missing</em></td><td>60</td></tr><tr><th>2</th><td>1001000000100002</td><td>1</td><td>1</td><td>18</td><td>0</td><td>3</td><td><em>missing</em></td><td><em>missing</em></td><td>80</td></tr><tr><th>3</th><td>1001000000100003</td><td>1</td><td>1</td><td>21</td><td>11</td><td>1</td><td><em>missing</em></td><td><em>missing</em></td><td>50</td></tr><tr><th>4</th><td>1001000000200001</td><td>1</td><td>1</td><td>45</td><td>11</td><td>1</td><td>21500</td><td>40</td><td>10</td></tr><tr><th>5</th><td>1001000000200002</td><td>1</td><td>3</td><td>42</td><td>11</td><td>1</td><td>8600</td><td>40</td><td>10</td></tr><tr><th>6</th><td>1001000000200003</td><td>1</td><td>3</td><td>20</td><td>11</td><td>1</td><td><em>missing</em></td><td><em>missing</em></td><td>50</td></tr><tr><th>7</th><td>1001000000200004</td><td>1</td><td>1</td><td>10</td><td>2</td><td>1</td><td><em>missing</em></td><td><em>missing</em></td><td><em>missing</em></td></tr><tr><th>8</th><td>1001000000300001</td><td>1</td><td>1</td><td>60</td><td>11</td><td>1</td><td>20000</td><td>48</td><td>10</td></tr><tr><th>9</th><td>1001000000400001</td><td>1</td><td>1</td><td>62</td><td>13</td><td>1</td><td>30000</td><td>21</td><td>10</td></tr><tr><th>10</th><td>1001000000400002</td><td>1</td><td>1</td><td>32</td><td>11</td><td>1</td><td>4000</td><td>48</td><td>10</td></tr><tr><th>11</th><td>1001000000400003</td><td>1</td><td>3</td><td>54</td><td>13</td><td>1</td><td>32000</td><td>42</td><td>10</td></tr><tr><th>12</th><td>1001000000500001</td><td>1</td><td>1</td><td>52</td><td>11</td><td>1</td><td>25000</td><td>0</td><td>20</td></tr><tr><th>13</th><td>1001000000500002</td><td>1</td><td>3</td><td>53</td><td>7</td><td>1</td><td><em>missing</em></td><td><em>missing</em></td><td>60</td></tr><tr><th>14</th><td>1001000000500003</td><td>1</td><td>1</td><td>21</td><td>11</td><td>1</td><td><em>missing</em></td><td><em>missing</em></td><td>50</td></tr><tr><th>15</th><td>1001000000500004</td><td>1</td><td>1</td><td>20</td><td>11</td><td>1</td><td><em>missing</em></td><td><em>missing</em></td><td>50</td></tr><tr><th>16</th><td>1001000000600001</td><td>1</td><td>3</td><td>10</td><td>2</td><td>1</td><td><em>missing</em></td><td><em>missing</em></td><td><em>missing</em></td></tr><tr><th>17</th><td>1001000000600002</td><td>1</td><td>3</td><td>41</td><td>11</td><td>1</td><td>25000</td><td>40</td><td>10</td></tr><tr><th>18</th><td>1001000000600003</td><td>1</td><td>1</td><td>40</td><td>11</td><td>1</td><td>25000</td><td>72</td><td>10</td></tr><tr><th>19</th><td>1001000000600004</td><td>1</td><td>3</td><td>7</td><td>1</td><td>1</td><td><em>missing</em></td><td><em>missing</em></td><td><em>missing</em></td></tr><tr><th>20</th><td>1001000000700001</td><td>1</td><td>1</td><td>28</td><td>11</td><td>1</td><td>40000</td><td>60</td><td>10</td></tr><tr><th>21</th><td>1001000000800001</td><td>1</td><td>1</td><td>13</td><td>3</td><td>1</td><td><em>missing</em></td><td><em>missing</em></td><td>50</td></tr><tr><th>22</th><td>1001000000800002</td><td>1</td><td>3</td><td>42</td><td>13</td><td>1</td><td>12000</td><td>45</td><td>10</td></tr><tr><th>23</th><td>1001000000800003</td><td>1</td><td>1</td><td>42</td><td>13</td><td>1</td><td>16000</td><td>45</td><td>10</td></tr><tr><th>24</th><td>1001000000800004</td><td>1</td><td>1</td><td>15</td><td>4</td><td>1</td><td><em>missing</em></td><td><em>missing</em></td><td>50</td></tr><tr><th>25</th><td>1001000000900001</td><td>1</td><td>1</td><td>17</td><td>4</td><td>1</td><td><em>missing</em></td><td><em>missing</em></td><td>50</td></tr><tr><th>26</th><td>1001000000900002</td><td>1</td><td>3</td><td>15</td><td>3</td><td>1</td><td><em>missing</em></td><td><em>missing</em></td><td>50</td></tr><tr><th>27</th><td>1001000000900003</td><td>1</td><td>1</td><td>45</td><td>11</td><td>1</td><td>20000</td><td>42</td><td>10</td></tr><tr><th>28</th><td>1001000000900004</td><td>1</td><td>3</td><td>45</td><td>11</td><td>1</td><td>21500</td><td>20</td><td>10</td></tr><tr><th>29</th><td>1001000001000001</td><td>1</td><td>3</td><td>9</td><td>2</td><td>1</td><td><em>missing</em></td><td><em>missing</em></td><td><em>missing</em></td></tr><tr><th>30</th><td>1001000001000002</td><td>1</td><td>3</td><td>5</td><td>1</td><td>3</td><td><em>missing</em></td><td><em>missing</em></td><td><em>missing</em></td></tr><tr><th>&vellip;</th><td>&vellip;</td><td>&vellip;</td><td>&vellip;</td><td>&vellip;</td><td>&vellip;</td><td>&vellip;</td><td>&vellip;</td><td>&vellip;</td><td>&vellip;</td></tr></tbody></table></div>"
      ],
      "text/latex": [
       "\\begin{tabular}{r|cccccccccc}\n",
       "\t& ID\\_PERSONA & ENT & SEXO & EDAD & NIVACAD & ALFABET & INGTRMEN & HORTRA & CONACT & \\\\\n",
       "\t\\hline\n",
       "\t& Int64 & Int64 & Int64 & Int64 & Int64? & Int64? & Int64? & Int64? & Int64? & \\\\\n",
       "\t\\hline\n",
       "\t1 & 1001000000100001 & 1 & 3 & 55 & 11 & 1 & \\emph{missing} & \\emph{missing} & 60 & $\\dots$ \\\\\n",
       "\t2 & 1001000000100002 & 1 & 1 & 18 & 0 & 3 & \\emph{missing} & \\emph{missing} & 80 & $\\dots$ \\\\\n",
       "\t3 & 1001000000100003 & 1 & 1 & 21 & 11 & 1 & \\emph{missing} & \\emph{missing} & 50 & $\\dots$ \\\\\n",
       "\t4 & 1001000000200001 & 1 & 1 & 45 & 11 & 1 & 21500 & 40 & 10 & $\\dots$ \\\\\n",
       "\t5 & 1001000000200002 & 1 & 3 & 42 & 11 & 1 & 8600 & 40 & 10 & $\\dots$ \\\\\n",
       "\t6 & 1001000000200003 & 1 & 3 & 20 & 11 & 1 & \\emph{missing} & \\emph{missing} & 50 & $\\dots$ \\\\\n",
       "\t7 & 1001000000200004 & 1 & 1 & 10 & 2 & 1 & \\emph{missing} & \\emph{missing} & \\emph{missing} & $\\dots$ \\\\\n",
       "\t8 & 1001000000300001 & 1 & 1 & 60 & 11 & 1 & 20000 & 48 & 10 & $\\dots$ \\\\\n",
       "\t9 & 1001000000400001 & 1 & 1 & 62 & 13 & 1 & 30000 & 21 & 10 & $\\dots$ \\\\\n",
       "\t10 & 1001000000400002 & 1 & 1 & 32 & 11 & 1 & 4000 & 48 & 10 & $\\dots$ \\\\\n",
       "\t11 & 1001000000400003 & 1 & 3 & 54 & 13 & 1 & 32000 & 42 & 10 & $\\dots$ \\\\\n",
       "\t12 & 1001000000500001 & 1 & 1 & 52 & 11 & 1 & 25000 & 0 & 20 & $\\dots$ \\\\\n",
       "\t13 & 1001000000500002 & 1 & 3 & 53 & 7 & 1 & \\emph{missing} & \\emph{missing} & 60 & $\\dots$ \\\\\n",
       "\t14 & 1001000000500003 & 1 & 1 & 21 & 11 & 1 & \\emph{missing} & \\emph{missing} & 50 & $\\dots$ \\\\\n",
       "\t15 & 1001000000500004 & 1 & 1 & 20 & 11 & 1 & \\emph{missing} & \\emph{missing} & 50 & $\\dots$ \\\\\n",
       "\t16 & 1001000000600001 & 1 & 3 & 10 & 2 & 1 & \\emph{missing} & \\emph{missing} & \\emph{missing} & $\\dots$ \\\\\n",
       "\t17 & 1001000000600002 & 1 & 3 & 41 & 11 & 1 & 25000 & 40 & 10 & $\\dots$ \\\\\n",
       "\t18 & 1001000000600003 & 1 & 1 & 40 & 11 & 1 & 25000 & 72 & 10 & $\\dots$ \\\\\n",
       "\t19 & 1001000000600004 & 1 & 3 & 7 & 1 & 1 & \\emph{missing} & \\emph{missing} & \\emph{missing} & $\\dots$ \\\\\n",
       "\t20 & 1001000000700001 & 1 & 1 & 28 & 11 & 1 & 40000 & 60 & 10 & $\\dots$ \\\\\n",
       "\t21 & 1001000000800001 & 1 & 1 & 13 & 3 & 1 & \\emph{missing} & \\emph{missing} & 50 & $\\dots$ \\\\\n",
       "\t22 & 1001000000800002 & 1 & 3 & 42 & 13 & 1 & 12000 & 45 & 10 & $\\dots$ \\\\\n",
       "\t23 & 1001000000800003 & 1 & 1 & 42 & 13 & 1 & 16000 & 45 & 10 & $\\dots$ \\\\\n",
       "\t24 & 1001000000800004 & 1 & 1 & 15 & 4 & 1 & \\emph{missing} & \\emph{missing} & 50 & $\\dots$ \\\\\n",
       "\t25 & 1001000000900001 & 1 & 1 & 17 & 4 & 1 & \\emph{missing} & \\emph{missing} & 50 & $\\dots$ \\\\\n",
       "\t26 & 1001000000900002 & 1 & 3 & 15 & 3 & 1 & \\emph{missing} & \\emph{missing} & 50 & $\\dots$ \\\\\n",
       "\t27 & 1001000000900003 & 1 & 1 & 45 & 11 & 1 & 20000 & 42 & 10 & $\\dots$ \\\\\n",
       "\t28 & 1001000000900004 & 1 & 3 & 45 & 11 & 1 & 21500 & 20 & 10 & $\\dots$ \\\\\n",
       "\t29 & 1001000001000001 & 1 & 3 & 9 & 2 & 1 & \\emph{missing} & \\emph{missing} & \\emph{missing} & $\\dots$ \\\\\n",
       "\t30 & 1001000001000002 & 1 & 3 & 5 & 1 & 3 & \\emph{missing} & \\emph{missing} & \\emph{missing} & $\\dots$ \\\\\n",
       "\t$\\dots$ & $\\dots$ & $\\dots$ & $\\dots$ & $\\dots$ & $\\dots$ & $\\dots$ & $\\dots$ & $\\dots$ & $\\dots$ &  \\\\\n",
       "\\end{tabular}\n"
      ],
      "text/plain": [
       "\u001b[1m15015683×18 DataFrame\u001b[0m\n",
       "\u001b[1m      Row \u001b[0m│\u001b[1m ID_PERSONA        \u001b[0m\u001b[1m ENT   \u001b[0m\u001b[1m SEXO  \u001b[0m\u001b[1m EDAD  \u001b[0m\u001b[1m NIVACAD \u001b[0m\u001b[1m ALFABET \u001b[0m\u001b[1m INGTRMEN\u001b[0m ⋯\n",
       "\u001b[1m          \u001b[0m│\u001b[90m Int64             \u001b[0m\u001b[90m Int64 \u001b[0m\u001b[90m Int64 \u001b[0m\u001b[90m Int64 \u001b[0m\u001b[90m Int64?  \u001b[0m\u001b[90m Int64?  \u001b[0m\u001b[90m Int64?  \u001b[0m ⋯\n",
       "──────────┼─────────────────────────────────────────────────────────────────────\n",
       "        1 │  1001000000100001      1      3     55       11        1 \u001b[90m  missing\u001b[0m ⋯\n",
       "        2 │  1001000000100002      1      1     18        0        3 \u001b[90m  missing\u001b[0m\n",
       "        3 │  1001000000100003      1      1     21       11        1 \u001b[90m  missing\u001b[0m\n",
       "        4 │  1001000000200001      1      1     45       11        1     21500\n",
       "        5 │  1001000000200002      1      3     42       11        1      8600 ⋯\n",
       "        6 │  1001000000200003      1      3     20       11        1 \u001b[90m  missing\u001b[0m\n",
       "        7 │  1001000000200004      1      1     10        2        1 \u001b[90m  missing\u001b[0m\n",
       "        8 │  1001000000300001      1      1     60       11        1     20000\n",
       "        9 │  1001000000400001      1      1     62       13        1     30000 ⋯\n",
       "       10 │  1001000000400002      1      1     32       11        1      4000\n",
       "       11 │  1001000000400003      1      3     54       13        1     32000\n",
       "    ⋮     │         ⋮            ⋮      ⋮      ⋮       ⋮        ⋮        ⋮     ⋱\n",
       " 15015674 │ 32058000084400005     32      3      3        0 \u001b[90m missing \u001b[0m\u001b[90m  missing\u001b[0m\n",
       " 15015675 │ 32058000084400006     32      3      5        1        3 \u001b[90m  missing\u001b[0m ⋯\n",
       " 15015676 │ 32058000084500001     32      3     83        3        1 \u001b[90m  missing\u001b[0m\n",
       " 15015677 │ 32058000084500002     32      1     50       11        1         0\n",
       " 15015678 │ 32058000084600001     32      1     50        3        1      3440\n",
       " 15015679 │ 32058000084600002     32      3     49        4        1 \u001b[90m  missing\u001b[0m ⋯\n",
       " 15015680 │ 32058000084700001     32      1     28        4        1      6450\n",
       " 15015681 │ 32058000084800001     32      3     13        3        1 \u001b[90m  missing\u001b[0m\n",
       " 15015682 │ 32058000084800002     32      3     21        3        1 \u001b[90m  missing\u001b[0m\n",
       " 15015683 │ 32058000084800003     32      1     38        3        1      5000 ⋯\n",
       "\u001b[36m                                            11 columns and 15015662 rows omitted\u001b[0m"
      ]
     },
     "execution_count": 5,
     "metadata": {},
     "output_type": "execute_result"
    }
   ],
   "source": [
    "# Selecciono solo las columnas que quiero\n",
    "personas_filt = personas[:, col_sel]"
   ]
  },
  {
   "cell_type": "code",
   "execution_count": 6,
   "id": "492aa590",
   "metadata": {},
   "outputs": [
    {
     "data": {
      "text/html": [
       "<div class=\"data-frame\"><p>5,500,875 rows × 18 columns (omitted printing of 9 columns)</p><table class=\"data-frame\"><thead><tr><th></th><th>ID_PERSONA</th><th>ENT</th><th>SEXO</th><th>EDAD</th><th>NIVACAD</th><th>ALFABET</th><th>INGTRMEN</th><th>HORTRA</th><th>CONACT</th></tr><tr><th></th><th title=\"Int64\">Int64</th><th title=\"Int64\">Int64</th><th title=\"Int64\">Int64</th><th title=\"Int64\">Int64</th><th title=\"Union{Missing, Int64}\">Int64?</th><th title=\"Union{Missing, Int64}\">Int64?</th><th title=\"Union{Missing, Int64}\">Int64?</th><th title=\"Union{Missing, Int64}\">Int64?</th><th title=\"Union{Missing, Int64}\">Int64?</th></tr></thead><tbody><tr><th>1</th><td>1001000000200001</td><td>1</td><td>1</td><td>45</td><td>11</td><td>1</td><td>21500</td><td>40</td><td>10</td></tr><tr><th>2</th><td>1001000000200002</td><td>1</td><td>3</td><td>42</td><td>11</td><td>1</td><td>8600</td><td>40</td><td>10</td></tr><tr><th>3</th><td>1001000000300001</td><td>1</td><td>1</td><td>60</td><td>11</td><td>1</td><td>20000</td><td>48</td><td>10</td></tr><tr><th>4</th><td>1001000000400001</td><td>1</td><td>1</td><td>62</td><td>13</td><td>1</td><td>30000</td><td>21</td><td>10</td></tr><tr><th>5</th><td>1001000000400002</td><td>1</td><td>1</td><td>32</td><td>11</td><td>1</td><td>4000</td><td>48</td><td>10</td></tr><tr><th>6</th><td>1001000000400003</td><td>1</td><td>3</td><td>54</td><td>13</td><td>1</td><td>32000</td><td>42</td><td>10</td></tr><tr><th>7</th><td>1001000000500001</td><td>1</td><td>1</td><td>52</td><td>11</td><td>1</td><td>25000</td><td>0</td><td>20</td></tr><tr><th>8</th><td>1001000000600002</td><td>1</td><td>3</td><td>41</td><td>11</td><td>1</td><td>25000</td><td>40</td><td>10</td></tr><tr><th>9</th><td>1001000000600003</td><td>1</td><td>1</td><td>40</td><td>11</td><td>1</td><td>25000</td><td>72</td><td>10</td></tr><tr><th>10</th><td>1001000000700001</td><td>1</td><td>1</td><td>28</td><td>11</td><td>1</td><td>40000</td><td>60</td><td>10</td></tr><tr><th>11</th><td>1001000000800002</td><td>1</td><td>3</td><td>42</td><td>13</td><td>1</td><td>12000</td><td>45</td><td>10</td></tr><tr><th>12</th><td>1001000000800003</td><td>1</td><td>1</td><td>42</td><td>13</td><td>1</td><td>16000</td><td>45</td><td>10</td></tr><tr><th>13</th><td>1001000000900003</td><td>1</td><td>1</td><td>45</td><td>11</td><td>1</td><td>20000</td><td>42</td><td>10</td></tr><tr><th>14</th><td>1001000000900004</td><td>1</td><td>3</td><td>45</td><td>11</td><td>1</td><td>21500</td><td>20</td><td>10</td></tr><tr><th>15</th><td>1001000001000003</td><td>1</td><td>3</td><td>31</td><td>11</td><td>1</td><td>43000</td><td>25</td><td>10</td></tr><tr><th>16</th><td>1001000001000004</td><td>1</td><td>1</td><td>32</td><td>3</td><td>1</td><td>43000</td><td>60</td><td>10</td></tr><tr><th>17</th><td>1001000001100001</td><td>1</td><td>1</td><td>34</td><td>3</td><td>1</td><td>50000</td><td>72</td><td>10</td></tr><tr><th>18</th><td>1001000001200001</td><td>1</td><td>1</td><td>46</td><td>11</td><td>1</td><td>43000</td><td>48</td><td>10</td></tr><tr><th>19</th><td>1001000001200005</td><td>1</td><td>3</td><td>43</td><td>13</td><td>1</td><td>20000</td><td>40</td><td>10</td></tr><tr><th>20</th><td>1001000001300003</td><td>1</td><td>3</td><td>65</td><td>11</td><td>1</td><td>17000</td><td>54</td><td>10</td></tr><tr><th>21</th><td>1001000001400001</td><td>1</td><td>3</td><td>34</td><td>11</td><td>1</td><td>20000</td><td>48</td><td>10</td></tr><tr><th>22</th><td>1001000001400003</td><td>1</td><td>1</td><td>35</td><td>11</td><td>1</td><td>30000</td><td>60</td><td>10</td></tr><tr><th>23</th><td>1001000001600004</td><td>1</td><td>3</td><td>39</td><td>13</td><td>1</td><td>26000</td><td>48</td><td>10</td></tr><tr><th>24</th><td>1001000001700001</td><td>1</td><td>1</td><td>35</td><td>3</td><td>1</td><td>43000</td><td>90</td><td>10</td></tr><tr><th>25</th><td>1001000001800001</td><td>1</td><td>3</td><td>60</td><td>4</td><td>1</td><td>21500</td><td>48</td><td>10</td></tr><tr><th>26</th><td>1001000001800002</td><td>1</td><td>3</td><td>23</td><td>11</td><td>1</td><td>40000</td><td>50</td><td>10</td></tr><tr><th>27</th><td>1001000001800003</td><td>1</td><td>1</td><td>48</td><td>12</td><td>1</td><td>21500</td><td>48</td><td>10</td></tr><tr><th>28</th><td>1001000001900001</td><td>1</td><td>3</td><td>26</td><td>11</td><td>1</td><td>7600</td><td>48</td><td>10</td></tr><tr><th>29</th><td>1001000001900002</td><td>1</td><td>1</td><td>34</td><td>11</td><td>1</td><td>12000</td><td>48</td><td>10</td></tr><tr><th>30</th><td>1001000002000002</td><td>1</td><td>3</td><td>37</td><td>11</td><td>1</td><td>4300</td><td>10</td><td>10</td></tr><tr><th>&vellip;</th><td>&vellip;</td><td>&vellip;</td><td>&vellip;</td><td>&vellip;</td><td>&vellip;</td><td>&vellip;</td><td>&vellip;</td><td>&vellip;</td><td>&vellip;</td></tr></tbody></table></div>"
      ],
      "text/latex": [
       "\\begin{tabular}{r|cccccccccc}\n",
       "\t& ID\\_PERSONA & ENT & SEXO & EDAD & NIVACAD & ALFABET & INGTRMEN & HORTRA & CONACT & \\\\\n",
       "\t\\hline\n",
       "\t& Int64 & Int64 & Int64 & Int64 & Int64? & Int64? & Int64? & Int64? & Int64? & \\\\\n",
       "\t\\hline\n",
       "\t1 & 1001000000200001 & 1 & 1 & 45 & 11 & 1 & 21500 & 40 & 10 & $\\dots$ \\\\\n",
       "\t2 & 1001000000200002 & 1 & 3 & 42 & 11 & 1 & 8600 & 40 & 10 & $\\dots$ \\\\\n",
       "\t3 & 1001000000300001 & 1 & 1 & 60 & 11 & 1 & 20000 & 48 & 10 & $\\dots$ \\\\\n",
       "\t4 & 1001000000400001 & 1 & 1 & 62 & 13 & 1 & 30000 & 21 & 10 & $\\dots$ \\\\\n",
       "\t5 & 1001000000400002 & 1 & 1 & 32 & 11 & 1 & 4000 & 48 & 10 & $\\dots$ \\\\\n",
       "\t6 & 1001000000400003 & 1 & 3 & 54 & 13 & 1 & 32000 & 42 & 10 & $\\dots$ \\\\\n",
       "\t7 & 1001000000500001 & 1 & 1 & 52 & 11 & 1 & 25000 & 0 & 20 & $\\dots$ \\\\\n",
       "\t8 & 1001000000600002 & 1 & 3 & 41 & 11 & 1 & 25000 & 40 & 10 & $\\dots$ \\\\\n",
       "\t9 & 1001000000600003 & 1 & 1 & 40 & 11 & 1 & 25000 & 72 & 10 & $\\dots$ \\\\\n",
       "\t10 & 1001000000700001 & 1 & 1 & 28 & 11 & 1 & 40000 & 60 & 10 & $\\dots$ \\\\\n",
       "\t11 & 1001000000800002 & 1 & 3 & 42 & 13 & 1 & 12000 & 45 & 10 & $\\dots$ \\\\\n",
       "\t12 & 1001000000800003 & 1 & 1 & 42 & 13 & 1 & 16000 & 45 & 10 & $\\dots$ \\\\\n",
       "\t13 & 1001000000900003 & 1 & 1 & 45 & 11 & 1 & 20000 & 42 & 10 & $\\dots$ \\\\\n",
       "\t14 & 1001000000900004 & 1 & 3 & 45 & 11 & 1 & 21500 & 20 & 10 & $\\dots$ \\\\\n",
       "\t15 & 1001000001000003 & 1 & 3 & 31 & 11 & 1 & 43000 & 25 & 10 & $\\dots$ \\\\\n",
       "\t16 & 1001000001000004 & 1 & 1 & 32 & 3 & 1 & 43000 & 60 & 10 & $\\dots$ \\\\\n",
       "\t17 & 1001000001100001 & 1 & 1 & 34 & 3 & 1 & 50000 & 72 & 10 & $\\dots$ \\\\\n",
       "\t18 & 1001000001200001 & 1 & 1 & 46 & 11 & 1 & 43000 & 48 & 10 & $\\dots$ \\\\\n",
       "\t19 & 1001000001200005 & 1 & 3 & 43 & 13 & 1 & 20000 & 40 & 10 & $\\dots$ \\\\\n",
       "\t20 & 1001000001300003 & 1 & 3 & 65 & 11 & 1 & 17000 & 54 & 10 & $\\dots$ \\\\\n",
       "\t21 & 1001000001400001 & 1 & 3 & 34 & 11 & 1 & 20000 & 48 & 10 & $\\dots$ \\\\\n",
       "\t22 & 1001000001400003 & 1 & 1 & 35 & 11 & 1 & 30000 & 60 & 10 & $\\dots$ \\\\\n",
       "\t23 & 1001000001600004 & 1 & 3 & 39 & 13 & 1 & 26000 & 48 & 10 & $\\dots$ \\\\\n",
       "\t24 & 1001000001700001 & 1 & 1 & 35 & 3 & 1 & 43000 & 90 & 10 & $\\dots$ \\\\\n",
       "\t25 & 1001000001800001 & 1 & 3 & 60 & 4 & 1 & 21500 & 48 & 10 & $\\dots$ \\\\\n",
       "\t26 & 1001000001800002 & 1 & 3 & 23 & 11 & 1 & 40000 & 50 & 10 & $\\dots$ \\\\\n",
       "\t27 & 1001000001800003 & 1 & 1 & 48 & 12 & 1 & 21500 & 48 & 10 & $\\dots$ \\\\\n",
       "\t28 & 1001000001900001 & 1 & 3 & 26 & 11 & 1 & 7600 & 48 & 10 & $\\dots$ \\\\\n",
       "\t29 & 1001000001900002 & 1 & 1 & 34 & 11 & 1 & 12000 & 48 & 10 & $\\dots$ \\\\\n",
       "\t30 & 1001000002000002 & 1 & 3 & 37 & 11 & 1 & 4300 & 10 & 10 & $\\dots$ \\\\\n",
       "\t$\\dots$ & $\\dots$ & $\\dots$ & $\\dots$ & $\\dots$ & $\\dots$ & $\\dots$ & $\\dots$ & $\\dots$ & $\\dots$ &  \\\\\n",
       "\\end{tabular}\n"
      ],
      "text/plain": [
       "\u001b[1m5500875×18 DataFrame\u001b[0m\n",
       "\u001b[1m     Row \u001b[0m│\u001b[1m ID_PERSONA        \u001b[0m\u001b[1m ENT   \u001b[0m\u001b[1m SEXO  \u001b[0m\u001b[1m EDAD  \u001b[0m\u001b[1m NIVACAD \u001b[0m\u001b[1m ALFABET \u001b[0m\u001b[1m INGTRMEN \u001b[0m\u001b[1m\u001b[0m ⋯\n",
       "\u001b[1m         \u001b[0m│\u001b[90m Int64             \u001b[0m\u001b[90m Int64 \u001b[0m\u001b[90m Int64 \u001b[0m\u001b[90m Int64 \u001b[0m\u001b[90m Int64?  \u001b[0m\u001b[90m Int64?  \u001b[0m\u001b[90m Int64?   \u001b[0m\u001b[90m\u001b[0m ⋯\n",
       "─────────┼──────────────────────────────────────────────────────────────────────\n",
       "       1 │  1001000000200001      1      1     45       11        1     21500  ⋯\n",
       "       2 │  1001000000200002      1      3     42       11        1      8600\n",
       "       3 │  1001000000300001      1      1     60       11        1     20000\n",
       "       4 │  1001000000400001      1      1     62       13        1     30000\n",
       "       5 │  1001000000400002      1      1     32       11        1      4000  ⋯\n",
       "       6 │  1001000000400003      1      3     54       13        1     32000\n",
       "       7 │  1001000000500001      1      1     52       11        1     25000\n",
       "       8 │  1001000000600002      1      3     41       11        1     25000\n",
       "       9 │  1001000000600003      1      1     40       11        1     25000  ⋯\n",
       "      10 │  1001000000700001      1      1     28       11        1     40000\n",
       "      11 │  1001000000800002      1      3     42       13        1     12000\n",
       "    ⋮    │         ⋮            ⋮      ⋮      ⋮       ⋮        ⋮        ⋮      ⋱\n",
       " 5500866 │ 32058000083500002     32      1     61       11        1      7740\n",
       " 5500867 │ 32058000083500003     32      1     20        4        1      6450  ⋯\n",
       " 5500868 │ 32058000083700002     32      1     53        2        1      4000\n",
       " 5500869 │ 32058000083900004     32      1     46        3        1      5160\n",
       " 5500870 │ 32058000084000005     32      1     37       11        1     10000\n",
       " 5500871 │ 32058000084400004     32      1     30        3        1      1200  ⋯\n",
       " 5500872 │ 32058000084500002     32      1     50       11        1         0\n",
       " 5500873 │ 32058000084600001     32      1     50        3        1      3440\n",
       " 5500874 │ 32058000084700001     32      1     28        4        1      6450\n",
       " 5500875 │ 32058000084800003     32      1     38        3        1      5000  ⋯\n",
       "\u001b[36m                                             11 columns and 5500854 rows omitted\u001b[0m"
      ]
     },
     "execution_count": 6,
     "metadata": {},
     "output_type": "execute_result"
    }
   ],
   "source": [
    "# Es momento de filtrar\n",
    "\n",
    "# Primero filtramos con las personas que actually trabajan porque son las que nos importan\n",
    "cond_act = [10, 13, 14, 15, 16, 17, 18, 19, 20]\n",
    "personas_filt = subset(personas_filt, :CONACT => ByRow(in(cond_act)), skipmissing = true)\n",
    "\n",
    "# Este filtro se queda porque es menor que \n",
    "# Este es para entidad de trabajo\n",
    "personas_filt = subset(personas_filt, :ENT_PAIS_TRAB => ByRow(<(33)), skipmissing = true)\n",
    "# y este es para entidad de vivienda\n",
    "personas_filt = subset(personas_filt, :ENT => ByRow(<(33)), skipmissing = true)\n",
    "\n",
    "# y este para las horas trabajadas\n",
    "personas_filt = subset(personas_filt, :HORTRA => ByRow(!=(999)), skipmissing = true)\n",
    "\n",
    "# y el ingreso ganado\n",
    "personas_filt = subset(personas_filt, :INGTRMEN => ByRow(!=(999999)), skipmissing = true)\n"
   ]
  },
  {
   "cell_type": "code",
   "execution_count": 7,
   "id": "6910a1b9",
   "metadata": {},
   "outputs": [],
   "source": [
    "function diferente_a(dataframe, columna, condicion)\n",
    "    dataframe = subset(dataframe, columna => ByRow(!=(condicion)), skipmissing = true)\n",
    "    return dataframe\n",
    "end\n",
    "\n",
    "categorias_9 = [\"SEXO\", \"AGUINALDO\", \"VACACIONES\", \"SERVICIO_MEDICO\", \"UTILIDADES\", \n",
    "    \"INCAP_SUELDO\", \"SAR_AFORE\", \"CREDITO_VIVIENDA\", \"ALFABET\", \"SITTRA\"]\n",
    "\n",
    "categorias_99 = [\"NIVACAD\"]\n",
    "\n",
    "for i = 1:length(categorias_9)\n",
    "    personas_filt = diferente_a(personas_filt, categorias_9[i], 9)\n",
    "end\n",
    "\n",
    "for i = 1:length(categorias_99)\n",
    "    personas_filt = diferente_a(personas_filt, categorias_99[i], 99)\n",
    "end"
   ]
  },
  {
   "cell_type": "code",
   "execution_count": 8,
   "id": "599d14b4",
   "metadata": {},
   "outputs": [
    {
     "data": {
      "text/plain": [
       "\"personas_filtradas.csv\""
      ]
     },
     "execution_count": 8,
     "metadata": {},
     "output_type": "execute_result"
    }
   ],
   "source": [
    "CSV.write(\"personas_filtradas.csv\", personas_filt)"
   ]
  },
  {
   "cell_type": "code",
   "execution_count": 9,
   "id": "b437e2c4",
   "metadata": {},
   "outputs": [
    {
     "data": {
      "text/html": [
       "<div class=\"data-frame\"><p>3,460,365 rows × 18 columns (omitted printing of 9 columns)</p><table class=\"data-frame\"><thead><tr><th></th><th>ID_PERSONA</th><th>ENT</th><th>SEXO</th><th>EDAD</th><th>NIVACAD</th><th>ALFABET</th><th>INGTRMEN</th><th>HORTRA</th><th>CONACT</th></tr><tr><th></th><th title=\"Int64\">Int64</th><th title=\"Int64\">Int64</th><th title=\"Int64\">Int64</th><th title=\"Int64\">Int64</th><th title=\"Int64\">Int64</th><th title=\"Int64\">Int64</th><th title=\"Int64\">Int64</th><th title=\"Int64\">Int64</th><th title=\"Int64\">Int64</th></tr></thead><tbody><tr><th>1</th><td>1001000000400001</td><td>1</td><td>1</td><td>62</td><td>13</td><td>1</td><td>30000</td><td>21</td><td>10</td></tr><tr><th>2</th><td>1001000000400002</td><td>1</td><td>1</td><td>32</td><td>11</td><td>1</td><td>4000</td><td>48</td><td>10</td></tr><tr><th>3</th><td>1001000000400003</td><td>1</td><td>3</td><td>54</td><td>13</td><td>1</td><td>32000</td><td>42</td><td>10</td></tr><tr><th>4</th><td>1001000000600002</td><td>1</td><td>3</td><td>41</td><td>11</td><td>1</td><td>25000</td><td>40</td><td>10</td></tr><tr><th>5</th><td>1001000000700001</td><td>1</td><td>1</td><td>28</td><td>11</td><td>1</td><td>40000</td><td>60</td><td>10</td></tr><tr><th>6</th><td>1001000000800002</td><td>1</td><td>3</td><td>42</td><td>13</td><td>1</td><td>12000</td><td>45</td><td>10</td></tr><tr><th>7</th><td>1001000000800003</td><td>1</td><td>1</td><td>42</td><td>13</td><td>1</td><td>16000</td><td>45</td><td>10</td></tr><tr><th>8</th><td>1001000000900003</td><td>1</td><td>1</td><td>45</td><td>11</td><td>1</td><td>20000</td><td>42</td><td>10</td></tr><tr><th>9</th><td>1001000001200005</td><td>1</td><td>3</td><td>43</td><td>13</td><td>1</td><td>20000</td><td>40</td><td>10</td></tr><tr><th>10</th><td>1001000001300003</td><td>1</td><td>3</td><td>65</td><td>11</td><td>1</td><td>17000</td><td>54</td><td>10</td></tr><tr><th>11</th><td>1001000001400001</td><td>1</td><td>3</td><td>34</td><td>11</td><td>1</td><td>20000</td><td>48</td><td>10</td></tr><tr><th>12</th><td>1001000001400003</td><td>1</td><td>1</td><td>35</td><td>11</td><td>1</td><td>30000</td><td>60</td><td>10</td></tr><tr><th>13</th><td>1001000001600004</td><td>1</td><td>3</td><td>39</td><td>13</td><td>1</td><td>26000</td><td>48</td><td>10</td></tr><tr><th>14</th><td>1001000001900001</td><td>1</td><td>3</td><td>26</td><td>11</td><td>1</td><td>7600</td><td>48</td><td>10</td></tr><tr><th>15</th><td>1001000001900002</td><td>1</td><td>1</td><td>34</td><td>11</td><td>1</td><td>12000</td><td>48</td><td>10</td></tr><tr><th>16</th><td>1001000002000002</td><td>1</td><td>3</td><td>37</td><td>11</td><td>1</td><td>4300</td><td>10</td><td>10</td></tr><tr><th>17</th><td>1001000002100002</td><td>1</td><td>1</td><td>32</td><td>2</td><td>1</td><td>10750</td><td>48</td><td>10</td></tr><tr><th>18</th><td>1001000002200003</td><td>1</td><td>1</td><td>31</td><td>3</td><td>1</td><td>10750</td><td>50</td><td>10</td></tr><tr><th>19</th><td>1001000002300001</td><td>1</td><td>3</td><td>53</td><td>3</td><td>1</td><td>8170</td><td>48</td><td>10</td></tr><tr><th>20</th><td>1001000002500001</td><td>1</td><td>1</td><td>39</td><td>3</td><td>1</td><td>6450</td><td>72</td><td>10</td></tr><tr><th>21</th><td>1001000002600002</td><td>1</td><td>1</td><td>23</td><td>4</td><td>1</td><td>10750</td><td>78</td><td>10</td></tr><tr><th>22</th><td>1001000002700001</td><td>1</td><td>1</td><td>30</td><td>4</td><td>1</td><td>6450</td><td>60</td><td>10</td></tr><tr><th>23</th><td>1001000002700002</td><td>1</td><td>3</td><td>29</td><td>11</td><td>1</td><td>8600</td><td>30</td><td>10</td></tr><tr><th>24</th><td>1001000002800001</td><td>1</td><td>1</td><td>22</td><td>3</td><td>1</td><td>4730</td><td>72</td><td>10</td></tr><tr><th>25</th><td>1001000002800002</td><td>1</td><td>3</td><td>29</td><td>4</td><td>1</td><td>12900</td><td>52</td><td>10</td></tr><tr><th>26</th><td>1001000002900001</td><td>1</td><td>1</td><td>49</td><td>4</td><td>1</td><td>10750</td><td>61</td><td>10</td></tr><tr><th>27</th><td>1001000002900002</td><td>1</td><td>3</td><td>39</td><td>11</td><td>1</td><td>12900</td><td>32</td><td>10</td></tr><tr><th>28</th><td>1001000003000001</td><td>1</td><td>3</td><td>29</td><td>11</td><td>1</td><td>12040</td><td>48</td><td>10</td></tr><tr><th>29</th><td>1001000003000003</td><td>1</td><td>1</td><td>28</td><td>11</td><td>1</td><td>8600</td><td>45</td><td>10</td></tr><tr><th>30</th><td>1001000003400002</td><td>1</td><td>3</td><td>31</td><td>3</td><td>1</td><td>7224</td><td>52</td><td>10</td></tr><tr><th>&vellip;</th><td>&vellip;</td><td>&vellip;</td><td>&vellip;</td><td>&vellip;</td><td>&vellip;</td><td>&vellip;</td><td>&vellip;</td><td>&vellip;</td><td>&vellip;</td></tr></tbody></table></div>"
      ],
      "text/latex": [
       "\\begin{tabular}{r|cccccccccc}\n",
       "\t& ID\\_PERSONA & ENT & SEXO & EDAD & NIVACAD & ALFABET & INGTRMEN & HORTRA & CONACT & \\\\\n",
       "\t\\hline\n",
       "\t& Int64 & Int64 & Int64 & Int64 & Int64 & Int64 & Int64 & Int64 & Int64 & \\\\\n",
       "\t\\hline\n",
       "\t1 & 1001000000400001 & 1 & 1 & 62 & 13 & 1 & 30000 & 21 & 10 & $\\dots$ \\\\\n",
       "\t2 & 1001000000400002 & 1 & 1 & 32 & 11 & 1 & 4000 & 48 & 10 & $\\dots$ \\\\\n",
       "\t3 & 1001000000400003 & 1 & 3 & 54 & 13 & 1 & 32000 & 42 & 10 & $\\dots$ \\\\\n",
       "\t4 & 1001000000600002 & 1 & 3 & 41 & 11 & 1 & 25000 & 40 & 10 & $\\dots$ \\\\\n",
       "\t5 & 1001000000700001 & 1 & 1 & 28 & 11 & 1 & 40000 & 60 & 10 & $\\dots$ \\\\\n",
       "\t6 & 1001000000800002 & 1 & 3 & 42 & 13 & 1 & 12000 & 45 & 10 & $\\dots$ \\\\\n",
       "\t7 & 1001000000800003 & 1 & 1 & 42 & 13 & 1 & 16000 & 45 & 10 & $\\dots$ \\\\\n",
       "\t8 & 1001000000900003 & 1 & 1 & 45 & 11 & 1 & 20000 & 42 & 10 & $\\dots$ \\\\\n",
       "\t9 & 1001000001200005 & 1 & 3 & 43 & 13 & 1 & 20000 & 40 & 10 & $\\dots$ \\\\\n",
       "\t10 & 1001000001300003 & 1 & 3 & 65 & 11 & 1 & 17000 & 54 & 10 & $\\dots$ \\\\\n",
       "\t11 & 1001000001400001 & 1 & 3 & 34 & 11 & 1 & 20000 & 48 & 10 & $\\dots$ \\\\\n",
       "\t12 & 1001000001400003 & 1 & 1 & 35 & 11 & 1 & 30000 & 60 & 10 & $\\dots$ \\\\\n",
       "\t13 & 1001000001600004 & 1 & 3 & 39 & 13 & 1 & 26000 & 48 & 10 & $\\dots$ \\\\\n",
       "\t14 & 1001000001900001 & 1 & 3 & 26 & 11 & 1 & 7600 & 48 & 10 & $\\dots$ \\\\\n",
       "\t15 & 1001000001900002 & 1 & 1 & 34 & 11 & 1 & 12000 & 48 & 10 & $\\dots$ \\\\\n",
       "\t16 & 1001000002000002 & 1 & 3 & 37 & 11 & 1 & 4300 & 10 & 10 & $\\dots$ \\\\\n",
       "\t17 & 1001000002100002 & 1 & 1 & 32 & 2 & 1 & 10750 & 48 & 10 & $\\dots$ \\\\\n",
       "\t18 & 1001000002200003 & 1 & 1 & 31 & 3 & 1 & 10750 & 50 & 10 & $\\dots$ \\\\\n",
       "\t19 & 1001000002300001 & 1 & 3 & 53 & 3 & 1 & 8170 & 48 & 10 & $\\dots$ \\\\\n",
       "\t20 & 1001000002500001 & 1 & 1 & 39 & 3 & 1 & 6450 & 72 & 10 & $\\dots$ \\\\\n",
       "\t21 & 1001000002600002 & 1 & 1 & 23 & 4 & 1 & 10750 & 78 & 10 & $\\dots$ \\\\\n",
       "\t22 & 1001000002700001 & 1 & 1 & 30 & 4 & 1 & 6450 & 60 & 10 & $\\dots$ \\\\\n",
       "\t23 & 1001000002700002 & 1 & 3 & 29 & 11 & 1 & 8600 & 30 & 10 & $\\dots$ \\\\\n",
       "\t24 & 1001000002800001 & 1 & 1 & 22 & 3 & 1 & 4730 & 72 & 10 & $\\dots$ \\\\\n",
       "\t25 & 1001000002800002 & 1 & 3 & 29 & 4 & 1 & 12900 & 52 & 10 & $\\dots$ \\\\\n",
       "\t26 & 1001000002900001 & 1 & 1 & 49 & 4 & 1 & 10750 & 61 & 10 & $\\dots$ \\\\\n",
       "\t27 & 1001000002900002 & 1 & 3 & 39 & 11 & 1 & 12900 & 32 & 10 & $\\dots$ \\\\\n",
       "\t28 & 1001000003000001 & 1 & 3 & 29 & 11 & 1 & 12040 & 48 & 10 & $\\dots$ \\\\\n",
       "\t29 & 1001000003000003 & 1 & 1 & 28 & 11 & 1 & 8600 & 45 & 10 & $\\dots$ \\\\\n",
       "\t30 & 1001000003400002 & 1 & 3 & 31 & 3 & 1 & 7224 & 52 & 10 & $\\dots$ \\\\\n",
       "\t$\\dots$ & $\\dots$ & $\\dots$ & $\\dots$ & $\\dots$ & $\\dots$ & $\\dots$ & $\\dots$ & $\\dots$ & $\\dots$ &  \\\\\n",
       "\\end{tabular}\n"
      ],
      "text/plain": [
       "\u001b[1m3460365×18 DataFrame\u001b[0m\n",
       "\u001b[1m     Row \u001b[0m│\u001b[1m ID_PERSONA        \u001b[0m\u001b[1m ENT   \u001b[0m\u001b[1m SEXO  \u001b[0m\u001b[1m EDAD  \u001b[0m\u001b[1m NIVACAD \u001b[0m\u001b[1m ALFABET \u001b[0m\u001b[1m INGTRMEN \u001b[0m\u001b[1m\u001b[0m ⋯\n",
       "\u001b[1m         \u001b[0m│\u001b[90m Int64             \u001b[0m\u001b[90m Int64 \u001b[0m\u001b[90m Int64 \u001b[0m\u001b[90m Int64 \u001b[0m\u001b[90m Int64   \u001b[0m\u001b[90m Int64   \u001b[0m\u001b[90m Int64    \u001b[0m\u001b[90m\u001b[0m ⋯\n",
       "─────────┼──────────────────────────────────────────────────────────────────────\n",
       "       1 │  1001000000400001      1      1     62       13        1     30000  ⋯\n",
       "       2 │  1001000000400002      1      1     32       11        1      4000\n",
       "       3 │  1001000000400003      1      3     54       13        1     32000\n",
       "       4 │  1001000000600002      1      3     41       11        1     25000\n",
       "       5 │  1001000000700001      1      1     28       11        1     40000  ⋯\n",
       "       6 │  1001000000800002      1      3     42       13        1     12000\n",
       "       7 │  1001000000800003      1      1     42       13        1     16000\n",
       "       8 │  1001000000900003      1      1     45       11        1     20000\n",
       "       9 │  1001000001200005      1      3     43       13        1     20000  ⋯\n",
       "      10 │  1001000001300003      1      3     65       11        1     17000\n",
       "      11 │  1001000001400001      1      3     34       11        1     20000\n",
       "    ⋮    │         ⋮            ⋮      ⋮      ⋮       ⋮        ⋮        ⋮      ⋱\n",
       " 3460356 │ 32058000083000001     32      1     71        2        3      5160\n",
       " 3460357 │ 32058000083000002     32      1     73        2        3      4300  ⋯\n",
       " 3460358 │ 32058000083100001     32      1     75        2        3      6450\n",
       " 3460359 │ 32058000083200002     32      1     37        3        1      2400\n",
       " 3460360 │ 32058000083300003     32      1     40        3        1      2000\n",
       " 3460361 │ 32058000083700002     32      1     53        2        1      4000  ⋯\n",
       " 3460362 │ 32058000084000005     32      1     37       11        1     10000\n",
       " 3460363 │ 32058000084400004     32      1     30        3        1      1200\n",
       " 3460364 │ 32058000084600001     32      1     50        3        1      3440\n",
       " 3460365 │ 32058000084800003     32      1     38        3        1      5000  ⋯\n",
       "\u001b[36m                                             11 columns and 3460344 rows omitted\u001b[0m"
      ]
     },
     "execution_count": 9,
     "metadata": {},
     "output_type": "execute_result"
    }
   ],
   "source": [
    "data = CSV.read(\"personas_filtradas.csv\", DataFrame)"
   ]
  },
  {
   "cell_type": "code",
   "execution_count": 10,
   "id": "88c2633f",
   "metadata": {},
   "outputs": [
    {
     "data": {
      "text/html": [
       "<div class=\"data-frame\"><p>3,460,365 rows × 18 columns (omitted printing of 9 columns)</p><table class=\"data-frame\"><thead><tr><th></th><th>ID_PERSONA</th><th>ENT</th><th>SEXO</th><th>EDAD</th><th>NIVACAD</th><th>ALFABET</th><th>INGTRMEN</th><th>HORTRA</th><th>CONACT</th></tr><tr><th></th><th title=\"Int64\">Int64</th><th title=\"CategoricalValue{Int64, UInt32}\">Cat…</th><th title=\"CategoricalValue{Int64, UInt32}\">Cat…</th><th title=\"Int64\">Int64</th><th title=\"CategoricalValue{Int64, UInt32}\">Cat…</th><th title=\"CategoricalValue{Int64, UInt32}\">Cat…</th><th title=\"Int64\">Int64</th><th title=\"Int64\">Int64</th><th title=\"Int64\">Int64</th></tr></thead><tbody><tr><th>1</th><td>1001000000400001</td><td>1</td><td>1</td><td>62</td><td>13</td><td>1</td><td>30000</td><td>21</td><td>10</td></tr><tr><th>2</th><td>1001000000400002</td><td>1</td><td>1</td><td>32</td><td>11</td><td>1</td><td>4000</td><td>48</td><td>10</td></tr><tr><th>3</th><td>1001000000400003</td><td>1</td><td>3</td><td>54</td><td>13</td><td>1</td><td>32000</td><td>42</td><td>10</td></tr><tr><th>4</th><td>1001000000600002</td><td>1</td><td>3</td><td>41</td><td>11</td><td>1</td><td>25000</td><td>40</td><td>10</td></tr><tr><th>5</th><td>1001000000700001</td><td>1</td><td>1</td><td>28</td><td>11</td><td>1</td><td>40000</td><td>60</td><td>10</td></tr><tr><th>6</th><td>1001000000800002</td><td>1</td><td>3</td><td>42</td><td>13</td><td>1</td><td>12000</td><td>45</td><td>10</td></tr><tr><th>7</th><td>1001000000800003</td><td>1</td><td>1</td><td>42</td><td>13</td><td>1</td><td>16000</td><td>45</td><td>10</td></tr><tr><th>8</th><td>1001000000900003</td><td>1</td><td>1</td><td>45</td><td>11</td><td>1</td><td>20000</td><td>42</td><td>10</td></tr><tr><th>9</th><td>1001000001200005</td><td>1</td><td>3</td><td>43</td><td>13</td><td>1</td><td>20000</td><td>40</td><td>10</td></tr><tr><th>10</th><td>1001000001300003</td><td>1</td><td>3</td><td>65</td><td>11</td><td>1</td><td>17000</td><td>54</td><td>10</td></tr><tr><th>11</th><td>1001000001400001</td><td>1</td><td>3</td><td>34</td><td>11</td><td>1</td><td>20000</td><td>48</td><td>10</td></tr><tr><th>12</th><td>1001000001400003</td><td>1</td><td>1</td><td>35</td><td>11</td><td>1</td><td>30000</td><td>60</td><td>10</td></tr><tr><th>13</th><td>1001000001600004</td><td>1</td><td>3</td><td>39</td><td>13</td><td>1</td><td>26000</td><td>48</td><td>10</td></tr><tr><th>14</th><td>1001000001900001</td><td>1</td><td>3</td><td>26</td><td>11</td><td>1</td><td>7600</td><td>48</td><td>10</td></tr><tr><th>15</th><td>1001000001900002</td><td>1</td><td>1</td><td>34</td><td>11</td><td>1</td><td>12000</td><td>48</td><td>10</td></tr><tr><th>16</th><td>1001000002000002</td><td>1</td><td>3</td><td>37</td><td>11</td><td>1</td><td>4300</td><td>10</td><td>10</td></tr><tr><th>17</th><td>1001000002100002</td><td>1</td><td>1</td><td>32</td><td>2</td><td>1</td><td>10750</td><td>48</td><td>10</td></tr><tr><th>18</th><td>1001000002200003</td><td>1</td><td>1</td><td>31</td><td>3</td><td>1</td><td>10750</td><td>50</td><td>10</td></tr><tr><th>19</th><td>1001000002300001</td><td>1</td><td>3</td><td>53</td><td>3</td><td>1</td><td>8170</td><td>48</td><td>10</td></tr><tr><th>20</th><td>1001000002500001</td><td>1</td><td>1</td><td>39</td><td>3</td><td>1</td><td>6450</td><td>72</td><td>10</td></tr><tr><th>21</th><td>1001000002600002</td><td>1</td><td>1</td><td>23</td><td>4</td><td>1</td><td>10750</td><td>78</td><td>10</td></tr><tr><th>22</th><td>1001000002700001</td><td>1</td><td>1</td><td>30</td><td>4</td><td>1</td><td>6450</td><td>60</td><td>10</td></tr><tr><th>23</th><td>1001000002700002</td><td>1</td><td>3</td><td>29</td><td>11</td><td>1</td><td>8600</td><td>30</td><td>10</td></tr><tr><th>24</th><td>1001000002800001</td><td>1</td><td>1</td><td>22</td><td>3</td><td>1</td><td>4730</td><td>72</td><td>10</td></tr><tr><th>25</th><td>1001000002800002</td><td>1</td><td>3</td><td>29</td><td>4</td><td>1</td><td>12900</td><td>52</td><td>10</td></tr><tr><th>26</th><td>1001000002900001</td><td>1</td><td>1</td><td>49</td><td>4</td><td>1</td><td>10750</td><td>61</td><td>10</td></tr><tr><th>27</th><td>1001000002900002</td><td>1</td><td>3</td><td>39</td><td>11</td><td>1</td><td>12900</td><td>32</td><td>10</td></tr><tr><th>28</th><td>1001000003000001</td><td>1</td><td>3</td><td>29</td><td>11</td><td>1</td><td>12040</td><td>48</td><td>10</td></tr><tr><th>29</th><td>1001000003000003</td><td>1</td><td>1</td><td>28</td><td>11</td><td>1</td><td>8600</td><td>45</td><td>10</td></tr><tr><th>30</th><td>1001000003400002</td><td>1</td><td>3</td><td>31</td><td>3</td><td>1</td><td>7224</td><td>52</td><td>10</td></tr><tr><th>&vellip;</th><td>&vellip;</td><td>&vellip;</td><td>&vellip;</td><td>&vellip;</td><td>&vellip;</td><td>&vellip;</td><td>&vellip;</td><td>&vellip;</td><td>&vellip;</td></tr></tbody></table></div>"
      ],
      "text/latex": [
       "\\begin{tabular}{r|cccccccccc}\n",
       "\t& ID\\_PERSONA & ENT & SEXO & EDAD & NIVACAD & ALFABET & INGTRMEN & HORTRA & CONACT & \\\\\n",
       "\t\\hline\n",
       "\t& Int64 & Cat… & Cat… & Int64 & Cat… & Cat… & Int64 & Int64 & Int64 & \\\\\n",
       "\t\\hline\n",
       "\t1 & 1001000000400001 & 1 & 1 & 62 & 13 & 1 & 30000 & 21 & 10 & $\\dots$ \\\\\n",
       "\t2 & 1001000000400002 & 1 & 1 & 32 & 11 & 1 & 4000 & 48 & 10 & $\\dots$ \\\\\n",
       "\t3 & 1001000000400003 & 1 & 3 & 54 & 13 & 1 & 32000 & 42 & 10 & $\\dots$ \\\\\n",
       "\t4 & 1001000000600002 & 1 & 3 & 41 & 11 & 1 & 25000 & 40 & 10 & $\\dots$ \\\\\n",
       "\t5 & 1001000000700001 & 1 & 1 & 28 & 11 & 1 & 40000 & 60 & 10 & $\\dots$ \\\\\n",
       "\t6 & 1001000000800002 & 1 & 3 & 42 & 13 & 1 & 12000 & 45 & 10 & $\\dots$ \\\\\n",
       "\t7 & 1001000000800003 & 1 & 1 & 42 & 13 & 1 & 16000 & 45 & 10 & $\\dots$ \\\\\n",
       "\t8 & 1001000000900003 & 1 & 1 & 45 & 11 & 1 & 20000 & 42 & 10 & $\\dots$ \\\\\n",
       "\t9 & 1001000001200005 & 1 & 3 & 43 & 13 & 1 & 20000 & 40 & 10 & $\\dots$ \\\\\n",
       "\t10 & 1001000001300003 & 1 & 3 & 65 & 11 & 1 & 17000 & 54 & 10 & $\\dots$ \\\\\n",
       "\t11 & 1001000001400001 & 1 & 3 & 34 & 11 & 1 & 20000 & 48 & 10 & $\\dots$ \\\\\n",
       "\t12 & 1001000001400003 & 1 & 1 & 35 & 11 & 1 & 30000 & 60 & 10 & $\\dots$ \\\\\n",
       "\t13 & 1001000001600004 & 1 & 3 & 39 & 13 & 1 & 26000 & 48 & 10 & $\\dots$ \\\\\n",
       "\t14 & 1001000001900001 & 1 & 3 & 26 & 11 & 1 & 7600 & 48 & 10 & $\\dots$ \\\\\n",
       "\t15 & 1001000001900002 & 1 & 1 & 34 & 11 & 1 & 12000 & 48 & 10 & $\\dots$ \\\\\n",
       "\t16 & 1001000002000002 & 1 & 3 & 37 & 11 & 1 & 4300 & 10 & 10 & $\\dots$ \\\\\n",
       "\t17 & 1001000002100002 & 1 & 1 & 32 & 2 & 1 & 10750 & 48 & 10 & $\\dots$ \\\\\n",
       "\t18 & 1001000002200003 & 1 & 1 & 31 & 3 & 1 & 10750 & 50 & 10 & $\\dots$ \\\\\n",
       "\t19 & 1001000002300001 & 1 & 3 & 53 & 3 & 1 & 8170 & 48 & 10 & $\\dots$ \\\\\n",
       "\t20 & 1001000002500001 & 1 & 1 & 39 & 3 & 1 & 6450 & 72 & 10 & $\\dots$ \\\\\n",
       "\t21 & 1001000002600002 & 1 & 1 & 23 & 4 & 1 & 10750 & 78 & 10 & $\\dots$ \\\\\n",
       "\t22 & 1001000002700001 & 1 & 1 & 30 & 4 & 1 & 6450 & 60 & 10 & $\\dots$ \\\\\n",
       "\t23 & 1001000002700002 & 1 & 3 & 29 & 11 & 1 & 8600 & 30 & 10 & $\\dots$ \\\\\n",
       "\t24 & 1001000002800001 & 1 & 1 & 22 & 3 & 1 & 4730 & 72 & 10 & $\\dots$ \\\\\n",
       "\t25 & 1001000002800002 & 1 & 3 & 29 & 4 & 1 & 12900 & 52 & 10 & $\\dots$ \\\\\n",
       "\t26 & 1001000002900001 & 1 & 1 & 49 & 4 & 1 & 10750 & 61 & 10 & $\\dots$ \\\\\n",
       "\t27 & 1001000002900002 & 1 & 3 & 39 & 11 & 1 & 12900 & 32 & 10 & $\\dots$ \\\\\n",
       "\t28 & 1001000003000001 & 1 & 3 & 29 & 11 & 1 & 12040 & 48 & 10 & $\\dots$ \\\\\n",
       "\t29 & 1001000003000003 & 1 & 1 & 28 & 11 & 1 & 8600 & 45 & 10 & $\\dots$ \\\\\n",
       "\t30 & 1001000003400002 & 1 & 3 & 31 & 3 & 1 & 7224 & 52 & 10 & $\\dots$ \\\\\n",
       "\t$\\dots$ & $\\dots$ & $\\dots$ & $\\dots$ & $\\dots$ & $\\dots$ & $\\dots$ & $\\dots$ & $\\dots$ & $\\dots$ &  \\\\\n",
       "\\end{tabular}\n"
      ],
      "text/plain": [
       "\u001b[1m3460365×18 DataFrame\u001b[0m\n",
       "\u001b[1m     Row \u001b[0m│\u001b[1m ID_PERSONA        \u001b[0m\u001b[1m ENT  \u001b[0m\u001b[1m SEXO \u001b[0m\u001b[1m EDAD  \u001b[0m\u001b[1m NIVACAD \u001b[0m\u001b[1m ALFABET \u001b[0m\u001b[1m INGTRMEN \u001b[0m\u001b[1m H\u001b[0m ⋯\n",
       "\u001b[1m         \u001b[0m│\u001b[90m Int64             \u001b[0m\u001b[90m Cat… \u001b[0m\u001b[90m Cat… \u001b[0m\u001b[90m Int64 \u001b[0m\u001b[90m Cat…    \u001b[0m\u001b[90m Cat…    \u001b[0m\u001b[90m Int64    \u001b[0m\u001b[90m I\u001b[0m ⋯\n",
       "─────────┼──────────────────────────────────────────────────────────────────────\n",
       "       1 │  1001000000400001  1     1        62  13       1           30000    ⋯\n",
       "       2 │  1001000000400002  1     1        32  11       1            4000\n",
       "       3 │  1001000000400003  1     3        54  13       1           32000\n",
       "       4 │  1001000000600002  1     3        41  11       1           25000\n",
       "       5 │  1001000000700001  1     1        28  11       1           40000    ⋯\n",
       "       6 │  1001000000800002  1     3        42  13       1           12000\n",
       "       7 │  1001000000800003  1     1        42  13       1           16000\n",
       "       8 │  1001000000900003  1     1        45  11       1           20000\n",
       "       9 │  1001000001200005  1     3        43  13       1           20000    ⋯\n",
       "      10 │  1001000001300003  1     3        65  11       1           17000\n",
       "      11 │  1001000001400001  1     3        34  11       1           20000\n",
       "    ⋮    │         ⋮           ⋮     ⋮      ⋮       ⋮        ⋮        ⋮        ⋱\n",
       " 3460356 │ 32058000083000001  32    1        71  2        3            5160\n",
       " 3460357 │ 32058000083000002  32    1        73  2        3            4300    ⋯\n",
       " 3460358 │ 32058000083100001  32    1        75  2        3            6450\n",
       " 3460359 │ 32058000083200002  32    1        37  3        1            2400\n",
       " 3460360 │ 32058000083300003  32    1        40  3        1            2000\n",
       " 3460361 │ 32058000083700002  32    1        53  2        1            4000    ⋯\n",
       " 3460362 │ 32058000084000005  32    1        37  11       1           10000\n",
       " 3460363 │ 32058000084400004  32    1        30  3        1            1200\n",
       " 3460364 │ 32058000084600001  32    1        50  3        1            3440\n",
       " 3460365 │ 32058000084800003  32    1        38  3        1            5000    ⋯\n",
       "\u001b[36m                                             11 columns and 3460344 rows omitted\u001b[0m"
      ]
     },
     "execution_count": 10,
     "metadata": {},
     "output_type": "execute_result"
    }
   ],
   "source": [
    "# Vector con todas las categorias\n",
    "vector_categorias = [\"SEXO\", \"AGUINALDO\", \"VACACIONES\", \"SERVICIO_MEDICO\", \"UTILIDADES\", \n",
    "    \"INCAP_SUELDO\", \"SAR_AFORE\", \"CREDITO_VIVIENDA\", \"ALFABET\", \"NIVACAD\", \"ENT_PAIS_TRAB\", \n",
    "    \"ENT\", \"SITTRA\"]\n",
    "\n",
    "transform!(data, names(data, vector_categorias) .=> categorical, renamecols=false)"
   ]
  },
  {
   "cell_type": "code",
   "execution_count": 11,
   "id": "7974ae27",
   "metadata": {},
   "outputs": [
    {
     "data": {
      "text/plain": [
       "fit5 (generic function with 1 method)"
      ]
     },
     "execution_count": 11,
     "metadata": {},
     "output_type": "execute_result"
    }
   ],
   "source": [
    "### FIT BASE ###\n",
    "function fit5(cantidad_sample, nombre_facil)\n",
    "    nombre_fit = \"fit5\"\n",
    "    \n",
    "    sample_rows = sample(1:nrow(data), cantidad_sample, replace=false)\n",
    "\n",
    "    df_sample = data[sample_rows, :]\n",
    "    \n",
    "    nombre_completo = nombre_facil*\"_\"*nombre_fit*\".csv\"\n",
    "    # Guardamos el documentos para usarlo en R\n",
    "    CSV.write(nombre_completo, df_sample)\n",
    "\n",
    "    # Hacemos el fit\n",
    "    sample_fit = lm(@formula(INGTRMEN ~ SEXO + EDAD + NIVACAD + HORTRA + ENT_PAIS_TRAB), df_sample)\n",
    "\n",
    "    aux = \"res_\"\n",
    "    nombre_completo = aux*nombre_completo\n",
    "    CSV.write(nombre_completo, coeftable(sample_fit))\n",
    "end "
   ]
  },
  {
   "cell_type": "code",
   "execution_count": 12,
   "id": "0776ebe1",
   "metadata": {},
   "outputs": [
    {
     "data": {
      "text/plain": [
       "\"res_2500mil_fit5.csv\""
      ]
     },
     "execution_count": 12,
     "metadata": {},
     "output_type": "execute_result"
    }
   ],
   "source": [
    "# Fit 5\n",
    "fit5(500, \"500\")\n",
    "fit5(5000, \"5mil\")\n",
    "fit5(50000, \"50mil\")\n",
    "fit5(500000, \"500mil\")\n",
    "fit5(2500000, \"2500mil\")"
   ]
  },
  {
   "cell_type": "code",
   "execution_count": 13,
   "id": "a80c339b",
   "metadata": {},
   "outputs": [
    {
     "data": {
      "text/plain": [
       "fit6 (generic function with 1 method)"
      ]
     },
     "execution_count": 13,
     "metadata": {},
     "output_type": "execute_result"
    }
   ],
   "source": [
    "### FIT 6 ###\n",
    "function fit6(cantidad_sample, nombre_facil)\n",
    "    nombre_fit = \"fit6\"\n",
    "    \n",
    "    sample_rows = sample(1:nrow(data), cantidad_sample, replace=false)\n",
    "\n",
    "    df_sample = data[sample_rows, :]\n",
    "    \n",
    "    nombre_completo = nombre_facil*\"_\"*nombre_fit*\".csv\"\n",
    "    # Guardamos el documentos para usarlo en R\n",
    "    CSV.write(nombre_completo, df_sample)\n",
    "\n",
    "    # Hacemos el fit\n",
    "    sample_fit = lm(@formula(INGTRMEN ~ SEXO + EDAD + NIVACAD + HORTRA + ENT_PAIS_TRAB + SITTRA), df_sample)\n",
    "\n",
    "    aux = \"res_\"\n",
    "    nombre_completo = aux*nombre_completo\n",
    "    CSV.write(nombre_completo, coeftable(sample_fit))\n",
    "end "
   ]
  },
  {
   "cell_type": "code",
   "execution_count": 14,
   "id": "245436a3",
   "metadata": {},
   "outputs": [
    {
     "data": {
      "text/plain": [
       "\"res_2500mil_fit6.csv\""
      ]
     },
     "execution_count": 14,
     "metadata": {},
     "output_type": "execute_result"
    }
   ],
   "source": [
    "# Fit 6: Fit 5 + SITTRA\n",
    "fit6(500, \"500\")\n",
    "fit6(5000, \"5mil\")\n",
    "fit6(50000, \"50mil\")\n",
    "fit6(500000, \"500mil\")\n",
    "fit6(2500000, \"2500mil\")"
   ]
  },
  {
   "cell_type": "code",
   "execution_count": 15,
   "id": "d0d8d095",
   "metadata": {},
   "outputs": [
    {
     "data": {
      "text/plain": [
       "fit7 (generic function with 1 method)"
      ]
     },
     "execution_count": 15,
     "metadata": {},
     "output_type": "execute_result"
    }
   ],
   "source": [
    "### FIT 7 ###\n",
    "function fit7(cantidad_sample, nombre_facil)\n",
    "    nombre_fit = \"fit7\"\n",
    "    \n",
    "    sample_rows = sample(1:nrow(data), cantidad_sample, replace=false)\n",
    "\n",
    "    df_sample = data[sample_rows, :]\n",
    "    \n",
    "    nombre_completo = nombre_facil*\"_\"*nombre_fit*\".csv\"\n",
    "    # Guardamos el documentos para usarlo en R\n",
    "    CSV.write(nombre_completo, df_sample)\n",
    "\n",
    "    # Hacemos el fit\n",
    "    sample_fit = lm(@formula(INGTRMEN ~ SEXO + EDAD + NIVACAD + HORTRA + ENT_PAIS_TRAB\n",
    "            + SITTRA + ALFABET), df_sample)\n",
    "\n",
    "    aux = \"res_\"\n",
    "    nombre_completo = aux*nombre_completo\n",
    "    CSV.write(nombre_completo, coeftable(sample_fit))\n",
    "end "
   ]
  },
  {
   "cell_type": "code",
   "execution_count": 16,
   "id": "6c663b23",
   "metadata": {},
   "outputs": [
    {
     "data": {
      "text/plain": [
       "\"res_2500mil_fit7.csv\""
      ]
     },
     "execution_count": 16,
     "metadata": {},
     "output_type": "execute_result"
    }
   ],
   "source": [
    "# Fit 7: Fit 5 + SITTRA + ALFABET\n",
    "fit7(500, \"500\")\n",
    "fit7(5000, \"5mil\")\n",
    "fit7(50000, \"50mil\")\n",
    "fit7(500000, \"500mil\")\n",
    "fit7(2500000, \"2500mil\")"
   ]
  },
  {
   "cell_type": "code",
   "execution_count": 17,
   "id": "a178a098",
   "metadata": {},
   "outputs": [
    {
     "data": {
      "text/plain": [
       "fit8 (generic function with 1 method)"
      ]
     },
     "execution_count": 17,
     "metadata": {},
     "output_type": "execute_result"
    }
   ],
   "source": [
    "### FIT 8###\n",
    "function fit8(cantidad_sample, nombre_facil)\n",
    "    nombre_fit = \"fit8\"\n",
    "    \n",
    "    sample_rows = sample(1:nrow(data), cantidad_sample, replace=false)\n",
    "\n",
    "    df_sample = data[sample_rows, :]\n",
    "    \n",
    "    nombre_completo = nombre_facil*\"_\"*nombre_fit*\".csv\"\n",
    "    # Guardamos el documentos para usarlo en R\n",
    "    CSV.write(nombre_completo, df_sample)\n",
    "\n",
    "    # Hacemos el fit\n",
    "    sample_fit = lm(@formula(INGTRMEN ~ SEXO + EDAD + NIVACAD + HORTRA + ENT_PAIS_TRAB\n",
    "            + SITTRA + ALFABET + AGUINALDO), df_sample)\n",
    "\n",
    "    aux = \"res_\"\n",
    "    nombre_completo = aux*nombre_completo\n",
    "    CSV.write(nombre_completo, coeftable(sample_fit))\n",
    "end "
   ]
  },
  {
   "cell_type": "code",
   "execution_count": 18,
   "id": "a28e6e8e",
   "metadata": {},
   "outputs": [
    {
     "data": {
      "text/plain": [
       "\"res_2500mil_fit8.csv\""
      ]
     },
     "execution_count": 18,
     "metadata": {},
     "output_type": "execute_result"
    }
   ],
   "source": [
    "# Fit 8: Fit 5 + SITTRA + ALFABET + AGUINALDO\n",
    "fit8(500, \"500\")\n",
    "fit8(5000, \"5mil\")\n",
    "fit8(50000, \"50mil\")\n",
    "fit8(500000, \"500mil\")\n",
    "fit8(2500000, \"2500mil\")"
   ]
  },
  {
   "cell_type": "code",
   "execution_count": 19,
   "id": "9eeb717a",
   "metadata": {},
   "outputs": [
    {
     "data": {
      "text/plain": [
       "fit9 (generic function with 1 method)"
      ]
     },
     "execution_count": 19,
     "metadata": {},
     "output_type": "execute_result"
    }
   ],
   "source": [
    "### FIT 9###\n",
    "function fit9(cantidad_sample, nombre_facil)\n",
    "    nombre_fit = \"fit9\"\n",
    "    \n",
    "    sample_rows = sample(1:nrow(data), cantidad_sample, replace=false)\n",
    "\n",
    "    df_sample = data[sample_rows, :]\n",
    "    \n",
    "    nombre_completo = nombre_facil*\"_\"*nombre_fit*\".csv\"\n",
    "    # Guardamos el documentos para usarlo en R\n",
    "    CSV.write(nombre_completo, df_sample)\n",
    "\n",
    "    # Hacemos el fit\n",
    "    sample_fit = lm(@formula(INGTRMEN ~ SEXO + EDAD + NIVACAD + HORTRA + ENT_PAIS_TRAB\n",
    "            + SITTRA + ALFABET + AGUINALDO + VACACIONES), df_sample)\n",
    "\n",
    "    aux = \"res_\"\n",
    "    nombre_completo = aux*nombre_completo\n",
    "    CSV.write(nombre_completo, coeftable(sample_fit))\n",
    "end "
   ]
  },
  {
   "cell_type": "code",
   "execution_count": 20,
   "id": "7762d942",
   "metadata": {},
   "outputs": [
    {
     "data": {
      "text/plain": [
       "\"res_2500mil_fit9.csv\""
      ]
     },
     "execution_count": 20,
     "metadata": {},
     "output_type": "execute_result"
    }
   ],
   "source": [
    "# Fit 9: Fit 5 + SITTRA + ALFABET + AGUINALDO +VACACIONES\n",
    "fit9(500, \"500\")\n",
    "fit9(5000, \"5mil\")\n",
    "fit9(50000, \"50mil\")\n",
    "fit9(500000, \"500mil\")\n",
    "fit9(2500000, \"2500mil\")"
   ]
  },
  {
   "cell_type": "code",
   "execution_count": 21,
   "id": "419ac44f",
   "metadata": {},
   "outputs": [
    {
     "data": {
      "text/plain": [
       "fit10 (generic function with 1 method)"
      ]
     },
     "execution_count": 21,
     "metadata": {},
     "output_type": "execute_result"
    }
   ],
   "source": [
    "### FIT 10###\n",
    "function fit10(cantidad_sample, nombre_facil)\n",
    "    nombre_fit = \"fit10\"\n",
    "    \n",
    "    sample_rows = sample(1:nrow(data), cantidad_sample, replace=false)\n",
    "\n",
    "    df_sample = data[sample_rows, :]\n",
    "    \n",
    "    nombre_completo = nombre_facil*\"_\"*nombre_fit*\".csv\"\n",
    "    # Guardamos el documentos para usarlo en R\n",
    "    CSV.write(nombre_completo, df_sample)\n",
    "\n",
    "    # Hacemos el fit\n",
    "    sample_fit = lm(@formula(INGTRMEN ~ SEXO + EDAD + NIVACAD + HORTRA + ENT_PAIS_TRAB\n",
    "            + SITTRA + ALFABET + AGUINALDO + VACACIONES + SERVICIO_MEDICO), df_sample)\n",
    "\n",
    "    aux = \"res_\"\n",
    "    nombre_completo = aux*nombre_completo\n",
    "    CSV.write(nombre_completo, coeftable(sample_fit))\n",
    "end "
   ]
  },
  {
   "cell_type": "code",
   "execution_count": 22,
   "id": "6be029af",
   "metadata": {},
   "outputs": [
    {
     "data": {
      "text/plain": [
       "\"res_2500mil_fit10.csv\""
      ]
     },
     "execution_count": 22,
     "metadata": {},
     "output_type": "execute_result"
    }
   ],
   "source": [
    "# Fit 10: Fit 5 + SITTRA + ALFABET + AGUINALDO + VACACIONES + SERVICIO_MEDICO\n",
    "fit10(500, \"500\")\n",
    "fit10(5000, \"5mil\")\n",
    "fit10(50000, \"50mil\")\n",
    "fit10(500000, \"500mil\")\n",
    "fit10(2500000, \"2500mil\")"
   ]
  },
  {
   "cell_type": "code",
   "execution_count": null,
   "id": "775b63e4",
   "metadata": {},
   "outputs": [],
   "source": []
  },
  {
   "cell_type": "code",
   "execution_count": null,
   "id": "e511d4a8",
   "metadata": {},
   "outputs": [],
   "source": []
  }
 ],
 "metadata": {
  "kernelspec": {
   "display_name": "Julia 1.6.3",
   "language": "julia",
   "name": "julia-1.6"
  },
  "language_info": {
   "file_extension": ".jl",
   "mimetype": "application/julia",
   "name": "julia",
   "version": "1.6.3"
  }
 },
 "nbformat": 4,
 "nbformat_minor": 5
}
