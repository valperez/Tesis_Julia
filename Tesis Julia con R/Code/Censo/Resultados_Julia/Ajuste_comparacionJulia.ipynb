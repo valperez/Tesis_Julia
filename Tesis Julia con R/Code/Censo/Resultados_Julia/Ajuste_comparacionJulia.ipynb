{
 "cells": [
  {
   "cell_type": "code",
   "execution_count": 1,
   "id": "df9cf3cb",
   "metadata": {},
   "outputs": [],
   "source": [
    "#using Pkg; Pkg.add(\"CategoricalArrays\")"
   ]
  },
  {
   "cell_type": "code",
   "execution_count": 1,
   "id": "79a41179",
   "metadata": {},
   "outputs": [],
   "source": [
    "using CSV, DataFrames, StatsBase, GLM, Random, CategoricalArrays"
   ]
  },
  {
   "cell_type": "code",
   "execution_count": 39,
   "id": "f594a9d8",
   "metadata": {},
   "outputs": [
    {
     "data": {
      "text/plain": [
       "MersenneTwister(99)"
      ]
     },
     "execution_count": 39,
     "metadata": {},
     "output_type": "execute_result"
    }
   ],
   "source": [
    "# Equivalente a set.seed\n",
    "Random.seed!(99)"
   ]
  },
  {
   "cell_type": "code",
   "execution_count": 54,
   "id": "bce64ca3",
   "metadata": {},
   "outputs": [
    {
     "ename": "LoadError",
     "evalue": "OutOfMemoryError()",
     "output_type": "error",
     "traceback": [
      "OutOfMemoryError()",
      "",
      "Stacktrace:",
      "  [1] Array",
      "    @ .\\boot.jl:448 [inlined]",
      "  [2] Array",
      "    @ .\\boot.jl:457 [inlined]",
      "  [3] SentinelArray",
      "    @ C:\\Users\\Valeria\\.julia\\packages\\SentinelArrays\\VbnBp\\src\\SentinelArrays.jl:83 [inlined]",
      "  [4] SentinelArray (repeats 2 times)",
      "    @ C:\\Users\\Valeria\\.julia\\packages\\SentinelArrays\\VbnBp\\src\\SentinelArrays.jl:105 [inlined]",
      "  [5] allocate(T::Type, len::Int64)",
      "    @ CSV C:\\Users\\Valeria\\.julia\\packages\\CSV\\owrEo\\src\\utils.jl:138",
      "  [6] detectcell(buf::Vector{UInt8}, pos::Int64, len::Int64, row::Int64, rowoffset::Int64, i::Int64, col::CSV.Column, ctx::CSV.Context, rowsguess::Int64)",
      "    @ CSV C:\\Users\\Valeria\\.julia\\packages\\CSV\\owrEo\\src\\file.jl:795",
      "  [7] parserow",
      "    @ C:\\Users\\Valeria\\.julia\\packages\\CSV\\owrEo\\src\\file.jl:643 [inlined]",
      "  [8] parsefilechunk!(ctx::CSV.Context, pos::Int64, len::Int64, rowsguess::Int64, rowoffset::Int64, columns::Vector{CSV.Column}, #unused#::Type{Tuple{CSV.NeedsTypeDetection}})",
      "    @ CSV C:\\Users\\Valeria\\.julia\\packages\\CSV\\owrEo\\src\\file.jl:596",
      "  [9] CSV.File(ctx::CSV.Context, chunking::Bool)",
      "    @ CSV C:\\Users\\Valeria\\.julia\\packages\\CSV\\owrEo\\src\\file.jl:269",
      " [10] File",
      "    @ C:\\Users\\Valeria\\.julia\\packages\\CSV\\owrEo\\src\\file.jl:225 [inlined]",
      " [11] #File#25",
      "    @ C:\\Users\\Valeria\\.julia\\packages\\CSV\\owrEo\\src\\file.jl:221 [inlined]",
      " [12] File",
      "    @ C:\\Users\\Valeria\\.julia\\packages\\CSV\\owrEo\\src\\file.jl:220 [inlined]",
      " [13] read(source::String, sink::Type; copycols::Bool, kwargs::Base.Iterators.Pairs{Union{}, Union{}, Tuple{}, NamedTuple{(), Tuple{}}})",
      "    @ CSV C:\\Users\\Valeria\\.julia\\packages\\CSV\\owrEo\\src\\CSV.jl:68",
      " [14] read(source::String, sink::Type)",
      "    @ CSV C:\\Users\\Valeria\\.julia\\packages\\CSV\\owrEo\\src\\CSV.jl:65",
      " [15] top-level scope",
      "    @ In[54]:4",
      " [16] eval",
      "    @ .\\boot.jl:360 [inlined]",
      " [17] include_string(mapexpr::typeof(REPL.softscope), mod::Module, code::String, filename::String)",
      "    @ Base .\\loading.jl:1116"
     ]
    }
   ],
   "source": [
    "# Base de datos del link https://www.inegi.org.mx/programas/ccpv/2020/default.html#Microdatos\n",
    "# se tarda como 4 miutos en cargar\n",
    "\n",
    "personas = CSV.read(\"Personas00.csv\", DataFrame)"
   ]
  },
  {
   "cell_type": "code",
   "execution_count": 55,
   "id": "037df125",
   "metadata": {},
   "outputs": [
    {
     "data": {
      "text/plain": [
       "18-element Vector{String}:\n",
       " \"ID_PERSONA\"\n",
       " \"ENT\"\n",
       " \"SEXO\"\n",
       " \"EDAD\"\n",
       " \"NIVACAD\"\n",
       " \"ALFABET\"\n",
       " \"INGTRMEN\"\n",
       " \"HORTRA\"\n",
       " \"CONACT\"\n",
       " \"SITTRA\"\n",
       " \"ENT_PAIS_TRAB\"\n",
       " \"AGUINALDO\"\n",
       " \"VACACIONES\"\n",
       " \"SERVICIO_MEDICO\"\n",
       " \"UTILIDADES\"\n",
       " \"INCAP_SUELDO\"\n",
       " \"SAR_AFORE\"\n",
       " \"CREDITO_VIVIENDA\""
      ]
     },
     "execution_count": 55,
     "metadata": {},
     "output_type": "execute_result"
    }
   ],
   "source": [
    "# Las columnas que estoy seleccionando para el ajuste\n",
    "col_sel = [\"ID_PERSONA\",\"ENT\",\"SEXO\", \"EDAD\", \"NIVACAD\", \"ALFABET\", \n",
    "            \"INGTRMEN\",\"HORTRA\", \"CONACT\", \"SITTRA\", \"ENT_PAIS_TRAB\",\n",
    "        \"AGUINALDO\", \"VACACIONES\", \"SERVICIO_MEDICO\", \"UTILIDADES\", \"INCAP_SUELDO\", \"SAR_AFORE\", \"CREDITO_VIVIENDA\"]"
   ]
  },
  {
   "cell_type": "code",
   "execution_count": 56,
   "id": "9a61262f",
   "metadata": {},
   "outputs": [
    {
     "ename": "LoadError",
     "evalue": "OutOfMemoryError()",
     "output_type": "error",
     "traceback": [
      "OutOfMemoryError()",
      "",
      "Stacktrace:",
      " [1] copy",
      "   @ .\\array.jl:349 [inlined]",
      " [2] _preprocess_column(col::Vector{Int64}, len::Int64, copycols::Bool)",
      "   @ DataFrames C:\\Users\\Valeria\\.julia\\packages\\DataFrames\\vuMM8\\src\\dataframe\\dataframe.jl:226",
      " [3] DataFrame(columns::Vector{AbstractVector{T} where T}, colindex::DataFrames.Index; copycols::Bool)",
      "   @ DataFrames C:\\Users\\Valeria\\.julia\\packages\\DataFrames\\vuMM8\\src\\dataframe\\dataframe.jl:205",
      " [4] manipulate(df::DataFrame, args::Vector{Int64}; copycols::Bool, keeprows::Bool, renamecols::Bool)",
      "   @ DataFrames C:\\Users\\Valeria\\.julia\\packages\\DataFrames\\vuMM8\\src\\abstractdataframe\\selection.jl:1432"
     ]
    }
   ],
   "source": [
    "# Selecciono solo las columnas que quiero\n",
    "personas_filt = personas[:, col_sel]"
   ]
  },
  {
   "cell_type": "code",
   "execution_count": 57,
   "id": "492aa590",
   "metadata": {},
   "outputs": [
    {
     "data": {
      "text/html": [
       "<div class=\"data-frame\"><p>3,460,365 rows × 18 columns (omitted printing of 9 columns)</p><table class=\"data-frame\"><thead><tr><th></th><th>ID_PERSONA</th><th>ENT</th><th>SEXO</th><th>EDAD</th><th>NIVACAD</th><th>ALFABET</th><th>INGTRMEN</th><th>HORTRA</th><th>CONACT</th></tr><tr><th></th><th title=\"Int64\">Int64</th><th title=\"Int64\">Int64</th><th title=\"Int64\">Int64</th><th title=\"Int64\">Int64</th><th title=\"Union{Missing, Int64}\">Int64?</th><th title=\"Union{Missing, Int64}\">Int64?</th><th title=\"Union{Missing, Int64}\">Int64?</th><th title=\"Union{Missing, Int64}\">Int64?</th><th title=\"Union{Missing, Int64}\">Int64?</th></tr></thead><tbody><tr><th>1</th><td>1001000000400001</td><td>1</td><td>1</td><td>62</td><td>13</td><td>1</td><td>30000</td><td>21</td><td>10</td></tr><tr><th>2</th><td>1001000000400002</td><td>1</td><td>1</td><td>32</td><td>11</td><td>1</td><td>4000</td><td>48</td><td>10</td></tr><tr><th>3</th><td>1001000000400003</td><td>1</td><td>3</td><td>54</td><td>13</td><td>1</td><td>32000</td><td>42</td><td>10</td></tr><tr><th>4</th><td>1001000000600002</td><td>1</td><td>3</td><td>41</td><td>11</td><td>1</td><td>25000</td><td>40</td><td>10</td></tr><tr><th>5</th><td>1001000000700001</td><td>1</td><td>1</td><td>28</td><td>11</td><td>1</td><td>40000</td><td>60</td><td>10</td></tr><tr><th>6</th><td>1001000000800002</td><td>1</td><td>3</td><td>42</td><td>13</td><td>1</td><td>12000</td><td>45</td><td>10</td></tr><tr><th>7</th><td>1001000000800003</td><td>1</td><td>1</td><td>42</td><td>13</td><td>1</td><td>16000</td><td>45</td><td>10</td></tr><tr><th>8</th><td>1001000000900003</td><td>1</td><td>1</td><td>45</td><td>11</td><td>1</td><td>20000</td><td>42</td><td>10</td></tr><tr><th>9</th><td>1001000001200005</td><td>1</td><td>3</td><td>43</td><td>13</td><td>1</td><td>20000</td><td>40</td><td>10</td></tr><tr><th>10</th><td>1001000001300003</td><td>1</td><td>3</td><td>65</td><td>11</td><td>1</td><td>17000</td><td>54</td><td>10</td></tr><tr><th>11</th><td>1001000001400001</td><td>1</td><td>3</td><td>34</td><td>11</td><td>1</td><td>20000</td><td>48</td><td>10</td></tr><tr><th>12</th><td>1001000001400003</td><td>1</td><td>1</td><td>35</td><td>11</td><td>1</td><td>30000</td><td>60</td><td>10</td></tr><tr><th>13</th><td>1001000001600004</td><td>1</td><td>3</td><td>39</td><td>13</td><td>1</td><td>26000</td><td>48</td><td>10</td></tr><tr><th>14</th><td>1001000001900001</td><td>1</td><td>3</td><td>26</td><td>11</td><td>1</td><td>7600</td><td>48</td><td>10</td></tr><tr><th>15</th><td>1001000001900002</td><td>1</td><td>1</td><td>34</td><td>11</td><td>1</td><td>12000</td><td>48</td><td>10</td></tr><tr><th>16</th><td>1001000002000002</td><td>1</td><td>3</td><td>37</td><td>11</td><td>1</td><td>4300</td><td>10</td><td>10</td></tr><tr><th>17</th><td>1001000002100002</td><td>1</td><td>1</td><td>32</td><td>2</td><td>1</td><td>10750</td><td>48</td><td>10</td></tr><tr><th>18</th><td>1001000002200003</td><td>1</td><td>1</td><td>31</td><td>3</td><td>1</td><td>10750</td><td>50</td><td>10</td></tr><tr><th>19</th><td>1001000002300001</td><td>1</td><td>3</td><td>53</td><td>3</td><td>1</td><td>8170</td><td>48</td><td>10</td></tr><tr><th>20</th><td>1001000002500001</td><td>1</td><td>1</td><td>39</td><td>3</td><td>1</td><td>6450</td><td>72</td><td>10</td></tr><tr><th>21</th><td>1001000002600002</td><td>1</td><td>1</td><td>23</td><td>4</td><td>1</td><td>10750</td><td>78</td><td>10</td></tr><tr><th>22</th><td>1001000002700001</td><td>1</td><td>1</td><td>30</td><td>4</td><td>1</td><td>6450</td><td>60</td><td>10</td></tr><tr><th>23</th><td>1001000002700002</td><td>1</td><td>3</td><td>29</td><td>11</td><td>1</td><td>8600</td><td>30</td><td>10</td></tr><tr><th>24</th><td>1001000002800001</td><td>1</td><td>1</td><td>22</td><td>3</td><td>1</td><td>4730</td><td>72</td><td>10</td></tr><tr><th>25</th><td>1001000002800002</td><td>1</td><td>3</td><td>29</td><td>4</td><td>1</td><td>12900</td><td>52</td><td>10</td></tr><tr><th>26</th><td>1001000002900001</td><td>1</td><td>1</td><td>49</td><td>4</td><td>1</td><td>10750</td><td>61</td><td>10</td></tr><tr><th>27</th><td>1001000002900002</td><td>1</td><td>3</td><td>39</td><td>11</td><td>1</td><td>12900</td><td>32</td><td>10</td></tr><tr><th>28</th><td>1001000003000001</td><td>1</td><td>3</td><td>29</td><td>11</td><td>1</td><td>12040</td><td>48</td><td>10</td></tr><tr><th>29</th><td>1001000003000003</td><td>1</td><td>1</td><td>28</td><td>11</td><td>1</td><td>8600</td><td>45</td><td>10</td></tr><tr><th>30</th><td>1001000003400002</td><td>1</td><td>3</td><td>31</td><td>3</td><td>1</td><td>7224</td><td>52</td><td>10</td></tr><tr><th>&vellip;</th><td>&vellip;</td><td>&vellip;</td><td>&vellip;</td><td>&vellip;</td><td>&vellip;</td><td>&vellip;</td><td>&vellip;</td><td>&vellip;</td><td>&vellip;</td></tr></tbody></table></div>"
      ],
      "text/latex": [
       "\\begin{tabular}{r|cccccccccc}\n",
       "\t& ID\\_PERSONA & ENT & SEXO & EDAD & NIVACAD & ALFABET & INGTRMEN & HORTRA & CONACT & \\\\\n",
       "\t\\hline\n",
       "\t& Int64 & Int64 & Int64 & Int64 & Int64? & Int64? & Int64? & Int64? & Int64? & \\\\\n",
       "\t\\hline\n",
       "\t1 & 1001000000400001 & 1 & 1 & 62 & 13 & 1 & 30000 & 21 & 10 & $\\dots$ \\\\\n",
       "\t2 & 1001000000400002 & 1 & 1 & 32 & 11 & 1 & 4000 & 48 & 10 & $\\dots$ \\\\\n",
       "\t3 & 1001000000400003 & 1 & 3 & 54 & 13 & 1 & 32000 & 42 & 10 & $\\dots$ \\\\\n",
       "\t4 & 1001000000600002 & 1 & 3 & 41 & 11 & 1 & 25000 & 40 & 10 & $\\dots$ \\\\\n",
       "\t5 & 1001000000700001 & 1 & 1 & 28 & 11 & 1 & 40000 & 60 & 10 & $\\dots$ \\\\\n",
       "\t6 & 1001000000800002 & 1 & 3 & 42 & 13 & 1 & 12000 & 45 & 10 & $\\dots$ \\\\\n",
       "\t7 & 1001000000800003 & 1 & 1 & 42 & 13 & 1 & 16000 & 45 & 10 & $\\dots$ \\\\\n",
       "\t8 & 1001000000900003 & 1 & 1 & 45 & 11 & 1 & 20000 & 42 & 10 & $\\dots$ \\\\\n",
       "\t9 & 1001000001200005 & 1 & 3 & 43 & 13 & 1 & 20000 & 40 & 10 & $\\dots$ \\\\\n",
       "\t10 & 1001000001300003 & 1 & 3 & 65 & 11 & 1 & 17000 & 54 & 10 & $\\dots$ \\\\\n",
       "\t11 & 1001000001400001 & 1 & 3 & 34 & 11 & 1 & 20000 & 48 & 10 & $\\dots$ \\\\\n",
       "\t12 & 1001000001400003 & 1 & 1 & 35 & 11 & 1 & 30000 & 60 & 10 & $\\dots$ \\\\\n",
       "\t13 & 1001000001600004 & 1 & 3 & 39 & 13 & 1 & 26000 & 48 & 10 & $\\dots$ \\\\\n",
       "\t14 & 1001000001900001 & 1 & 3 & 26 & 11 & 1 & 7600 & 48 & 10 & $\\dots$ \\\\\n",
       "\t15 & 1001000001900002 & 1 & 1 & 34 & 11 & 1 & 12000 & 48 & 10 & $\\dots$ \\\\\n",
       "\t16 & 1001000002000002 & 1 & 3 & 37 & 11 & 1 & 4300 & 10 & 10 & $\\dots$ \\\\\n",
       "\t17 & 1001000002100002 & 1 & 1 & 32 & 2 & 1 & 10750 & 48 & 10 & $\\dots$ \\\\\n",
       "\t18 & 1001000002200003 & 1 & 1 & 31 & 3 & 1 & 10750 & 50 & 10 & $\\dots$ \\\\\n",
       "\t19 & 1001000002300001 & 1 & 3 & 53 & 3 & 1 & 8170 & 48 & 10 & $\\dots$ \\\\\n",
       "\t20 & 1001000002500001 & 1 & 1 & 39 & 3 & 1 & 6450 & 72 & 10 & $\\dots$ \\\\\n",
       "\t21 & 1001000002600002 & 1 & 1 & 23 & 4 & 1 & 10750 & 78 & 10 & $\\dots$ \\\\\n",
       "\t22 & 1001000002700001 & 1 & 1 & 30 & 4 & 1 & 6450 & 60 & 10 & $\\dots$ \\\\\n",
       "\t23 & 1001000002700002 & 1 & 3 & 29 & 11 & 1 & 8600 & 30 & 10 & $\\dots$ \\\\\n",
       "\t24 & 1001000002800001 & 1 & 1 & 22 & 3 & 1 & 4730 & 72 & 10 & $\\dots$ \\\\\n",
       "\t25 & 1001000002800002 & 1 & 3 & 29 & 4 & 1 & 12900 & 52 & 10 & $\\dots$ \\\\\n",
       "\t26 & 1001000002900001 & 1 & 1 & 49 & 4 & 1 & 10750 & 61 & 10 & $\\dots$ \\\\\n",
       "\t27 & 1001000002900002 & 1 & 3 & 39 & 11 & 1 & 12900 & 32 & 10 & $\\dots$ \\\\\n",
       "\t28 & 1001000003000001 & 1 & 3 & 29 & 11 & 1 & 12040 & 48 & 10 & $\\dots$ \\\\\n",
       "\t29 & 1001000003000003 & 1 & 1 & 28 & 11 & 1 & 8600 & 45 & 10 & $\\dots$ \\\\\n",
       "\t30 & 1001000003400002 & 1 & 3 & 31 & 3 & 1 & 7224 & 52 & 10 & $\\dots$ \\\\\n",
       "\t$\\dots$ & $\\dots$ & $\\dots$ & $\\dots$ & $\\dots$ & $\\dots$ & $\\dots$ & $\\dots$ & $\\dots$ & $\\dots$ &  \\\\\n",
       "\\end{tabular}\n"
      ],
      "text/plain": [
       "\u001b[1m3460365×18 DataFrame\u001b[0m\n",
       "\u001b[1m     Row \u001b[0m│\u001b[1m ID_PERSONA        \u001b[0m\u001b[1m ENT   \u001b[0m\u001b[1m SEXO  \u001b[0m\u001b[1m EDAD  \u001b[0m\u001b[1m NIVACAD \u001b[0m\u001b[1m ALFABET \u001b[0m\u001b[1m INGTRMEN \u001b[0m\u001b[1m\u001b[0m ⋯\n",
       "\u001b[1m         \u001b[0m│\u001b[90m Int64             \u001b[0m\u001b[90m Int64 \u001b[0m\u001b[90m Int64 \u001b[0m\u001b[90m Int64 \u001b[0m\u001b[90m Int64?  \u001b[0m\u001b[90m Int64?  \u001b[0m\u001b[90m Int64?   \u001b[0m\u001b[90m\u001b[0m ⋯\n",
       "─────────┼──────────────────────────────────────────────────────────────────────\n",
       "       1 │  1001000000400001      1      1     62       13        1     30000  ⋯\n",
       "       2 │  1001000000400002      1      1     32       11        1      4000\n",
       "       3 │  1001000000400003      1      3     54       13        1     32000\n",
       "       4 │  1001000000600002      1      3     41       11        1     25000\n",
       "       5 │  1001000000700001      1      1     28       11        1     40000  ⋯\n",
       "       6 │  1001000000800002      1      3     42       13        1     12000\n",
       "       7 │  1001000000800003      1      1     42       13        1     16000\n",
       "       8 │  1001000000900003      1      1     45       11        1     20000\n",
       "       9 │  1001000001200005      1      3     43       13        1     20000  ⋯\n",
       "      10 │  1001000001300003      1      3     65       11        1     17000\n",
       "      11 │  1001000001400001      1      3     34       11        1     20000\n",
       "    ⋮    │         ⋮            ⋮      ⋮      ⋮       ⋮        ⋮        ⋮      ⋱\n",
       " 3460356 │ 32058000083000001     32      1     71        2        3      5160\n",
       " 3460357 │ 32058000083000002     32      1     73        2        3      4300  ⋯\n",
       " 3460358 │ 32058000083100001     32      1     75        2        3      6450\n",
       " 3460359 │ 32058000083200002     32      1     37        3        1      2400\n",
       " 3460360 │ 32058000083300003     32      1     40        3        1      2000\n",
       " 3460361 │ 32058000083700002     32      1     53        2        1      4000  ⋯\n",
       " 3460362 │ 32058000084000005     32      1     37       11        1     10000\n",
       " 3460363 │ 32058000084400004     32      1     30        3        1      1200\n",
       " 3460364 │ 32058000084600001     32      1     50        3        1      3440\n",
       " 3460365 │ 32058000084800003     32      1     38        3        1      5000  ⋯\n",
       "\u001b[36m                                             11 columns and 3460344 rows omitted\u001b[0m"
      ]
     },
     "execution_count": 57,
     "metadata": {},
     "output_type": "execute_result"
    }
   ],
   "source": [
    "# Es momento de filtrar\n",
    "\n",
    "# Primero filtramos con las personas que actually trabajan porque son las que nos importan\n",
    "cond_act = [10, 13, 14, 15, 16, 17, 18, 19, 20]\n",
    "personas_filt = subset(personas_filt, :CONACT => ByRow(in(cond_act)), skipmissing = true)\n",
    "\n",
    "# Este filtro se queda porque es menor que \n",
    "# Este es para entidad de trabajo\n",
    "personas_filt = subset(personas_filt, :ENT_PAIS_TRAB => ByRow(<(33)), skipmissing = true)\n",
    "# y este es para entidad de vivienda\n",
    "personas_filt = subset(personas_filt, :ENT => ByRow(<(33)), skipmissing = true)\n",
    "\n",
    "# y este para las horas trabajadas\n",
    "personas_filt = subset(personas_filt, :HORTRA => ByRow(!=(999)), skipmissing = true)\n",
    "\n",
    "# y el ingreso ganado\n",
    "personas_filt = subset(personas_filt, :INGTRMEN => ByRow(!=(999999)), skipmissing = true)\n"
   ]
  },
  {
   "cell_type": "code",
   "execution_count": 58,
   "id": "6910a1b9",
   "metadata": {},
   "outputs": [],
   "source": [
    "function diferente_a(dataframe, columna, condicion)\n",
    "    dataframe = subset(dataframe, columna => ByRow(!=(condicion)), skipmissing = true)\n",
    "    return dataframe\n",
    "end\n",
    "\n",
    "categorias_9 = [\"SEXO\", \"AGUINALDO\", \"VACACIONES\", \"SERVICIO_MEDICO\", \"UTILIDADES\", \n",
    "    \"INCAP_SUELDO\", \"SAR_AFORE\", \"CREDITO_VIVIENDA\", \"ALFABET\", \"SITTRA\"]\n",
    "\n",
    "categorias_99 = [\"NIVACAD\"]\n",
    "\n",
    "for i = 1:length(categorias_9)\n",
    "    personas_filt = diferente_a(personas_filt, categorias_9[i], 9)\n",
    "end\n",
    "\n",
    "for i = 1:length(categorias_99)\n",
    "    personas_filt = diferente_a(personas_filt, categorias_99[i], 99)\n",
    "end"
   ]
  },
  {
   "cell_type": "code",
   "execution_count": 59,
   "id": "599d14b4",
   "metadata": {},
   "outputs": [
    {
     "data": {
      "text/plain": [
       "\"personas_filtradas.csv\""
      ]
     },
     "execution_count": 59,
     "metadata": {},
     "output_type": "execute_result"
    }
   ],
   "source": [
    "CSV.write(\"personas_filtradas.csv\", personas_filt)"
   ]
  },
  {
   "cell_type": "code",
   "execution_count": 26,
   "id": "b437e2c4",
   "metadata": {},
   "outputs": [
    {
     "data": {
      "text/html": [
       "<div class=\"data-frame\"><p>3,460,365 rows × 18 columns (omitted printing of 9 columns)</p><table class=\"data-frame\"><thead><tr><th></th><th>ID_PERSONA</th><th>ENT</th><th>SEXO</th><th>EDAD</th><th>NIVACAD</th><th>ALFABET</th><th>INGTRMEN</th><th>HORTRA</th><th>CONACT</th></tr><tr><th></th><th title=\"Int64\">Int64</th><th title=\"Int64\">Int64</th><th title=\"Int64\">Int64</th><th title=\"Int64\">Int64</th><th title=\"Int64\">Int64</th><th title=\"Int64\">Int64</th><th title=\"Int64\">Int64</th><th title=\"Int64\">Int64</th><th title=\"Int64\">Int64</th></tr></thead><tbody><tr><th>1</th><td>1001000000400001</td><td>1</td><td>1</td><td>62</td><td>13</td><td>1</td><td>30000</td><td>21</td><td>10</td></tr><tr><th>2</th><td>1001000000400002</td><td>1</td><td>1</td><td>32</td><td>11</td><td>1</td><td>4000</td><td>48</td><td>10</td></tr><tr><th>3</th><td>1001000000400003</td><td>1</td><td>3</td><td>54</td><td>13</td><td>1</td><td>32000</td><td>42</td><td>10</td></tr><tr><th>4</th><td>1001000000600002</td><td>1</td><td>3</td><td>41</td><td>11</td><td>1</td><td>25000</td><td>40</td><td>10</td></tr><tr><th>5</th><td>1001000000700001</td><td>1</td><td>1</td><td>28</td><td>11</td><td>1</td><td>40000</td><td>60</td><td>10</td></tr><tr><th>6</th><td>1001000000800002</td><td>1</td><td>3</td><td>42</td><td>13</td><td>1</td><td>12000</td><td>45</td><td>10</td></tr><tr><th>7</th><td>1001000000800003</td><td>1</td><td>1</td><td>42</td><td>13</td><td>1</td><td>16000</td><td>45</td><td>10</td></tr><tr><th>8</th><td>1001000000900003</td><td>1</td><td>1</td><td>45</td><td>11</td><td>1</td><td>20000</td><td>42</td><td>10</td></tr><tr><th>9</th><td>1001000001200005</td><td>1</td><td>3</td><td>43</td><td>13</td><td>1</td><td>20000</td><td>40</td><td>10</td></tr><tr><th>10</th><td>1001000001300003</td><td>1</td><td>3</td><td>65</td><td>11</td><td>1</td><td>17000</td><td>54</td><td>10</td></tr><tr><th>11</th><td>1001000001400001</td><td>1</td><td>3</td><td>34</td><td>11</td><td>1</td><td>20000</td><td>48</td><td>10</td></tr><tr><th>12</th><td>1001000001400003</td><td>1</td><td>1</td><td>35</td><td>11</td><td>1</td><td>30000</td><td>60</td><td>10</td></tr><tr><th>13</th><td>1001000001600004</td><td>1</td><td>3</td><td>39</td><td>13</td><td>1</td><td>26000</td><td>48</td><td>10</td></tr><tr><th>14</th><td>1001000001900001</td><td>1</td><td>3</td><td>26</td><td>11</td><td>1</td><td>7600</td><td>48</td><td>10</td></tr><tr><th>15</th><td>1001000001900002</td><td>1</td><td>1</td><td>34</td><td>11</td><td>1</td><td>12000</td><td>48</td><td>10</td></tr><tr><th>16</th><td>1001000002000002</td><td>1</td><td>3</td><td>37</td><td>11</td><td>1</td><td>4300</td><td>10</td><td>10</td></tr><tr><th>17</th><td>1001000002100002</td><td>1</td><td>1</td><td>32</td><td>2</td><td>1</td><td>10750</td><td>48</td><td>10</td></tr><tr><th>18</th><td>1001000002200003</td><td>1</td><td>1</td><td>31</td><td>3</td><td>1</td><td>10750</td><td>50</td><td>10</td></tr><tr><th>19</th><td>1001000002300001</td><td>1</td><td>3</td><td>53</td><td>3</td><td>1</td><td>8170</td><td>48</td><td>10</td></tr><tr><th>20</th><td>1001000002500001</td><td>1</td><td>1</td><td>39</td><td>3</td><td>1</td><td>6450</td><td>72</td><td>10</td></tr><tr><th>21</th><td>1001000002600002</td><td>1</td><td>1</td><td>23</td><td>4</td><td>1</td><td>10750</td><td>78</td><td>10</td></tr><tr><th>22</th><td>1001000002700001</td><td>1</td><td>1</td><td>30</td><td>4</td><td>1</td><td>6450</td><td>60</td><td>10</td></tr><tr><th>23</th><td>1001000002700002</td><td>1</td><td>3</td><td>29</td><td>11</td><td>1</td><td>8600</td><td>30</td><td>10</td></tr><tr><th>24</th><td>1001000002800001</td><td>1</td><td>1</td><td>22</td><td>3</td><td>1</td><td>4730</td><td>72</td><td>10</td></tr><tr><th>25</th><td>1001000002800002</td><td>1</td><td>3</td><td>29</td><td>4</td><td>1</td><td>12900</td><td>52</td><td>10</td></tr><tr><th>26</th><td>1001000002900001</td><td>1</td><td>1</td><td>49</td><td>4</td><td>1</td><td>10750</td><td>61</td><td>10</td></tr><tr><th>27</th><td>1001000002900002</td><td>1</td><td>3</td><td>39</td><td>11</td><td>1</td><td>12900</td><td>32</td><td>10</td></tr><tr><th>28</th><td>1001000003000001</td><td>1</td><td>3</td><td>29</td><td>11</td><td>1</td><td>12040</td><td>48</td><td>10</td></tr><tr><th>29</th><td>1001000003000003</td><td>1</td><td>1</td><td>28</td><td>11</td><td>1</td><td>8600</td><td>45</td><td>10</td></tr><tr><th>30</th><td>1001000003400002</td><td>1</td><td>3</td><td>31</td><td>3</td><td>1</td><td>7224</td><td>52</td><td>10</td></tr><tr><th>&vellip;</th><td>&vellip;</td><td>&vellip;</td><td>&vellip;</td><td>&vellip;</td><td>&vellip;</td><td>&vellip;</td><td>&vellip;</td><td>&vellip;</td><td>&vellip;</td></tr></tbody></table></div>"
      ],
      "text/latex": [
       "\\begin{tabular}{r|cccccccccc}\n",
       "\t& ID\\_PERSONA & ENT & SEXO & EDAD & NIVACAD & ALFABET & INGTRMEN & HORTRA & CONACT & \\\\\n",
       "\t\\hline\n",
       "\t& Int64 & Int64 & Int64 & Int64 & Int64 & Int64 & Int64 & Int64 & Int64 & \\\\\n",
       "\t\\hline\n",
       "\t1 & 1001000000400001 & 1 & 1 & 62 & 13 & 1 & 30000 & 21 & 10 & $\\dots$ \\\\\n",
       "\t2 & 1001000000400002 & 1 & 1 & 32 & 11 & 1 & 4000 & 48 & 10 & $\\dots$ \\\\\n",
       "\t3 & 1001000000400003 & 1 & 3 & 54 & 13 & 1 & 32000 & 42 & 10 & $\\dots$ \\\\\n",
       "\t4 & 1001000000600002 & 1 & 3 & 41 & 11 & 1 & 25000 & 40 & 10 & $\\dots$ \\\\\n",
       "\t5 & 1001000000700001 & 1 & 1 & 28 & 11 & 1 & 40000 & 60 & 10 & $\\dots$ \\\\\n",
       "\t6 & 1001000000800002 & 1 & 3 & 42 & 13 & 1 & 12000 & 45 & 10 & $\\dots$ \\\\\n",
       "\t7 & 1001000000800003 & 1 & 1 & 42 & 13 & 1 & 16000 & 45 & 10 & $\\dots$ \\\\\n",
       "\t8 & 1001000000900003 & 1 & 1 & 45 & 11 & 1 & 20000 & 42 & 10 & $\\dots$ \\\\\n",
       "\t9 & 1001000001200005 & 1 & 3 & 43 & 13 & 1 & 20000 & 40 & 10 & $\\dots$ \\\\\n",
       "\t10 & 1001000001300003 & 1 & 3 & 65 & 11 & 1 & 17000 & 54 & 10 & $\\dots$ \\\\\n",
       "\t11 & 1001000001400001 & 1 & 3 & 34 & 11 & 1 & 20000 & 48 & 10 & $\\dots$ \\\\\n",
       "\t12 & 1001000001400003 & 1 & 1 & 35 & 11 & 1 & 30000 & 60 & 10 & $\\dots$ \\\\\n",
       "\t13 & 1001000001600004 & 1 & 3 & 39 & 13 & 1 & 26000 & 48 & 10 & $\\dots$ \\\\\n",
       "\t14 & 1001000001900001 & 1 & 3 & 26 & 11 & 1 & 7600 & 48 & 10 & $\\dots$ \\\\\n",
       "\t15 & 1001000001900002 & 1 & 1 & 34 & 11 & 1 & 12000 & 48 & 10 & $\\dots$ \\\\\n",
       "\t16 & 1001000002000002 & 1 & 3 & 37 & 11 & 1 & 4300 & 10 & 10 & $\\dots$ \\\\\n",
       "\t17 & 1001000002100002 & 1 & 1 & 32 & 2 & 1 & 10750 & 48 & 10 & $\\dots$ \\\\\n",
       "\t18 & 1001000002200003 & 1 & 1 & 31 & 3 & 1 & 10750 & 50 & 10 & $\\dots$ \\\\\n",
       "\t19 & 1001000002300001 & 1 & 3 & 53 & 3 & 1 & 8170 & 48 & 10 & $\\dots$ \\\\\n",
       "\t20 & 1001000002500001 & 1 & 1 & 39 & 3 & 1 & 6450 & 72 & 10 & $\\dots$ \\\\\n",
       "\t21 & 1001000002600002 & 1 & 1 & 23 & 4 & 1 & 10750 & 78 & 10 & $\\dots$ \\\\\n",
       "\t22 & 1001000002700001 & 1 & 1 & 30 & 4 & 1 & 6450 & 60 & 10 & $\\dots$ \\\\\n",
       "\t23 & 1001000002700002 & 1 & 3 & 29 & 11 & 1 & 8600 & 30 & 10 & $\\dots$ \\\\\n",
       "\t24 & 1001000002800001 & 1 & 1 & 22 & 3 & 1 & 4730 & 72 & 10 & $\\dots$ \\\\\n",
       "\t25 & 1001000002800002 & 1 & 3 & 29 & 4 & 1 & 12900 & 52 & 10 & $\\dots$ \\\\\n",
       "\t26 & 1001000002900001 & 1 & 1 & 49 & 4 & 1 & 10750 & 61 & 10 & $\\dots$ \\\\\n",
       "\t27 & 1001000002900002 & 1 & 3 & 39 & 11 & 1 & 12900 & 32 & 10 & $\\dots$ \\\\\n",
       "\t28 & 1001000003000001 & 1 & 3 & 29 & 11 & 1 & 12040 & 48 & 10 & $\\dots$ \\\\\n",
       "\t29 & 1001000003000003 & 1 & 1 & 28 & 11 & 1 & 8600 & 45 & 10 & $\\dots$ \\\\\n",
       "\t30 & 1001000003400002 & 1 & 3 & 31 & 3 & 1 & 7224 & 52 & 10 & $\\dots$ \\\\\n",
       "\t$\\dots$ & $\\dots$ & $\\dots$ & $\\dots$ & $\\dots$ & $\\dots$ & $\\dots$ & $\\dots$ & $\\dots$ & $\\dots$ &  \\\\\n",
       "\\end{tabular}\n"
      ],
      "text/plain": [
       "\u001b[1m3460365×18 DataFrame\u001b[0m\n",
       "\u001b[1m     Row \u001b[0m│\u001b[1m ID_PERSONA        \u001b[0m\u001b[1m ENT   \u001b[0m\u001b[1m SEXO  \u001b[0m\u001b[1m EDAD  \u001b[0m\u001b[1m NIVACAD \u001b[0m\u001b[1m ALFABET \u001b[0m\u001b[1m INGTRMEN \u001b[0m\u001b[1m\u001b[0m ⋯\n",
       "\u001b[1m         \u001b[0m│\u001b[90m Int64             \u001b[0m\u001b[90m Int64 \u001b[0m\u001b[90m Int64 \u001b[0m\u001b[90m Int64 \u001b[0m\u001b[90m Int64   \u001b[0m\u001b[90m Int64   \u001b[0m\u001b[90m Int64    \u001b[0m\u001b[90m\u001b[0m ⋯\n",
       "─────────┼──────────────────────────────────────────────────────────────────────\n",
       "       1 │  1001000000400001      1      1     62       13        1     30000  ⋯\n",
       "       2 │  1001000000400002      1      1     32       11        1      4000\n",
       "       3 │  1001000000400003      1      3     54       13        1     32000\n",
       "       4 │  1001000000600002      1      3     41       11        1     25000\n",
       "       5 │  1001000000700001      1      1     28       11        1     40000  ⋯\n",
       "       6 │  1001000000800002      1      3     42       13        1     12000\n",
       "       7 │  1001000000800003      1      1     42       13        1     16000\n",
       "       8 │  1001000000900003      1      1     45       11        1     20000\n",
       "       9 │  1001000001200005      1      3     43       13        1     20000  ⋯\n",
       "      10 │  1001000001300003      1      3     65       11        1     17000\n",
       "      11 │  1001000001400001      1      3     34       11        1     20000\n",
       "    ⋮    │         ⋮            ⋮      ⋮      ⋮       ⋮        ⋮        ⋮      ⋱\n",
       " 3460356 │ 32058000083000001     32      1     71        2        3      5160\n",
       " 3460357 │ 32058000083000002     32      1     73        2        3      4300  ⋯\n",
       " 3460358 │ 32058000083100001     32      1     75        2        3      6450\n",
       " 3460359 │ 32058000083200002     32      1     37        3        1      2400\n",
       " 3460360 │ 32058000083300003     32      1     40        3        1      2000\n",
       " 3460361 │ 32058000083700002     32      1     53        2        1      4000  ⋯\n",
       " 3460362 │ 32058000084000005     32      1     37       11        1     10000\n",
       " 3460363 │ 32058000084400004     32      1     30        3        1      1200\n",
       " 3460364 │ 32058000084600001     32      1     50        3        1      3440\n",
       " 3460365 │ 32058000084800003     32      1     38        3        1      5000  ⋯\n",
       "\u001b[36m                                             11 columns and 3460344 rows omitted\u001b[0m"
      ]
     },
     "execution_count": 26,
     "metadata": {},
     "output_type": "execute_result"
    }
   ],
   "source": [
    "data = CSV.read(\"personas_filtradas.csv\", DataFrame)"
   ]
  },
  {
   "cell_type": "code",
   "execution_count": 27,
   "id": "88c2633f",
   "metadata": {},
   "outputs": [
    {
     "data": {
      "text/html": [
       "<div class=\"data-frame\"><p>3,460,365 rows × 18 columns (omitted printing of 9 columns)</p><table class=\"data-frame\"><thead><tr><th></th><th>ID_PERSONA</th><th>ENT</th><th>SEXO</th><th>EDAD</th><th>NIVACAD</th><th>ALFABET</th><th>INGTRMEN</th><th>HORTRA</th><th>CONACT</th></tr><tr><th></th><th title=\"Int64\">Int64</th><th title=\"CategoricalValue{Int64, UInt32}\">Cat…</th><th title=\"CategoricalValue{Int64, UInt32}\">Cat…</th><th title=\"Int64\">Int64</th><th title=\"CategoricalValue{Int64, UInt32}\">Cat…</th><th title=\"CategoricalValue{Int64, UInt32}\">Cat…</th><th title=\"Int64\">Int64</th><th title=\"Int64\">Int64</th><th title=\"Int64\">Int64</th></tr></thead><tbody><tr><th>1</th><td>1001000000400001</td><td>1</td><td>1</td><td>62</td><td>13</td><td>1</td><td>30000</td><td>21</td><td>10</td></tr><tr><th>2</th><td>1001000000400002</td><td>1</td><td>1</td><td>32</td><td>11</td><td>1</td><td>4000</td><td>48</td><td>10</td></tr><tr><th>3</th><td>1001000000400003</td><td>1</td><td>3</td><td>54</td><td>13</td><td>1</td><td>32000</td><td>42</td><td>10</td></tr><tr><th>4</th><td>1001000000600002</td><td>1</td><td>3</td><td>41</td><td>11</td><td>1</td><td>25000</td><td>40</td><td>10</td></tr><tr><th>5</th><td>1001000000700001</td><td>1</td><td>1</td><td>28</td><td>11</td><td>1</td><td>40000</td><td>60</td><td>10</td></tr><tr><th>6</th><td>1001000000800002</td><td>1</td><td>3</td><td>42</td><td>13</td><td>1</td><td>12000</td><td>45</td><td>10</td></tr><tr><th>7</th><td>1001000000800003</td><td>1</td><td>1</td><td>42</td><td>13</td><td>1</td><td>16000</td><td>45</td><td>10</td></tr><tr><th>8</th><td>1001000000900003</td><td>1</td><td>1</td><td>45</td><td>11</td><td>1</td><td>20000</td><td>42</td><td>10</td></tr><tr><th>9</th><td>1001000001200005</td><td>1</td><td>3</td><td>43</td><td>13</td><td>1</td><td>20000</td><td>40</td><td>10</td></tr><tr><th>10</th><td>1001000001300003</td><td>1</td><td>3</td><td>65</td><td>11</td><td>1</td><td>17000</td><td>54</td><td>10</td></tr><tr><th>11</th><td>1001000001400001</td><td>1</td><td>3</td><td>34</td><td>11</td><td>1</td><td>20000</td><td>48</td><td>10</td></tr><tr><th>12</th><td>1001000001400003</td><td>1</td><td>1</td><td>35</td><td>11</td><td>1</td><td>30000</td><td>60</td><td>10</td></tr><tr><th>13</th><td>1001000001600004</td><td>1</td><td>3</td><td>39</td><td>13</td><td>1</td><td>26000</td><td>48</td><td>10</td></tr><tr><th>14</th><td>1001000001900001</td><td>1</td><td>3</td><td>26</td><td>11</td><td>1</td><td>7600</td><td>48</td><td>10</td></tr><tr><th>15</th><td>1001000001900002</td><td>1</td><td>1</td><td>34</td><td>11</td><td>1</td><td>12000</td><td>48</td><td>10</td></tr><tr><th>16</th><td>1001000002000002</td><td>1</td><td>3</td><td>37</td><td>11</td><td>1</td><td>4300</td><td>10</td><td>10</td></tr><tr><th>17</th><td>1001000002100002</td><td>1</td><td>1</td><td>32</td><td>2</td><td>1</td><td>10750</td><td>48</td><td>10</td></tr><tr><th>18</th><td>1001000002200003</td><td>1</td><td>1</td><td>31</td><td>3</td><td>1</td><td>10750</td><td>50</td><td>10</td></tr><tr><th>19</th><td>1001000002300001</td><td>1</td><td>3</td><td>53</td><td>3</td><td>1</td><td>8170</td><td>48</td><td>10</td></tr><tr><th>20</th><td>1001000002500001</td><td>1</td><td>1</td><td>39</td><td>3</td><td>1</td><td>6450</td><td>72</td><td>10</td></tr><tr><th>21</th><td>1001000002600002</td><td>1</td><td>1</td><td>23</td><td>4</td><td>1</td><td>10750</td><td>78</td><td>10</td></tr><tr><th>22</th><td>1001000002700001</td><td>1</td><td>1</td><td>30</td><td>4</td><td>1</td><td>6450</td><td>60</td><td>10</td></tr><tr><th>23</th><td>1001000002700002</td><td>1</td><td>3</td><td>29</td><td>11</td><td>1</td><td>8600</td><td>30</td><td>10</td></tr><tr><th>24</th><td>1001000002800001</td><td>1</td><td>1</td><td>22</td><td>3</td><td>1</td><td>4730</td><td>72</td><td>10</td></tr><tr><th>25</th><td>1001000002800002</td><td>1</td><td>3</td><td>29</td><td>4</td><td>1</td><td>12900</td><td>52</td><td>10</td></tr><tr><th>26</th><td>1001000002900001</td><td>1</td><td>1</td><td>49</td><td>4</td><td>1</td><td>10750</td><td>61</td><td>10</td></tr><tr><th>27</th><td>1001000002900002</td><td>1</td><td>3</td><td>39</td><td>11</td><td>1</td><td>12900</td><td>32</td><td>10</td></tr><tr><th>28</th><td>1001000003000001</td><td>1</td><td>3</td><td>29</td><td>11</td><td>1</td><td>12040</td><td>48</td><td>10</td></tr><tr><th>29</th><td>1001000003000003</td><td>1</td><td>1</td><td>28</td><td>11</td><td>1</td><td>8600</td><td>45</td><td>10</td></tr><tr><th>30</th><td>1001000003400002</td><td>1</td><td>3</td><td>31</td><td>3</td><td>1</td><td>7224</td><td>52</td><td>10</td></tr><tr><th>&vellip;</th><td>&vellip;</td><td>&vellip;</td><td>&vellip;</td><td>&vellip;</td><td>&vellip;</td><td>&vellip;</td><td>&vellip;</td><td>&vellip;</td><td>&vellip;</td></tr></tbody></table></div>"
      ],
      "text/latex": [
       "\\begin{tabular}{r|cccccccccc}\n",
       "\t& ID\\_PERSONA & ENT & SEXO & EDAD & NIVACAD & ALFABET & INGTRMEN & HORTRA & CONACT & \\\\\n",
       "\t\\hline\n",
       "\t& Int64 & Cat… & Cat… & Int64 & Cat… & Cat… & Int64 & Int64 & Int64 & \\\\\n",
       "\t\\hline\n",
       "\t1 & 1001000000400001 & 1 & 1 & 62 & 13 & 1 & 30000 & 21 & 10 & $\\dots$ \\\\\n",
       "\t2 & 1001000000400002 & 1 & 1 & 32 & 11 & 1 & 4000 & 48 & 10 & $\\dots$ \\\\\n",
       "\t3 & 1001000000400003 & 1 & 3 & 54 & 13 & 1 & 32000 & 42 & 10 & $\\dots$ \\\\\n",
       "\t4 & 1001000000600002 & 1 & 3 & 41 & 11 & 1 & 25000 & 40 & 10 & $\\dots$ \\\\\n",
       "\t5 & 1001000000700001 & 1 & 1 & 28 & 11 & 1 & 40000 & 60 & 10 & $\\dots$ \\\\\n",
       "\t6 & 1001000000800002 & 1 & 3 & 42 & 13 & 1 & 12000 & 45 & 10 & $\\dots$ \\\\\n",
       "\t7 & 1001000000800003 & 1 & 1 & 42 & 13 & 1 & 16000 & 45 & 10 & $\\dots$ \\\\\n",
       "\t8 & 1001000000900003 & 1 & 1 & 45 & 11 & 1 & 20000 & 42 & 10 & $\\dots$ \\\\\n",
       "\t9 & 1001000001200005 & 1 & 3 & 43 & 13 & 1 & 20000 & 40 & 10 & $\\dots$ \\\\\n",
       "\t10 & 1001000001300003 & 1 & 3 & 65 & 11 & 1 & 17000 & 54 & 10 & $\\dots$ \\\\\n",
       "\t11 & 1001000001400001 & 1 & 3 & 34 & 11 & 1 & 20000 & 48 & 10 & $\\dots$ \\\\\n",
       "\t12 & 1001000001400003 & 1 & 1 & 35 & 11 & 1 & 30000 & 60 & 10 & $\\dots$ \\\\\n",
       "\t13 & 1001000001600004 & 1 & 3 & 39 & 13 & 1 & 26000 & 48 & 10 & $\\dots$ \\\\\n",
       "\t14 & 1001000001900001 & 1 & 3 & 26 & 11 & 1 & 7600 & 48 & 10 & $\\dots$ \\\\\n",
       "\t15 & 1001000001900002 & 1 & 1 & 34 & 11 & 1 & 12000 & 48 & 10 & $\\dots$ \\\\\n",
       "\t16 & 1001000002000002 & 1 & 3 & 37 & 11 & 1 & 4300 & 10 & 10 & $\\dots$ \\\\\n",
       "\t17 & 1001000002100002 & 1 & 1 & 32 & 2 & 1 & 10750 & 48 & 10 & $\\dots$ \\\\\n",
       "\t18 & 1001000002200003 & 1 & 1 & 31 & 3 & 1 & 10750 & 50 & 10 & $\\dots$ \\\\\n",
       "\t19 & 1001000002300001 & 1 & 3 & 53 & 3 & 1 & 8170 & 48 & 10 & $\\dots$ \\\\\n",
       "\t20 & 1001000002500001 & 1 & 1 & 39 & 3 & 1 & 6450 & 72 & 10 & $\\dots$ \\\\\n",
       "\t21 & 1001000002600002 & 1 & 1 & 23 & 4 & 1 & 10750 & 78 & 10 & $\\dots$ \\\\\n",
       "\t22 & 1001000002700001 & 1 & 1 & 30 & 4 & 1 & 6450 & 60 & 10 & $\\dots$ \\\\\n",
       "\t23 & 1001000002700002 & 1 & 3 & 29 & 11 & 1 & 8600 & 30 & 10 & $\\dots$ \\\\\n",
       "\t24 & 1001000002800001 & 1 & 1 & 22 & 3 & 1 & 4730 & 72 & 10 & $\\dots$ \\\\\n",
       "\t25 & 1001000002800002 & 1 & 3 & 29 & 4 & 1 & 12900 & 52 & 10 & $\\dots$ \\\\\n",
       "\t26 & 1001000002900001 & 1 & 1 & 49 & 4 & 1 & 10750 & 61 & 10 & $\\dots$ \\\\\n",
       "\t27 & 1001000002900002 & 1 & 3 & 39 & 11 & 1 & 12900 & 32 & 10 & $\\dots$ \\\\\n",
       "\t28 & 1001000003000001 & 1 & 3 & 29 & 11 & 1 & 12040 & 48 & 10 & $\\dots$ \\\\\n",
       "\t29 & 1001000003000003 & 1 & 1 & 28 & 11 & 1 & 8600 & 45 & 10 & $\\dots$ \\\\\n",
       "\t30 & 1001000003400002 & 1 & 3 & 31 & 3 & 1 & 7224 & 52 & 10 & $\\dots$ \\\\\n",
       "\t$\\dots$ & $\\dots$ & $\\dots$ & $\\dots$ & $\\dots$ & $\\dots$ & $\\dots$ & $\\dots$ & $\\dots$ & $\\dots$ &  \\\\\n",
       "\\end{tabular}\n"
      ],
      "text/plain": [
       "\u001b[1m3460365×18 DataFrame\u001b[0m\n",
       "\u001b[1m     Row \u001b[0m│\u001b[1m ID_PERSONA        \u001b[0m\u001b[1m ENT  \u001b[0m\u001b[1m SEXO \u001b[0m\u001b[1m EDAD  \u001b[0m\u001b[1m NIVACAD \u001b[0m\u001b[1m ALFABET \u001b[0m\u001b[1m INGTRMEN \u001b[0m\u001b[1m H\u001b[0m ⋯\n",
       "\u001b[1m         \u001b[0m│\u001b[90m Int64             \u001b[0m\u001b[90m Cat… \u001b[0m\u001b[90m Cat… \u001b[0m\u001b[90m Int64 \u001b[0m\u001b[90m Cat…    \u001b[0m\u001b[90m Cat…    \u001b[0m\u001b[90m Int64    \u001b[0m\u001b[90m I\u001b[0m ⋯\n",
       "─────────┼──────────────────────────────────────────────────────────────────────\n",
       "       1 │  1001000000400001  1     1        62  13       1           30000    ⋯\n",
       "       2 │  1001000000400002  1     1        32  11       1            4000\n",
       "       3 │  1001000000400003  1     3        54  13       1           32000\n",
       "       4 │  1001000000600002  1     3        41  11       1           25000\n",
       "       5 │  1001000000700001  1     1        28  11       1           40000    ⋯\n",
       "       6 │  1001000000800002  1     3        42  13       1           12000\n",
       "       7 │  1001000000800003  1     1        42  13       1           16000\n",
       "       8 │  1001000000900003  1     1        45  11       1           20000\n",
       "       9 │  1001000001200005  1     3        43  13       1           20000    ⋯\n",
       "      10 │  1001000001300003  1     3        65  11       1           17000\n",
       "      11 │  1001000001400001  1     3        34  11       1           20000\n",
       "    ⋮    │         ⋮           ⋮     ⋮      ⋮       ⋮        ⋮        ⋮        ⋱\n",
       " 3460356 │ 32058000083000001  32    1        71  2        3            5160\n",
       " 3460357 │ 32058000083000002  32    1        73  2        3            4300    ⋯\n",
       " 3460358 │ 32058000083100001  32    1        75  2        3            6450\n",
       " 3460359 │ 32058000083200002  32    1        37  3        1            2400\n",
       " 3460360 │ 32058000083300003  32    1        40  3        1            2000\n",
       " 3460361 │ 32058000083700002  32    1        53  2        1            4000    ⋯\n",
       " 3460362 │ 32058000084000005  32    1        37  11       1           10000\n",
       " 3460363 │ 32058000084400004  32    1        30  3        1            1200\n",
       " 3460364 │ 32058000084600001  32    1        50  3        1            3440\n",
       " 3460365 │ 32058000084800003  32    1        38  3        1            5000    ⋯\n",
       "\u001b[36m                                             11 columns and 3460344 rows omitted\u001b[0m"
      ]
     },
     "execution_count": 27,
     "metadata": {},
     "output_type": "execute_result"
    }
   ],
   "source": [
    "# Vector con todas las categorias\n",
    "vector_categorias = [\"SEXO\", \"AGUINALDO\", \"VACACIONES\", \"SERVICIO_MEDICO\", \"UTILIDADES\", \n",
    "    \"INCAP_SUELDO\", \"SAR_AFORE\", \"CREDITO_VIVIENDA\", \"ALFABET\", \"NIVACAD\", \"ENT_PAIS_TRAB\", \n",
    "    \"ENT\", \"SITTRA\"]\n",
    "\n",
    "transform!(data, names(data, vector_categorias) .=> categorical, renamecols=false)"
   ]
  },
  {
   "cell_type": "code",
   "execution_count": 40,
   "id": "7974ae27",
   "metadata": {},
   "outputs": [
    {
     "data": {
      "text/plain": [
       "fit5 (generic function with 1 method)"
      ]
     },
     "execution_count": 40,
     "metadata": {},
     "output_type": "execute_result"
    }
   ],
   "source": [
    "### FIT BASE ###\n",
    "function fit5(cantidad_sample, nombre_facil)\n",
    "    nombre_fit = \"fit5\"\n",
    "    \n",
    "    sample_rows = sample(1:nrow(data), cantidad_sample, replace=false)\n",
    "\n",
    "    df_sample = data[sample_rows, :]\n",
    "    \n",
    "    nombre_completo = nombre_facil*\"_\"*nombre_fit*\".csv\"\n",
    "    # Guardamos el documentos para usarlo en R\n",
    "    CSV.write(nombre_completo, df_sample)\n",
    "\n",
    "    # Hacemos el fit\n",
    "    sample_fit = lm(@formula(INGTRMEN ~ SEXO + EDAD + NIVACAD + HORTRA + ENT_PAIS_TRAB), df_sample)\n",
    "\n",
    "    aux = \"res_\"\n",
    "    nombre_completo = aux*nombre_completo\n",
    "    CSV.write(nombre_completo, coeftable(sample_fit))\n",
    "end "
   ]
  },
  {
   "cell_type": "code",
   "execution_count": 41,
   "id": "0776ebe1",
   "metadata": {},
   "outputs": [
    {
     "data": {
      "text/plain": [
       "\"res_500mil_fit5.csv\""
      ]
     },
     "execution_count": 41,
     "metadata": {},
     "output_type": "execute_result"
    }
   ],
   "source": [
    "# Fit 5\n",
    "fit5(500, \"500\")\n",
    "fit5(5000, \"5mil\")\n",
    "fit5(50000, \"50mil\")\n",
    "fit5(500000, \"500mil\")"
   ]
  },
  {
   "cell_type": "code",
   "execution_count": 42,
   "id": "a80c339b",
   "metadata": {},
   "outputs": [
    {
     "data": {
      "text/plain": [
       "fit6 (generic function with 1 method)"
      ]
     },
     "execution_count": 42,
     "metadata": {},
     "output_type": "execute_result"
    }
   ],
   "source": [
    "### FIT 6 ###\n",
    "function fit6(cantidad_sample, nombre_facil)\n",
    "    nombre_fit = \"fit6\"\n",
    "    \n",
    "    sample_rows = sample(1:nrow(data), cantidad_sample, replace=false)\n",
    "\n",
    "    df_sample = data[sample_rows, :]\n",
    "    \n",
    "    nombre_completo = nombre_facil*\"_\"*nombre_fit*\".csv\"\n",
    "    # Guardamos el documentos para usarlo en R\n",
    "    CSV.write(nombre_completo, df_sample)\n",
    "\n",
    "    # Hacemos el fit\n",
    "    sample_fit = lm(@formula(INGTRMEN ~ SEXO + EDAD + NIVACAD + HORTRA + ENT_PAIS_TRAB + SITTRA), df_sample)\n",
    "\n",
    "    aux = \"res_\"\n",
    "    nombre_completo = aux*nombre_completo\n",
    "    CSV.write(nombre_completo, coeftable(sample_fit))\n",
    "end "
   ]
  },
  {
   "cell_type": "code",
   "execution_count": 43,
   "id": "245436a3",
   "metadata": {},
   "outputs": [
    {
     "data": {
      "text/plain": [
       "\"res_500mil_fit6.csv\""
      ]
     },
     "execution_count": 43,
     "metadata": {},
     "output_type": "execute_result"
    }
   ],
   "source": [
    "# Fit 6: Fit 5 + SITTRA\n",
    "fit6(500, \"500\")\n",
    "fit6(5000, \"5mil\")\n",
    "fit6(50000, \"50mil\")\n",
    "fit6(500000, \"500mil\")"
   ]
  },
  {
   "cell_type": "code",
   "execution_count": 44,
   "id": "d0d8d095",
   "metadata": {},
   "outputs": [
    {
     "data": {
      "text/plain": [
       "fit7 (generic function with 1 method)"
      ]
     },
     "execution_count": 44,
     "metadata": {},
     "output_type": "execute_result"
    }
   ],
   "source": [
    "### FIT 7 ###\n",
    "function fit7(cantidad_sample, nombre_facil)\n",
    "    nombre_fit = \"fit7\"\n",
    "    \n",
    "    sample_rows = sample(1:nrow(data), cantidad_sample, replace=false)\n",
    "\n",
    "    df_sample = data[sample_rows, :]\n",
    "    \n",
    "    nombre_completo = nombre_facil*\"_\"*nombre_fit*\".csv\"\n",
    "    # Guardamos el documentos para usarlo en R\n",
    "    CSV.write(nombre_completo, df_sample)\n",
    "\n",
    "    # Hacemos el fit\n",
    "    sample_fit = lm(@formula(INGTRMEN ~ SEXO + EDAD + NIVACAD + HORTRA + ENT_PAIS_TRAB\n",
    "            + SITTRA + ALFABET), df_sample)\n",
    "\n",
    "    aux = \"res_\"\n",
    "    nombre_completo = aux*nombre_completo\n",
    "    CSV.write(nombre_completo, coeftable(sample_fit))\n",
    "end "
   ]
  },
  {
   "cell_type": "code",
   "execution_count": 45,
   "id": "6c663b23",
   "metadata": {},
   "outputs": [
    {
     "data": {
      "text/plain": [
       "\"res_500mil_fit7.csv\""
      ]
     },
     "execution_count": 45,
     "metadata": {},
     "output_type": "execute_result"
    }
   ],
   "source": [
    "# Fit 7: Fit 5 + SITTRA + ALFABET\n",
    "fit7(500, \"500\")\n",
    "fit7(5000, \"5mil\")\n",
    "fit7(50000, \"50mil\")\n",
    "fit7(500000, \"500mil\")"
   ]
  },
  {
   "cell_type": "code",
   "execution_count": 46,
   "id": "a178a098",
   "metadata": {},
   "outputs": [
    {
     "data": {
      "text/plain": [
       "fit8 (generic function with 1 method)"
      ]
     },
     "execution_count": 46,
     "metadata": {},
     "output_type": "execute_result"
    }
   ],
   "source": [
    "### FIT 8###\n",
    "function fit8(cantidad_sample, nombre_facil)\n",
    "    nombre_fit = \"fit8\"\n",
    "    \n",
    "    sample_rows = sample(1:nrow(data), cantidad_sample, replace=false)\n",
    "\n",
    "    df_sample = data[sample_rows, :]\n",
    "    \n",
    "    nombre_completo = nombre_facil*\"_\"*nombre_fit*\".csv\"\n",
    "    # Guardamos el documentos para usarlo en R\n",
    "    CSV.write(nombre_completo, df_sample)\n",
    "\n",
    "    # Hacemos el fit\n",
    "    sample_fit = lm(@formula(INGTRMEN ~ SEXO + EDAD + NIVACAD + HORTRA + ENT_PAIS_TRAB\n",
    "            + SITTRA + ALFABET + AGUINALDO), df_sample)\n",
    "\n",
    "    aux = \"res_\"\n",
    "    nombre_completo = aux*nombre_completo\n",
    "    CSV.write(nombre_completo, coeftable(sample_fit))\n",
    "end "
   ]
  },
  {
   "cell_type": "code",
   "execution_count": 47,
   "id": "a28e6e8e",
   "metadata": {},
   "outputs": [
    {
     "data": {
      "text/plain": [
       "\"res_500mil_fit8.csv\""
      ]
     },
     "execution_count": 47,
     "metadata": {},
     "output_type": "execute_result"
    }
   ],
   "source": [
    "# Fit 8: Fit 5 + SITTRA + ALFABET + AGUINALDO\n",
    "fit8(500, \"500\")\n",
    "fit8(5000, \"5mil\")\n",
    "fit8(50000, \"50mil\")\n",
    "fit8(500000, \"500mil\")"
   ]
  },
  {
   "cell_type": "code",
   "execution_count": 49,
   "id": "9eeb717a",
   "metadata": {},
   "outputs": [
    {
     "data": {
      "text/plain": [
       "fit9 (generic function with 1 method)"
      ]
     },
     "execution_count": 49,
     "metadata": {},
     "output_type": "execute_result"
    }
   ],
   "source": [
    "### FIT 9###\n",
    "function fit9(cantidad_sample, nombre_facil)\n",
    "    nombre_fit = \"fit9\"\n",
    "    \n",
    "    sample_rows = sample(1:nrow(data), cantidad_sample, replace=false)\n",
    "\n",
    "    df_sample = data[sample_rows, :]\n",
    "    \n",
    "    nombre_completo = nombre_facil*\"_\"*nombre_fit*\".csv\"\n",
    "    # Guardamos el documentos para usarlo en R\n",
    "    CSV.write(nombre_completo, df_sample)\n",
    "\n",
    "    # Hacemos el fit\n",
    "    sample_fit = lm(@formula(INGTRMEN ~ SEXO + EDAD + NIVACAD + HORTRA + ENT_PAIS_TRAB\n",
    "            + SITTRA + ALFABET + AGUINALDO + VACACIONES), df_sample)\n",
    "\n",
    "    aux = \"res_\"\n",
    "    nombre_completo = aux*nombre_completo\n",
    "    CSV.write(nombre_completo, coeftable(sample_fit))\n",
    "end "
   ]
  },
  {
   "cell_type": "code",
   "execution_count": 50,
   "id": "7762d942",
   "metadata": {},
   "outputs": [
    {
     "data": {
      "text/plain": [
       "\"res_500mil_fit9.csv\""
      ]
     },
     "execution_count": 50,
     "metadata": {},
     "output_type": "execute_result"
    }
   ],
   "source": [
    "# Fit 9: Fit 5 + SITTRA + ALFABET + AGUINALDO +VACACIONES\n",
    "fit9(500, \"500\")\n",
    "fit9(5000, \"5mil\")\n",
    "fit9(50000, \"50mil\")\n",
    "fit9(500000, \"500mil\")"
   ]
  },
  {
   "cell_type": "code",
   "execution_count": 51,
   "id": "419ac44f",
   "metadata": {},
   "outputs": [
    {
     "data": {
      "text/plain": [
       "fit10 (generic function with 1 method)"
      ]
     },
     "execution_count": 51,
     "metadata": {},
     "output_type": "execute_result"
    }
   ],
   "source": [
    "### FIT 10###\n",
    "function fit10(cantidad_sample, nombre_facil)\n",
    "    nombre_fit = \"fit10\"\n",
    "    \n",
    "    sample_rows = sample(1:nrow(data), cantidad_sample, replace=false)\n",
    "\n",
    "    df_sample = data[sample_rows, :]\n",
    "    \n",
    "    nombre_completo = nombre_facil*\"_\"*nombre_fit*\".csv\"\n",
    "    # Guardamos el documentos para usarlo en R\n",
    "    CSV.write(nombre_completo, df_sample)\n",
    "\n",
    "    # Hacemos el fit\n",
    "    sample_fit = lm(@formula(INGTRMEN ~ SEXO + EDAD + NIVACAD + HORTRA + ENT_PAIS_TRAB\n",
    "            + SITTRA + ALFABET + AGUINALDO + VACACIONES + SERVICIO_MEDICO), df_sample)\n",
    "\n",
    "    aux = \"res_\"\n",
    "    nombre_completo = aux*nombre_completo\n",
    "    CSV.write(nombre_completo, coeftable(sample_fit))\n",
    "end "
   ]
  },
  {
   "cell_type": "code",
   "execution_count": 52,
   "id": "6be029af",
   "metadata": {},
   "outputs": [
    {
     "data": {
      "text/plain": [
       "\"res_500mil_fit10.csv\""
      ]
     },
     "execution_count": 52,
     "metadata": {},
     "output_type": "execute_result"
    }
   ],
   "source": [
    "# Fit 10: Fit 5 + SITTRA + ALFABET + AGUINALDO + VACACIONES + SERVICIO_MEDICO\n",
    "fit10(500, \"500\")\n",
    "fit10(5000, \"5mil\")\n",
    "fit10(50000, \"50mil\")\n",
    "fit10(500000, \"500mil\")"
   ]
  },
  {
   "cell_type": "code",
   "execution_count": 57,
   "id": "775b63e4",
   "metadata": {},
   "outputs": [
    {
     "ename": "LoadError",
     "evalue": "syntax: extra token \"archive\" after end of expression",
     "output_type": "error",
     "traceback": [
      "syntax: extra token \"archive\" after end of expression",
      "",
      "Stacktrace:",
      " [1] top-level scope",
      "   @ In[57]:1",
      " [2] eval",
      "   @ .\\boot.jl:360 [inlined]",
      " [3] include_string(mapexpr::typeof(REPL.softscope), mod::Module, code::String, filename::String)",
      "   @ Base .\\loading.jl:1116"
     ]
    }
   ],
   "source": []
  },
  {
   "cell_type": "code",
   "execution_count": null,
   "id": "e511d4a8",
   "metadata": {},
   "outputs": [],
   "source": []
  }
 ],
 "metadata": {
  "kernelspec": {
   "display_name": "Julia 1.6.3",
   "language": "julia",
   "name": "julia-1.6"
  },
  "language_info": {
   "file_extension": ".jl",
   "mimetype": "application/julia",
   "name": "julia",
   "version": "1.6.3"
  }
 },
 "nbformat": 4,
 "nbformat_minor": 5
}
