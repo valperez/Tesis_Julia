{
 "cells": [
  {
   "cell_type": "code",
   "execution_count": 1,
   "id": "c3c8a4f4",
   "metadata": {},
   "outputs": [],
   "source": [
    "using CSV, DataFrames, NamedArrays, Combinatorics"
   ]
  },
  {
   "cell_type": "code",
   "execution_count": 12,
   "id": "efcda7fa",
   "metadata": {},
   "outputs": [
    {
     "name": "stderr",
     "output_type": "stream",
     "text": [
      "\u001b[32m\u001b[1m    Updating\u001b[22m\u001b[39m registry at `C:\\Users\\Valeria\\.julia\\registries\\General`\n",
      "\u001b[32m\u001b[1m   Resolving\u001b[22m\u001b[39m package versions...\n",
      "\u001b[32m\u001b[1m    Updating\u001b[22m\u001b[39m `C:\\Users\\Valeria\\.julia\\environments\\v1.6\\Project.toml`\n",
      " \u001b[90m [861a8166] \u001b[39m\u001b[92m+ Combinatorics v1.0.2\u001b[39m\n",
      "\u001b[32m\u001b[1m  No Changes\u001b[22m\u001b[39m to `C:\\Users\\Valeria\\.julia\\environments\\v1.6\\Manifest.toml`\n"
     ]
    }
   ],
   "source": [
    "import Pkg; Pkg.add(\"Combinatorics\")\n",
    "using Combinatorics"
   ]
  },
  {
   "cell_type": "code",
   "execution_count": 2,
   "id": "ddcfd9e4",
   "metadata": {},
   "outputs": [
    {
     "data": {
      "text/html": [
       "<div class=\"data-frame\"><p>20 rows × 10 columns</p><table class=\"data-frame\"><thead><tr><th></th><th>blk</th><th>A</th><th>B</th><th>C</th><th>D</th><th>E</th><th>F</th><th>G</th><th>H</th><th>y</th></tr><tr><th></th><th title=\"Int64\">Int64</th><th title=\"Int64\">Int64</th><th title=\"Int64\">Int64</th><th title=\"Int64\">Int64</th><th title=\"Int64\">Int64</th><th title=\"Int64\">Int64</th><th title=\"Int64\">Int64</th><th title=\"Int64\">Int64</th><th title=\"Int64\">Int64</th><th title=\"Float64\">Float64</th></tr></thead><tbody><tr><th>1</th><td>-1</td><td>-1</td><td>-1</td><td>-1</td><td>1</td><td>1</td><td>1</td><td>-1</td><td>1</td><td>14.0</td></tr><tr><th>2</th><td>-1</td><td>1</td><td>-1</td><td>-1</td><td>-1</td><td>-1</td><td>1</td><td>1</td><td>1</td><td>16.8</td></tr><tr><th>3</th><td>-1</td><td>-1</td><td>1</td><td>-1</td><td>-1</td><td>1</td><td>-1</td><td>1</td><td>1</td><td>15.0</td></tr><tr><th>4</th><td>-1</td><td>1</td><td>1</td><td>-1</td><td>1</td><td>-1</td><td>-1</td><td>-1</td><td>1</td><td>15.4</td></tr><tr><th>5</th><td>-1</td><td>-1</td><td>-1</td><td>1</td><td>1</td><td>-1</td><td>-1</td><td>1</td><td>1</td><td>27.6</td></tr><tr><th>6</th><td>-1</td><td>1</td><td>-1</td><td>1</td><td>-1</td><td>1</td><td>-1</td><td>-1</td><td>1</td><td>24.0</td></tr><tr><th>7</th><td>-1</td><td>-1</td><td>1</td><td>1</td><td>-1</td><td>-1</td><td>1</td><td>-1</td><td>1</td><td>27.4</td></tr><tr><th>8</th><td>-1</td><td>1</td><td>1</td><td>1</td><td>1</td><td>1</td><td>1</td><td>1</td><td>1</td><td>22.6</td></tr><tr><th>9</th><td>-1</td><td>1</td><td>1</td><td>1</td><td>-1</td><td>-1</td><td>-1</td><td>1</td><td>-1</td><td>22.3</td></tr><tr><th>10</th><td>-1</td><td>-1</td><td>1</td><td>1</td><td>1</td><td>1</td><td>-1</td><td>-1</td><td>-1</td><td>17.1</td></tr><tr><th>11</th><td>-1</td><td>1</td><td>-1</td><td>1</td><td>1</td><td>-1</td><td>1</td><td>-1</td><td>-1</td><td>21.5</td></tr><tr><th>12</th><td>-1</td><td>-1</td><td>-1</td><td>1</td><td>-1</td><td>1</td><td>1</td><td>1</td><td>-1</td><td>17.5</td></tr><tr><th>13</th><td>-1</td><td>1</td><td>1</td><td>-1</td><td>-1</td><td>1</td><td>1</td><td>-1</td><td>-1</td><td>15.9</td></tr><tr><th>14</th><td>-1</td><td>-1</td><td>1</td><td>-1</td><td>1</td><td>-1</td><td>1</td><td>1</td><td>-1</td><td>21.9</td></tr><tr><th>15</th><td>-1</td><td>1</td><td>-1</td><td>-1</td><td>1</td><td>1</td><td>-1</td><td>1</td><td>-1</td><td>16.7</td></tr><tr><th>16</th><td>-1</td><td>-1</td><td>-1</td><td>-1</td><td>-1</td><td>-1</td><td>-1</td><td>-1</td><td>-1</td><td>20.3</td></tr><tr><th>17</th><td>1</td><td>-1</td><td>1</td><td>1</td><td>1</td><td>-1</td><td>-1</td><td>-1</td><td>1</td><td>29.4</td></tr><tr><th>18</th><td>1</td><td>-1</td><td>1</td><td>-1</td><td>-1</td><td>-1</td><td>1</td><td>1</td><td>1</td><td>19.7</td></tr><tr><th>19</th><td>1</td><td>1</td><td>1</td><td>-1</td><td>-1</td><td>1</td><td>-1</td><td>-1</td><td>1</td><td>13.6</td></tr><tr><th>20</th><td>1</td><td>1</td><td>1</td><td>1</td><td>1</td><td>1</td><td>1</td><td>1</td><td>1</td><td>24.7</td></tr></tbody></table></div>"
      ],
      "text/latex": [
       "\\begin{tabular}{r|cccccccccc}\n",
       "\t& blk & A & B & C & D & E & F & G & H & y\\\\\n",
       "\t\\hline\n",
       "\t& Int64 & Int64 & Int64 & Int64 & Int64 & Int64 & Int64 & Int64 & Int64 & Float64\\\\\n",
       "\t\\hline\n",
       "\t1 & -1 & -1 & -1 & -1 & 1 & 1 & 1 & -1 & 1 & 14.0 \\\\\n",
       "\t2 & -1 & 1 & -1 & -1 & -1 & -1 & 1 & 1 & 1 & 16.8 \\\\\n",
       "\t3 & -1 & -1 & 1 & -1 & -1 & 1 & -1 & 1 & 1 & 15.0 \\\\\n",
       "\t4 & -1 & 1 & 1 & -1 & 1 & -1 & -1 & -1 & 1 & 15.4 \\\\\n",
       "\t5 & -1 & -1 & -1 & 1 & 1 & -1 & -1 & 1 & 1 & 27.6 \\\\\n",
       "\t6 & -1 & 1 & -1 & 1 & -1 & 1 & -1 & -1 & 1 & 24.0 \\\\\n",
       "\t7 & -1 & -1 & 1 & 1 & -1 & -1 & 1 & -1 & 1 & 27.4 \\\\\n",
       "\t8 & -1 & 1 & 1 & 1 & 1 & 1 & 1 & 1 & 1 & 22.6 \\\\\n",
       "\t9 & -1 & 1 & 1 & 1 & -1 & -1 & -1 & 1 & -1 & 22.3 \\\\\n",
       "\t10 & -1 & -1 & 1 & 1 & 1 & 1 & -1 & -1 & -1 & 17.1 \\\\\n",
       "\t11 & -1 & 1 & -1 & 1 & 1 & -1 & 1 & -1 & -1 & 21.5 \\\\\n",
       "\t12 & -1 & -1 & -1 & 1 & -1 & 1 & 1 & 1 & -1 & 17.5 \\\\\n",
       "\t13 & -1 & 1 & 1 & -1 & -1 & 1 & 1 & -1 & -1 & 15.9 \\\\\n",
       "\t14 & -1 & -1 & 1 & -1 & 1 & -1 & 1 & 1 & -1 & 21.9 \\\\\n",
       "\t15 & -1 & 1 & -1 & -1 & 1 & 1 & -1 & 1 & -1 & 16.7 \\\\\n",
       "\t16 & -1 & -1 & -1 & -1 & -1 & -1 & -1 & -1 & -1 & 20.3 \\\\\n",
       "\t17 & 1 & -1 & 1 & 1 & 1 & -1 & -1 & -1 & 1 & 29.4 \\\\\n",
       "\t18 & 1 & -1 & 1 & -1 & -1 & -1 & 1 & 1 & 1 & 19.7 \\\\\n",
       "\t19 & 1 & 1 & 1 & -1 & -1 & 1 & -1 & -1 & 1 & 13.6 \\\\\n",
       "\t20 & 1 & 1 & 1 & 1 & 1 & 1 & 1 & 1 & 1 & 24.7 \\\\\n",
       "\\end{tabular}\n"
      ],
      "text/plain": [
       "\u001b[1m20×10 DataFrame\u001b[0m\n",
       "\u001b[1m Row \u001b[0m│\u001b[1m blk   \u001b[0m\u001b[1m A     \u001b[0m\u001b[1m B     \u001b[0m\u001b[1m C     \u001b[0m\u001b[1m D     \u001b[0m\u001b[1m E     \u001b[0m\u001b[1m F     \u001b[0m\u001b[1m G     \u001b[0m\u001b[1m H     \u001b[0m\u001b[1m y       \u001b[0m\n",
       "\u001b[1m     \u001b[0m│\u001b[90m Int64 \u001b[0m\u001b[90m Int64 \u001b[0m\u001b[90m Int64 \u001b[0m\u001b[90m Int64 \u001b[0m\u001b[90m Int64 \u001b[0m\u001b[90m Int64 \u001b[0m\u001b[90m Int64 \u001b[0m\u001b[90m Int64 \u001b[0m\u001b[90m Int64 \u001b[0m\u001b[90m Float64 \u001b[0m\n",
       "─────┼────────────────────────────────────────────────────────────────────────\n",
       "   1 │    -1     -1     -1     -1      1      1      1     -1      1     14.0\n",
       "   2 │    -1      1     -1     -1     -1     -1      1      1      1     16.8\n",
       "   3 │    -1     -1      1     -1     -1      1     -1      1      1     15.0\n",
       "   4 │    -1      1      1     -1      1     -1     -1     -1      1     15.4\n",
       "   5 │    -1     -1     -1      1      1     -1     -1      1      1     27.6\n",
       "   6 │    -1      1     -1      1     -1      1     -1     -1      1     24.0\n",
       "   7 │    -1     -1      1      1     -1     -1      1     -1      1     27.4\n",
       "   8 │    -1      1      1      1      1      1      1      1      1     22.6\n",
       "   9 │    -1      1      1      1     -1     -1     -1      1     -1     22.3\n",
       "  10 │    -1     -1      1      1      1      1     -1     -1     -1     17.1\n",
       "  11 │    -1      1     -1      1      1     -1      1     -1     -1     21.5\n",
       "  12 │    -1     -1     -1      1     -1      1      1      1     -1     17.5\n",
       "  13 │    -1      1      1     -1     -1      1      1     -1     -1     15.9\n",
       "  14 │    -1     -1      1     -1      1     -1      1      1     -1     21.9\n",
       "  15 │    -1      1     -1     -1      1      1     -1      1     -1     16.7\n",
       "  16 │    -1     -1     -1     -1     -1     -1     -1     -1     -1     20.3\n",
       "  17 │     1     -1      1      1      1     -1     -1     -1      1     29.4\n",
       "  18 │     1     -1      1     -1     -1     -1      1      1      1     19.7\n",
       "  19 │     1      1      1     -1     -1      1     -1     -1      1     13.6\n",
       "  20 │     1      1      1      1      1      1      1      1      1     24.7"
      ]
     },
     "execution_count": 2,
     "metadata": {},
     "output_type": "execute_result"
    }
   ],
   "source": [
    "data = CSV.read(\"BM93e3.csv\", DataFrame)"
   ]
  },
  {
   "cell_type": "code",
   "execution_count": 3,
   "id": "e90fb8a9",
   "metadata": {},
   "outputs": [
    {
     "data": {
      "text/plain": [
       "16-element Vector{Float64}:\n",
       " 14.0\n",
       " 16.8\n",
       " 15.0\n",
       " 15.4\n",
       " 27.6\n",
       " 24.0\n",
       " 27.4\n",
       " 22.6\n",
       " 22.3\n",
       " 17.1\n",
       " 21.5\n",
       " 17.5\n",
       " 15.9\n",
       " 21.9\n",
       " 16.7\n",
       " 20.3"
      ]
     },
     "execution_count": 3,
     "metadata": {},
     "output_type": "execute_result"
    }
   ],
   "source": [
    "X = data[1:16, [1, 2, 4, 6, 9]]\n",
    "y = data[1:16, 10]"
   ]
  },
  {
   "cell_type": "code",
   "execution_count": 4,
   "id": "3fee67c8",
   "metadata": {},
   "outputs": [
    {
     "data": {
      "text/plain": [
       "5-element Vector{Float64}:\n",
       " 0.2356\n",
       " 0.2356\n",
       " 0.2356\n",
       " 0.2356\n",
       " 0.0566"
      ]
     },
     "execution_count": 4,
     "metadata": {},
     "output_type": "execute_result"
    }
   ],
   "source": [
    "p_mod = [0.2356,0.2356,0.2356,0.2356,0.0566]"
   ]
  },
  {
   "cell_type": "code",
   "execution_count": 5,
   "id": "66fb6f51",
   "metadata": {},
   "outputs": [
    {
     "data": {
      "text/plain": [
       "5×4 Named Matrix{Int64}\n",
       "A ╲ B │ f1  f2  f3  f4\n",
       "──────┼───────────────\n",
       "1     │  2   3   4   0\n",
       "2     │  1   3   4   0\n",
       "3     │  1   2   3   0\n",
       "4     │  1   2   4   0\n",
       "5     │  1   2   3   4"
      ]
     },
     "execution_count": 5,
     "metadata": {},
     "output_type": "execute_result"
    }
   ],
   "source": [
    "fac_mod = NamedArray([2 3 4 0; 1 3 4 0; 1 2 3 0; 1 2 4 0; 1 2 3 4])\n",
    "setnames!(fac_mod, [\"f1\", \"f2\", \"f3\", \"f4\"], 2)  \n",
    "fac_mod"
   ]
  },
  {
   "cell_type": "code",
   "execution_count": 6,
   "id": "ef06e727",
   "metadata": {},
   "outputs": [
    {
     "data": {
      "text/plain": [
       "16×5 Named Matrix{Int64}\n",
       "A ╲ B │ blk   f1   f2   f3   f4\n",
       "──────┼────────────────────────\n",
       "1     │   1   -1   -1   -1   -1\n",
       "2     │   1   -1   -1    1    1\n",
       "3     │   1   -1    1   -1    1\n",
       "4     │   1   -1    1    1   -1\n",
       "5     │   1    1   -1   -1    1\n",
       "6     │   1    1   -1    1   -1\n",
       "7     │   1    1    1   -1   -1\n",
       "8     │   1    1    1    1    1\n",
       "9     │   1   -1   -1   -1    1\n",
       "10    │   1   -1   -1    1   -1\n",
       "11    │   1   -1    1   -1   -1\n",
       "12    │   1   -1    1    1    1\n",
       "13    │   1    1   -1   -1   -1\n",
       "14    │   1    1   -1    1    1\n",
       "15    │   1    1    1   -1    1\n",
       "16    │   1    1    1    1   -1"
      ]
     },
     "execution_count": 6,
     "metadata": {},
     "output_type": "execute_result"
    }
   ],
   "source": [
    "# Quiero arreglar esta construcción, se ve horrible\n",
    "Xcand = NamedArray([[1,1,1,1,1,1,1,1,1,1,1,1,1,1,1,1] [-1,-1,-1,-1,1,1,1,1,-1,-1,-1,-1,1,1,1,1] [-1,-1,1,1,-1,-1,1,1,-1,-1,1,1,-1,-1,1,1] [-1,1,-1,1,-1,1,-1,1,-1,1,-1,1,-1,1,-1,1] [-1,1,1,-1,1,-1,-1,1,1,-1,-1,1,-1,1,1,-1]])\n",
    "setnames!(Xcand, [\"blk\", \"f1\", \"f2\", \"f3\", \"f4\"], 2)\n",
    "Xcand"
   ]
  },
  {
   "cell_type": "code",
   "execution_count": 16,
   "id": "4027cea7",
   "metadata": {},
   "outputs": [
    {
     "data": {
      "text/plain": [
       "dropcol (generic function with 2 methods)"
      ]
     },
     "execution_count": 16,
     "metadata": {},
     "output_type": "execute_result"
    }
   ],
   "source": [
    "# To drop columns\n",
    "dropcol(M::NamedArray, j) = M[:, deleteat!(collect(axes(M, 2)), j)]\n",
    "dropcol(M::DataFrame, j) = M[:, deleteat!(collect(axes(M, 2)), j)]"
   ]
  },
  {
   "cell_type": "code",
   "execution_count": 116,
   "id": "2169b3b2",
   "metadata": {},
   "outputs": [
    {
     "data": {
      "text/plain": [
       "2"
      ]
     },
     "execution_count": 116,
     "metadata": {},
     "output_type": "execute_result"
    }
   ],
   "source": [
    "nMod = 5\n",
    "max_int = 2\n",
    "g = 2"
   ]
  },
  {
   "cell_type": "code",
   "execution_count": 18,
   "id": "f0ea5fb8",
   "metadata": {},
   "outputs": [
    {
     "data": {
      "text/plain": [
       "16×4 Named Matrix{Int64}\n",
       "A ╲ B │ f1  f2  f3  f4\n",
       "──────┼───────────────\n",
       "1     │ -1  -1  -1  -1\n",
       "2     │ -1  -1   1   1\n",
       "3     │ -1   1  -1   1\n",
       "4     │ -1   1   1  -1\n",
       "5     │  1  -1  -1   1\n",
       "6     │  1  -1   1  -1\n",
       "7     │  1   1  -1  -1\n",
       "8     │  1   1   1   1\n",
       "9     │ -1  -1  -1   1\n",
       "10    │ -1  -1   1  -1\n",
       "11    │ -1   1  -1  -1\n",
       "12    │ -1   1   1   1\n",
       "13    │  1  -1  -1  -1\n",
       "14    │  1  -1   1   1\n",
       "15    │  1   1  -1   1\n",
       "16    │  1   1   1  -1"
      ]
     },
     "execution_count": 18,
     "metadata": {},
     "output_type": "execute_result"
    }
   ],
   "source": [
    "# 1\n",
    "n = size(y, 1)\n",
    "fac = size(X, 2) - 1\n",
    "k = size(fac_mod, 2)\n",
    "\n",
    "# Todavia no estoy segura si los dejare como listas o mejor como vectores\n",
    "Si = []\n",
    "Xi = Array{Array{Int64}}[]\n",
    "betai = []\n",
    "gammai = Array{Array{Int64}}[]\n",
    "efectos = Vector{Vector{Int8}}(undef,nMod)\n",
    "\n",
    "models = zeros(nMod, fac)\n",
    "for i = 1:nMod\n",
    "    aux = fac_mod[i, :]\n",
    "    filter!(e -> e != 0, aux)\n",
    "    models[i, aux] .= 1\n",
    "end\n",
    "\n",
    "Xfac = dropcol(X, 1)\n",
    "Xc = dropcol(Xcand, 1)"
   ]
  },
  {
   "cell_type": "code",
   "execution_count": 19,
   "id": "46413895",
   "metadata": {},
   "outputs": [
    {
     "data": {
      "text/plain": [
       "5×10 Named Matrix{Float64}\n",
       "A ╲ hcat │   1    2    3    4    5    6    7    8    9   10\n",
       "─────────┼─────────────────────────────────────────────────\n",
       "1        │ 0.0  1.0  1.0  1.0  0.0  0.0  0.0  1.0  1.0  1.0\n",
       "2        │ 1.0  0.0  1.0  1.0  0.0  1.0  1.0  0.0  0.0  1.0\n",
       "3        │ 1.0  1.0  1.0  0.0  1.0  1.0  0.0  1.0  0.0  0.0\n",
       "4        │ 1.0  1.0  0.0  1.0  1.0  0.0  1.0  0.0  1.0  0.0\n",
       "5        │ 1.0  1.0  1.0  1.0  1.0  1.0  1.0  1.0  1.0  1.0"
      ]
     },
     "execution_count": 19,
     "metadata": {},
     "output_type": "execute_result"
    }
   ],
   "source": [
    "# 2\n",
    "models = NamedArray(models)\n",
    "if max_int > 1\n",
    "    comb = hcat(collect(combinations(1:fac,2))...)\n",
    "    mat = zeros(Int8, size(models, 1), size(comb, 2))\n",
    "    for j = 1:size(comb, 2)\n",
    "        fac1 = comb[1, j]\n",
    "        fac2 = comb[2, j]\n",
    "        aux = models[:, fac1] + models[:, fac2] .== 2\n",
    "        filter!(e -> e != 0, aux)\n",
    "        cols = names(aux, 1)\n",
    "        cols = parse.(Int8, cols)\n",
    "        mat[cols, j] .= 1\n",
    "        Xfac = hcat(Xfac, Xfac[:, fac1].*Xfac[:, fac2], makeunique = true)    \n",
    "        Xc = hcat(Xc, Xc[:, fac1].*Xc[:, fac2])\n",
    "    end\n",
    "    mat = NamedArray(mat)\n",
    "    models = hcat(models, mat)\n",
    "end\n"
   ]
  },
  {
   "cell_type": "code",
   "execution_count": 20,
   "id": "8fa756ab",
   "metadata": {},
   "outputs": [
    {
     "data": {
      "text/plain": [
       "5×11 Matrix{Float64}:\n",
       " 1.0  0.0  1.0  1.0  1.0  0.0  0.0  0.0  1.0  1.0  1.0\n",
       " 1.0  1.0  0.0  1.0  1.0  0.0  1.0  1.0  0.0  0.0  1.0\n",
       " 1.0  1.0  1.0  1.0  0.0  1.0  1.0  0.0  1.0  0.0  0.0\n",
       " 1.0  1.0  1.0  0.0  1.0  1.0  0.0  1.0  0.0  1.0  0.0\n",
       " 1.0  1.0  1.0  1.0  1.0  1.0  1.0  1.0  1.0  1.0  1.0"
      ]
     },
     "execution_count": 20,
     "metadata": {},
     "output_type": "execute_result"
    }
   ],
   "source": [
    "# 3\n",
    "if max_int > 2\n",
    "    comb = hcat(collect(combinations(1:fac,3))...)\n",
    "    mat = zeros(Int8, size(models, 1), size(comb, 2))\n",
    "    for j = 1:size(comb, 2)\n",
    "        fac1 = comb[1, j]\n",
    "        fac2 = comb[2, j]\n",
    "        fac3 = comb[3, j]\n",
    "        aux = models[:, fac1] + models[:, fac2] + models[:, fac3] .== 3\n",
    "        filter!(e -> e != 0, aux)\n",
    "        cols = names(aux, 1)\n",
    "        cols = parse.(Int8, cols)\n",
    "        mat[cols, j] .= 1\n",
    "        Xfac = hcat(Xfac, Xfac[:, fac1].*Xfac[:, fac2].*Xfac[:, fac3], makeunique = true)    \n",
    "        Xc = hcat(Xc, Xc[:, fac1].*Xc[:, fac2].*Xc[:, fac3])\n",
    "    end\n",
    "    mat = NamedArray(mat)\n",
    "    models = hcat(models, mat)\n",
    "end\n",
    "\n",
    "Xfac = hcat(X[:, 1], Xfac, makeunique = true)\n",
    "Xc = hcat(X[:, 1], Xc)\n",
    "models = hcat(ones(nMod), models)"
   ]
  },
  {
   "cell_type": "code",
   "execution_count": null,
   "id": "6fd56530",
   "metadata": {},
   "outputs": [],
   "source": [
    "# 4\n",
    "models = NamedArray(models)\n",
    "for i=1:nMod\n",
    "    aux = models[1, :] .== 1\n",
    "    filter!(e -> e != 0, aux)\n",
    "    cols = names(aux, 1)\n",
    "    cols = parse.(Int8, cols)\n",
    "    efectos[i] = cols\n",
    "    tam = length(efectos[i])\n",
    "    push!(Xi, insertcols!(Xfac[:, efectos[i]], size(Xfac[:, efectos[i]], 2) + 1,  :efectos => ones(n) , makeunique=true))\n",
    "    \n",
    "    mat = zeros(Int8, tam + 1, tam + 1)\n",
    "    if size(mat, 1) > 1\n",
    "    # Tengo que hacer este for mas eficiente\n",
    "    coord = hcat(2:size(mat, 1), 2:size(mat, 1))\n",
    "    for k=1:(size(mat, 1) - 1)\n",
    "        mat[coord[k, 1], coord[k, 2]] = 1\n",
    "    end\n",
    "        #esto no funcionaaa\n",
    "    push!(gammai, (1 / g^2)*mat)"
   ]
  },
  {
   "cell_type": "code",
   "execution_count": 120,
   "id": "d26303e7",
   "metadata": {},
   "outputs": [
    {
     "data": {
      "text/plain": [
       "Array{Array{Int64, N} where N, N} where N[]"
      ]
     },
     "execution_count": 120,
     "metadata": {},
     "output_type": "execute_result"
    }
   ],
   "source": [
    "gammai = Array{Array{Int64}}[]"
   ]
  },
  {
   "cell_type": "code",
   "execution_count": 122,
   "id": "887bc232",
   "metadata": {},
   "outputs": [
    {
     "data": {
      "text/plain": [
       "8×8 Matrix{Float64}:\n",
       " 0.0  0.0   0.0   0.0   0.0   0.0   0.0   0.0\n",
       " 0.0  0.25  0.0   0.0   0.0   0.0   0.0   0.0\n",
       " 0.0  0.0   0.25  0.0   0.0   0.0   0.0   0.0\n",
       " 0.0  0.0   0.0   0.25  0.0   0.0   0.0   0.0\n",
       " 0.0  0.0   0.0   0.0   0.25  0.0   0.0   0.0\n",
       " 0.0  0.0   0.0   0.0   0.0   0.25  0.0   0.0\n",
       " 0.0  0.0   0.0   0.0   0.0   0.0   0.25  0.0\n",
       " 0.0  0.0   0.0   0.0   0.0   0.0   0.0   0.25"
      ]
     },
     "execution_count": 122,
     "metadata": {},
     "output_type": "execute_result"
    }
   ],
   "source": [
    "(1 / g^2)*mat"
   ]
  },
  {
   "cell_type": "code",
   "execution_count": 121,
   "id": "6f34630e",
   "metadata": {},
   "outputs": [
    {
     "ename": "LoadError",
     "evalue": "MethodError: \u001b[0mCannot `convert` an object of type \n\u001b[0m  \u001b[92mFloat64\u001b[39m\u001b[0m to an object of type \n\u001b[0m  \u001b[91mArray{Int64, N} where N\u001b[39m\n\u001b[0mClosest candidates are:\n\u001b[0m  convert(::Type{T}, \u001b[91m::AbstractArray\u001b[39m) where T<:Array at array.jl:532\n\u001b[0m  convert(::Type{T}, \u001b[91m::LinearAlgebra.Factorization\u001b[39m) where T<:AbstractArray at C:\\buildbot\\worker\\package_win64\\build\\usr\\share\\julia\\stdlib\\v1.6\\LinearAlgebra\\src\\factorization.jl:58\n\u001b[0m  convert(::Type{T}, \u001b[91m::T\u001b[39m) where T<:AbstractArray at abstractarray.jl:14\n\u001b[0m  ...",
     "output_type": "error",
     "traceback": [
      "MethodError: \u001b[0mCannot `convert` an object of type \n\u001b[0m  \u001b[92mFloat64\u001b[39m\u001b[0m to an object of type \n\u001b[0m  \u001b[91mArray{Int64, N} where N\u001b[39m\n\u001b[0mClosest candidates are:\n\u001b[0m  convert(::Type{T}, \u001b[91m::AbstractArray\u001b[39m) where T<:Array at array.jl:532\n\u001b[0m  convert(::Type{T}, \u001b[91m::LinearAlgebra.Factorization\u001b[39m) where T<:AbstractArray at C:\\buildbot\\worker\\package_win64\\build\\usr\\share\\julia\\stdlib\\v1.6\\LinearAlgebra\\src\\factorization.jl:58\n\u001b[0m  convert(::Type{T}, \u001b[91m::T\u001b[39m) where T<:AbstractArray at abstractarray.jl:14\n\u001b[0m  ...",
      "",
      "Stacktrace:",
      "  [1] setindex!(A::Matrix{Array{Int64, N} where N}, x::Float64, i1::Int64)",
      "    @ Base .\\array.jl:843",
      "  [2] _unsafe_copyto!(dest::Matrix{Array{Int64, N} where N}, doffs::Int64, src::Matrix{Float64}, soffs::Int64, n::Int64)",
      "    @ Base .\\array.jl:235",
      "  [3] unsafe_copyto!",
      "    @ .\\array.jl:289 [inlined]",
      "  [4] _copyto_impl!",
      "    @ .\\array.jl:313 [inlined]",
      "  [5] copyto!",
      "    @ .\\array.jl:299 [inlined]",
      "  [6] copyto!",
      "    @ .\\array.jl:325 [inlined]",
      "  [7] copyto_axcheck!(dest::Matrix{Array{Int64, N} where N}, src::Matrix{Float64})",
      "    @ Base .\\abstractarray.jl:1056",
      "  [8] Array",
      "    @ .\\array.jl:540 [inlined]",
      "  [9] Array",
      "    @ .\\boot.jl:473 [inlined]",
      " [10] convert",
      "    @ .\\array.jl:532 [inlined]",
      " [11] push!(a::Vector{Array{Array{Int64, N} where N, N} where N}, item::Matrix{Float64})",
      "    @ Base .\\array.jl:932",
      " [12] top-level scope",
      "    @ In[121]:1",
      " [13] eval",
      "    @ .\\boot.jl:360 [inlined]",
      " [14] include_string(mapexpr::typeof(REPL.softscope), mod::Module, code::String, filename::String)",
      "    @ Base .\\loading.jl:1116"
     ]
    }
   ],
   "source": [
    "push!(gammai, (1 / g^2)*mat)"
   ]
  },
  {
   "cell_type": "code",
   "execution_count": 115,
   "id": "269c0e1c",
   "metadata": {},
   "outputs": [
    {
     "data": {
      "text/html": [
       "<div class=\"data-frame\"><p>16 rows × 8 columns</p><table class=\"data-frame\"><thead><tr><th></th><th>x1</th><th>C</th><th>E</th><th>H</th><th>x1_3</th><th>x1_4</th><th>x1_5</th><th>efectos</th></tr><tr><th></th><th title=\"Int64\">Int64</th><th title=\"Int64\">Int64</th><th title=\"Int64\">Int64</th><th title=\"Int64\">Int64</th><th title=\"Int64\">Int64</th><th title=\"Int64\">Int64</th><th title=\"Int64\">Int64</th><th title=\"Float64\">Float64</th></tr></thead><tbody><tr><th>1</th><td>-1</td><td>-1</td><td>1</td><td>1</td><td>-1</td><td>-1</td><td>1</td><td>1.0</td></tr><tr><th>2</th><td>-1</td><td>-1</td><td>-1</td><td>1</td><td>1</td><td>-1</td><td>-1</td><td>1.0</td></tr><tr><th>3</th><td>-1</td><td>-1</td><td>1</td><td>1</td><td>-1</td><td>-1</td><td>1</td><td>1.0</td></tr><tr><th>4</th><td>-1</td><td>-1</td><td>-1</td><td>1</td><td>1</td><td>-1</td><td>-1</td><td>1.0</td></tr><tr><th>5</th><td>-1</td><td>1</td><td>-1</td><td>1</td><td>-1</td><td>1</td><td>-1</td><td>1.0</td></tr><tr><th>6</th><td>-1</td><td>1</td><td>1</td><td>1</td><td>1</td><td>1</td><td>1</td><td>1.0</td></tr><tr><th>7</th><td>-1</td><td>1</td><td>-1</td><td>1</td><td>-1</td><td>1</td><td>-1</td><td>1.0</td></tr><tr><th>8</th><td>-1</td><td>1</td><td>1</td><td>1</td><td>1</td><td>1</td><td>1</td><td>1.0</td></tr><tr><th>9</th><td>-1</td><td>1</td><td>-1</td><td>-1</td><td>-1</td><td>-1</td><td>1</td><td>1.0</td></tr><tr><th>10</th><td>-1</td><td>1</td><td>1</td><td>-1</td><td>1</td><td>-1</td><td>-1</td><td>1.0</td></tr><tr><th>11</th><td>-1</td><td>1</td><td>-1</td><td>-1</td><td>-1</td><td>-1</td><td>1</td><td>1.0</td></tr><tr><th>12</th><td>-1</td><td>1</td><td>1</td><td>-1</td><td>1</td><td>-1</td><td>-1</td><td>1.0</td></tr><tr><th>13</th><td>-1</td><td>-1</td><td>1</td><td>-1</td><td>-1</td><td>1</td><td>-1</td><td>1.0</td></tr><tr><th>14</th><td>-1</td><td>-1</td><td>-1</td><td>-1</td><td>1</td><td>1</td><td>1</td><td>1.0</td></tr><tr><th>15</th><td>-1</td><td>-1</td><td>1</td><td>-1</td><td>-1</td><td>1</td><td>-1</td><td>1.0</td></tr><tr><th>16</th><td>-1</td><td>-1</td><td>-1</td><td>-1</td><td>1</td><td>1</td><td>1</td><td>1.0</td></tr></tbody></table></div>"
      ],
      "text/latex": [
       "\\begin{tabular}{r|cccccccc}\n",
       "\t& x1 & C & E & H & x1\\_3 & x1\\_4 & x1\\_5 & efectos\\\\\n",
       "\t\\hline\n",
       "\t& Int64 & Int64 & Int64 & Int64 & Int64 & Int64 & Int64 & Float64\\\\\n",
       "\t\\hline\n",
       "\t1 & -1 & -1 & 1 & 1 & -1 & -1 & 1 & 1.0 \\\\\n",
       "\t2 & -1 & -1 & -1 & 1 & 1 & -1 & -1 & 1.0 \\\\\n",
       "\t3 & -1 & -1 & 1 & 1 & -1 & -1 & 1 & 1.0 \\\\\n",
       "\t4 & -1 & -1 & -1 & 1 & 1 & -1 & -1 & 1.0 \\\\\n",
       "\t5 & -1 & 1 & -1 & 1 & -1 & 1 & -1 & 1.0 \\\\\n",
       "\t6 & -1 & 1 & 1 & 1 & 1 & 1 & 1 & 1.0 \\\\\n",
       "\t7 & -1 & 1 & -1 & 1 & -1 & 1 & -1 & 1.0 \\\\\n",
       "\t8 & -1 & 1 & 1 & 1 & 1 & 1 & 1 & 1.0 \\\\\n",
       "\t9 & -1 & 1 & -1 & -1 & -1 & -1 & 1 & 1.0 \\\\\n",
       "\t10 & -1 & 1 & 1 & -1 & 1 & -1 & -1 & 1.0 \\\\\n",
       "\t11 & -1 & 1 & -1 & -1 & -1 & -1 & 1 & 1.0 \\\\\n",
       "\t12 & -1 & 1 & 1 & -1 & 1 & -1 & -1 & 1.0 \\\\\n",
       "\t13 & -1 & -1 & 1 & -1 & -1 & 1 & -1 & 1.0 \\\\\n",
       "\t14 & -1 & -1 & -1 & -1 & 1 & 1 & 1 & 1.0 \\\\\n",
       "\t15 & -1 & -1 & 1 & -1 & -1 & 1 & -1 & 1.0 \\\\\n",
       "\t16 & -1 & -1 & -1 & -1 & 1 & 1 & 1 & 1.0 \\\\\n",
       "\\end{tabular}\n"
      ],
      "text/plain": [
       "\u001b[1m16×8 DataFrame\u001b[0m\n",
       "\u001b[1m Row \u001b[0m│\u001b[1m x1    \u001b[0m\u001b[1m C     \u001b[0m\u001b[1m E     \u001b[0m\u001b[1m H     \u001b[0m\u001b[1m x1_3  \u001b[0m\u001b[1m x1_4  \u001b[0m\u001b[1m x1_5  \u001b[0m\u001b[1m efectos \u001b[0m\n",
       "\u001b[1m     \u001b[0m│\u001b[90m Int64 \u001b[0m\u001b[90m Int64 \u001b[0m\u001b[90m Int64 \u001b[0m\u001b[90m Int64 \u001b[0m\u001b[90m Int64 \u001b[0m\u001b[90m Int64 \u001b[0m\u001b[90m Int64 \u001b[0m\u001b[90m Float64 \u001b[0m\n",
       "─────┼──────────────────────────────────────────────────────────\n",
       "   1 │    -1     -1      1      1     -1     -1      1      1.0\n",
       "   2 │    -1     -1     -1      1      1     -1     -1      1.0\n",
       "   3 │    -1     -1      1      1     -1     -1      1      1.0\n",
       "   4 │    -1     -1     -1      1      1     -1     -1      1.0\n",
       "   5 │    -1      1     -1      1     -1      1     -1      1.0\n",
       "   6 │    -1      1      1      1      1      1      1      1.0\n",
       "   7 │    -1      1     -1      1     -1      1     -1      1.0\n",
       "   8 │    -1      1      1      1      1      1      1      1.0\n",
       "   9 │    -1      1     -1     -1     -1     -1      1      1.0\n",
       "  10 │    -1      1      1     -1      1     -1     -1      1.0\n",
       "  11 │    -1      1     -1     -1     -1     -1      1      1.0\n",
       "  12 │    -1      1      1     -1      1     -1     -1      1.0\n",
       "  13 │    -1     -1      1     -1     -1      1     -1      1.0\n",
       "  14 │    -1     -1     -1     -1      1      1      1      1.0\n",
       "  15 │    -1     -1      1     -1     -1      1     -1      1.0\n",
       "  16 │    -1     -1     -1     -1      1      1      1      1.0"
      ]
     },
     "execution_count": 115,
     "metadata": {},
     "output_type": "execute_result"
    }
   ],
   "source": [
    "Xi[i]"
   ]
  },
  {
   "cell_type": "code",
   "execution_count": null,
   "id": "f02a397a",
   "metadata": {},
   "outputs": [],
   "source": []
  }
 ],
 "metadata": {
  "kernelspec": {
   "display_name": "Julia 1.6.3",
   "language": "julia",
   "name": "julia-1.6"
  },
  "language_info": {
   "file_extension": ".jl",
   "mimetype": "application/julia",
   "name": "julia",
   "version": "1.6.3"
  }
 },
 "nbformat": 4,
 "nbformat_minor": 5
}
