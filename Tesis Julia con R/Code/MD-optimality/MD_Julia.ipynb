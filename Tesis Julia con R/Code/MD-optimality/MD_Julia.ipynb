{
 "cells": [
  {
   "cell_type": "code",
   "execution_count": 1,
   "id": "c3c8a4f4",
   "metadata": {},
   "outputs": [],
   "source": [
    "using CSV, DataFrames, NamedArrays, Combinatorics, LinearAlgebra, StatsBase"
   ]
  },
  {
   "cell_type": "code",
   "execution_count": 44,
   "id": "efcda7fa",
   "metadata": {
    "scrolled": true
   },
   "outputs": [],
   "source": [
    "#import Pkg; Pkg.add(\"Combinatorics\")\n",
    "using StatsBase"
   ]
  },
  {
   "cell_type": "code",
   "execution_count": 2,
   "id": "ddcfd9e4",
   "metadata": {},
   "outputs": [
    {
     "data": {
      "text/html": [
       "<div class=\"data-frame\"><p>20 rows × 10 columns</p><table class=\"data-frame\"><thead><tr><th></th><th>blk</th><th>A</th><th>B</th><th>C</th><th>D</th><th>E</th><th>F</th><th>G</th><th>H</th><th>y</th></tr><tr><th></th><th title=\"Int64\">Int64</th><th title=\"Int64\">Int64</th><th title=\"Int64\">Int64</th><th title=\"Int64\">Int64</th><th title=\"Int64\">Int64</th><th title=\"Int64\">Int64</th><th title=\"Int64\">Int64</th><th title=\"Int64\">Int64</th><th title=\"Int64\">Int64</th><th title=\"Float64\">Float64</th></tr></thead><tbody><tr><th>1</th><td>-1</td><td>-1</td><td>-1</td><td>-1</td><td>1</td><td>1</td><td>1</td><td>-1</td><td>1</td><td>14.0</td></tr><tr><th>2</th><td>-1</td><td>1</td><td>-1</td><td>-1</td><td>-1</td><td>-1</td><td>1</td><td>1</td><td>1</td><td>16.8</td></tr><tr><th>3</th><td>-1</td><td>-1</td><td>1</td><td>-1</td><td>-1</td><td>1</td><td>-1</td><td>1</td><td>1</td><td>15.0</td></tr><tr><th>4</th><td>-1</td><td>1</td><td>1</td><td>-1</td><td>1</td><td>-1</td><td>-1</td><td>-1</td><td>1</td><td>15.4</td></tr><tr><th>5</th><td>-1</td><td>-1</td><td>-1</td><td>1</td><td>1</td><td>-1</td><td>-1</td><td>1</td><td>1</td><td>27.6</td></tr><tr><th>6</th><td>-1</td><td>1</td><td>-1</td><td>1</td><td>-1</td><td>1</td><td>-1</td><td>-1</td><td>1</td><td>24.0</td></tr><tr><th>7</th><td>-1</td><td>-1</td><td>1</td><td>1</td><td>-1</td><td>-1</td><td>1</td><td>-1</td><td>1</td><td>27.4</td></tr><tr><th>8</th><td>-1</td><td>1</td><td>1</td><td>1</td><td>1</td><td>1</td><td>1</td><td>1</td><td>1</td><td>22.6</td></tr><tr><th>9</th><td>-1</td><td>1</td><td>1</td><td>1</td><td>-1</td><td>-1</td><td>-1</td><td>1</td><td>-1</td><td>22.3</td></tr><tr><th>10</th><td>-1</td><td>-1</td><td>1</td><td>1</td><td>1</td><td>1</td><td>-1</td><td>-1</td><td>-1</td><td>17.1</td></tr><tr><th>11</th><td>-1</td><td>1</td><td>-1</td><td>1</td><td>1</td><td>-1</td><td>1</td><td>-1</td><td>-1</td><td>21.5</td></tr><tr><th>12</th><td>-1</td><td>-1</td><td>-1</td><td>1</td><td>-1</td><td>1</td><td>1</td><td>1</td><td>-1</td><td>17.5</td></tr><tr><th>13</th><td>-1</td><td>1</td><td>1</td><td>-1</td><td>-1</td><td>1</td><td>1</td><td>-1</td><td>-1</td><td>15.9</td></tr><tr><th>14</th><td>-1</td><td>-1</td><td>1</td><td>-1</td><td>1</td><td>-1</td><td>1</td><td>1</td><td>-1</td><td>21.9</td></tr><tr><th>15</th><td>-1</td><td>1</td><td>-1</td><td>-1</td><td>1</td><td>1</td><td>-1</td><td>1</td><td>-1</td><td>16.7</td></tr><tr><th>16</th><td>-1</td><td>-1</td><td>-1</td><td>-1</td><td>-1</td><td>-1</td><td>-1</td><td>-1</td><td>-1</td><td>20.3</td></tr><tr><th>17</th><td>1</td><td>-1</td><td>1</td><td>1</td><td>1</td><td>-1</td><td>-1</td><td>-1</td><td>1</td><td>29.4</td></tr><tr><th>18</th><td>1</td><td>-1</td><td>1</td><td>-1</td><td>-1</td><td>-1</td><td>1</td><td>1</td><td>1</td><td>19.7</td></tr><tr><th>19</th><td>1</td><td>1</td><td>1</td><td>-1</td><td>-1</td><td>1</td><td>-1</td><td>-1</td><td>1</td><td>13.6</td></tr><tr><th>20</th><td>1</td><td>1</td><td>1</td><td>1</td><td>1</td><td>1</td><td>1</td><td>1</td><td>1</td><td>24.7</td></tr></tbody></table></div>"
      ],
      "text/latex": [
       "\\begin{tabular}{r|cccccccccc}\n",
       "\t& blk & A & B & C & D & E & F & G & H & y\\\\\n",
       "\t\\hline\n",
       "\t& Int64 & Int64 & Int64 & Int64 & Int64 & Int64 & Int64 & Int64 & Int64 & Float64\\\\\n",
       "\t\\hline\n",
       "\t1 & -1 & -1 & -1 & -1 & 1 & 1 & 1 & -1 & 1 & 14.0 \\\\\n",
       "\t2 & -1 & 1 & -1 & -1 & -1 & -1 & 1 & 1 & 1 & 16.8 \\\\\n",
       "\t3 & -1 & -1 & 1 & -1 & -1 & 1 & -1 & 1 & 1 & 15.0 \\\\\n",
       "\t4 & -1 & 1 & 1 & -1 & 1 & -1 & -1 & -1 & 1 & 15.4 \\\\\n",
       "\t5 & -1 & -1 & -1 & 1 & 1 & -1 & -1 & 1 & 1 & 27.6 \\\\\n",
       "\t6 & -1 & 1 & -1 & 1 & -1 & 1 & -1 & -1 & 1 & 24.0 \\\\\n",
       "\t7 & -1 & -1 & 1 & 1 & -1 & -1 & 1 & -1 & 1 & 27.4 \\\\\n",
       "\t8 & -1 & 1 & 1 & 1 & 1 & 1 & 1 & 1 & 1 & 22.6 \\\\\n",
       "\t9 & -1 & 1 & 1 & 1 & -1 & -1 & -1 & 1 & -1 & 22.3 \\\\\n",
       "\t10 & -1 & -1 & 1 & 1 & 1 & 1 & -1 & -1 & -1 & 17.1 \\\\\n",
       "\t11 & -1 & 1 & -1 & 1 & 1 & -1 & 1 & -1 & -1 & 21.5 \\\\\n",
       "\t12 & -1 & -1 & -1 & 1 & -1 & 1 & 1 & 1 & -1 & 17.5 \\\\\n",
       "\t13 & -1 & 1 & 1 & -1 & -1 & 1 & 1 & -1 & -1 & 15.9 \\\\\n",
       "\t14 & -1 & -1 & 1 & -1 & 1 & -1 & 1 & 1 & -1 & 21.9 \\\\\n",
       "\t15 & -1 & 1 & -1 & -1 & 1 & 1 & -1 & 1 & -1 & 16.7 \\\\\n",
       "\t16 & -1 & -1 & -1 & -1 & -1 & -1 & -1 & -1 & -1 & 20.3 \\\\\n",
       "\t17 & 1 & -1 & 1 & 1 & 1 & -1 & -1 & -1 & 1 & 29.4 \\\\\n",
       "\t18 & 1 & -1 & 1 & -1 & -1 & -1 & 1 & 1 & 1 & 19.7 \\\\\n",
       "\t19 & 1 & 1 & 1 & -1 & -1 & 1 & -1 & -1 & 1 & 13.6 \\\\\n",
       "\t20 & 1 & 1 & 1 & 1 & 1 & 1 & 1 & 1 & 1 & 24.7 \\\\\n",
       "\\end{tabular}\n"
      ],
      "text/plain": [
       "\u001b[1m20×10 DataFrame\u001b[0m\n",
       "\u001b[1m Row \u001b[0m│\u001b[1m blk   \u001b[0m\u001b[1m A     \u001b[0m\u001b[1m B     \u001b[0m\u001b[1m C     \u001b[0m\u001b[1m D     \u001b[0m\u001b[1m E     \u001b[0m\u001b[1m F     \u001b[0m\u001b[1m G     \u001b[0m\u001b[1m H     \u001b[0m\u001b[1m y       \u001b[0m\n",
       "\u001b[1m     \u001b[0m│\u001b[90m Int64 \u001b[0m\u001b[90m Int64 \u001b[0m\u001b[90m Int64 \u001b[0m\u001b[90m Int64 \u001b[0m\u001b[90m Int64 \u001b[0m\u001b[90m Int64 \u001b[0m\u001b[90m Int64 \u001b[0m\u001b[90m Int64 \u001b[0m\u001b[90m Int64 \u001b[0m\u001b[90m Float64 \u001b[0m\n",
       "─────┼────────────────────────────────────────────────────────────────────────\n",
       "   1 │    -1     -1     -1     -1      1      1      1     -1      1     14.0\n",
       "   2 │    -1      1     -1     -1     -1     -1      1      1      1     16.8\n",
       "   3 │    -1     -1      1     -1     -1      1     -1      1      1     15.0\n",
       "   4 │    -1      1      1     -1      1     -1     -1     -1      1     15.4\n",
       "   5 │    -1     -1     -1      1      1     -1     -1      1      1     27.6\n",
       "   6 │    -1      1     -1      1     -1      1     -1     -1      1     24.0\n",
       "   7 │    -1     -1      1      1     -1     -1      1     -1      1     27.4\n",
       "   8 │    -1      1      1      1      1      1      1      1      1     22.6\n",
       "   9 │    -1      1      1      1     -1     -1     -1      1     -1     22.3\n",
       "  10 │    -1     -1      1      1      1      1     -1     -1     -1     17.1\n",
       "  11 │    -1      1     -1      1      1     -1      1     -1     -1     21.5\n",
       "  12 │    -1     -1     -1      1     -1      1      1      1     -1     17.5\n",
       "  13 │    -1      1      1     -1     -1      1      1     -1     -1     15.9\n",
       "  14 │    -1     -1      1     -1      1     -1      1      1     -1     21.9\n",
       "  15 │    -1      1     -1     -1      1      1     -1      1     -1     16.7\n",
       "  16 │    -1     -1     -1     -1     -1     -1     -1     -1     -1     20.3\n",
       "  17 │     1     -1      1      1      1     -1     -1     -1      1     29.4\n",
       "  18 │     1     -1      1     -1     -1     -1      1      1      1     19.7\n",
       "  19 │     1      1      1     -1     -1      1     -1     -1      1     13.6\n",
       "  20 │     1      1      1      1      1      1      1      1      1     24.7"
      ]
     },
     "execution_count": 2,
     "metadata": {},
     "output_type": "execute_result"
    }
   ],
   "source": [
    "data = CSV.read(\"BM93e3.csv\", DataFrame)"
   ]
  },
  {
   "cell_type": "code",
   "execution_count": 3,
   "id": "e90fb8a9",
   "metadata": {},
   "outputs": [
    {
     "data": {
      "text/plain": [
       "16-element Vector{Float64}:\n",
       " 14.0\n",
       " 16.8\n",
       " 15.0\n",
       " 15.4\n",
       " 27.6\n",
       " 24.0\n",
       " 27.4\n",
       " 22.6\n",
       " 22.3\n",
       " 17.1\n",
       " 21.5\n",
       " 17.5\n",
       " 15.9\n",
       " 21.9\n",
       " 16.7\n",
       " 20.3"
      ]
     },
     "execution_count": 3,
     "metadata": {},
     "output_type": "execute_result"
    }
   ],
   "source": [
    "X = data[1:16, [1, 2, 4, 6, 9]]\n",
    "y = data[1:16, 10]"
   ]
  },
  {
   "cell_type": "code",
   "execution_count": 4,
   "id": "3fee67c8",
   "metadata": {},
   "outputs": [
    {
     "data": {
      "text/plain": [
       "5-element Vector{Float64}:\n",
       " 0.2356\n",
       " 0.2356\n",
       " 0.2356\n",
       " 0.2356\n",
       " 0.0566"
      ]
     },
     "execution_count": 4,
     "metadata": {},
     "output_type": "execute_result"
    }
   ],
   "source": [
    "p_mod = [0.2356,0.2356,0.2356,0.2356,0.0566]"
   ]
  },
  {
   "cell_type": "code",
   "execution_count": 5,
   "id": "66fb6f51",
   "metadata": {},
   "outputs": [
    {
     "data": {
      "text/plain": [
       "5×4 Named Matrix{Int64}\n",
       "A ╲ B │ f1  f2  f3  f4\n",
       "──────┼───────────────\n",
       "1     │  2   3   4   0\n",
       "2     │  1   3   4   0\n",
       "3     │  1   2   3   0\n",
       "4     │  1   2   4   0\n",
       "5     │  1   2   3   4"
      ]
     },
     "execution_count": 5,
     "metadata": {},
     "output_type": "execute_result"
    }
   ],
   "source": [
    "fac_mod = NamedArray([2 3 4 0; 1 3 4 0; 1 2 3 0; 1 2 4 0; 1 2 3 4])\n",
    "setnames!(fac_mod, [\"f1\", \"f2\", \"f3\", \"f4\"], 2)  \n",
    "fac_mod"
   ]
  },
  {
   "cell_type": "code",
   "execution_count": 6,
   "id": "ef06e727",
   "metadata": {},
   "outputs": [
    {
     "data": {
      "text/plain": [
       "16×5 Named Matrix{Int64}\n",
       "A ╲ B │ blk   f1   f2   f3   f4\n",
       "──────┼────────────────────────\n",
       "1     │   1   -1   -1   -1   -1\n",
       "2     │   1   -1   -1    1    1\n",
       "3     │   1   -1    1   -1    1\n",
       "4     │   1   -1    1    1   -1\n",
       "5     │   1    1   -1   -1    1\n",
       "6     │   1    1   -1    1   -1\n",
       "7     │   1    1    1   -1   -1\n",
       "8     │   1    1    1    1    1\n",
       "9     │   1   -1   -1   -1    1\n",
       "10    │   1   -1   -1    1   -1\n",
       "11    │   1   -1    1   -1   -1\n",
       "12    │   1   -1    1    1    1\n",
       "13    │   1    1   -1   -1   -1\n",
       "14    │   1    1   -1    1    1\n",
       "15    │   1    1    1   -1    1\n",
       "16    │   1    1    1    1   -1"
      ]
     },
     "execution_count": 6,
     "metadata": {},
     "output_type": "execute_result"
    }
   ],
   "source": [
    "# Quiero arreglar esta construcción, se ve horrible\n",
    "Xcand = NamedArray([[1,1,1,1,1,1,1,1,1,1,1,1,1,1,1,1] [-1,-1,-1,-1,1,1,1,1,-1,-1,-1,-1,1,1,1,1] [-1,-1,1,1,-1,-1,1,1,-1,-1,1,1,-1,-1,1,1] [-1,1,-1,1,-1,1,-1,1,-1,1,-1,1,-1,1,-1,1] [-1,1,1,-1,1,-1,-1,1,1,-1,-1,1,-1,1,1,-1]])\n",
    "setnames!(Xcand, [\"blk\", \"f1\", \"f2\", \"f3\", \"f4\"], 2)\n",
    "Xcand"
   ]
  },
  {
   "cell_type": "code",
   "execution_count": 7,
   "id": "4027cea7",
   "metadata": {},
   "outputs": [
    {
     "data": {
      "text/plain": [
       "snip (generic function with 2 methods)"
      ]
     },
     "execution_count": 7,
     "metadata": {},
     "output_type": "execute_result"
    }
   ],
   "source": [
    "# To drop columns\n",
    "dropcol(M::NamedArray, j) = M[:, deleteat!(collect(axes(M, 2)), j)]\n",
    "dropcol(M::DataFrame, j) = M[:, deleteat!(collect(axes(M, 2)), j)]\n",
    "\n",
    "# Para quitar el primer elemento de un string\n",
    "snip(s::String) = s[nextind(s,1):end]\n",
    "snip(s::SubString) = s[nextind(s,1):end]\n"
   ]
  },
  {
   "cell_type": "code",
   "execution_count": 8,
   "id": "2169b3b2",
   "metadata": {},
   "outputs": [
    {
     "data": {
      "text/plain": [
       "20"
      ]
     },
     "execution_count": 8,
     "metadata": {},
     "output_type": "execute_result"
    }
   ],
   "source": [
    "nMod = 5\n",
    "max_int = 2\n",
    "g = 2\n",
    "nStart = 25\n",
    "nFDes = 4\n",
    "Iter = 20"
   ]
  },
  {
   "cell_type": "code",
   "execution_count": 9,
   "id": "f0ea5fb8",
   "metadata": {},
   "outputs": [
    {
     "data": {
      "text/plain": [
       "16×4 Named Matrix{Int64}\n",
       "A ╲ B │ f1  f2  f3  f4\n",
       "──────┼───────────────\n",
       "1     │ -1  -1  -1  -1\n",
       "2     │ -1  -1   1   1\n",
       "3     │ -1   1  -1   1\n",
       "4     │ -1   1   1  -1\n",
       "5     │  1  -1  -1   1\n",
       "6     │  1  -1   1  -1\n",
       "7     │  1   1  -1  -1\n",
       "8     │  1   1   1   1\n",
       "9     │ -1  -1  -1   1\n",
       "10    │ -1  -1   1  -1\n",
       "11    │ -1   1  -1  -1\n",
       "12    │ -1   1   1   1\n",
       "13    │  1  -1  -1  -1\n",
       "14    │  1  -1   1   1\n",
       "15    │  1   1  -1   1\n",
       "16    │  1   1   1  -1"
      ]
     },
     "execution_count": 9,
     "metadata": {},
     "output_type": "execute_result"
    }
   ],
   "source": [
    "# 1\n",
    "n = size(y, 1)\n",
    "fac = size(X, 2) - 1\n",
    "k = size(fac_mod, 2)\n",
    "\n",
    "# Todavia no estoy segura si los dejare como listas o mejor como vectores\n",
    "Si = Vector{Float64}(undef, nMod)\n",
    "Xi = map(_ -> DataFrame(), 1:nMod) # Vector de Dataframes\n",
    "betai = Vector{Vector{Float64}}(undef,nMod)\n",
    "gammai = Matrix{Float64}[]  # Vector de matrices\n",
    "efectos = Vector{Vector{Int8}}(undef,nMod) # Vector de vectores\n",
    "\n",
    "models = zeros(nMod, fac)\n",
    "for i = 1:nMod\n",
    "    aux = fac_mod[i, :]\n",
    "    filter!(e -> e != 0, aux)\n",
    "    models[i, aux] .= 1\n",
    "end\n",
    "\n",
    "Xfac = dropcol(X, 1)\n",
    "Xc = dropcol(Xcand, 1)"
   ]
  },
  {
   "cell_type": "code",
   "execution_count": 10,
   "id": "46413895",
   "metadata": {},
   "outputs": [
    {
     "data": {
      "text/plain": [
       "5×10 Named Matrix{Float64}\n",
       "A ╲ hcat │   1    2    3    4    5    6    7    8    9   10\n",
       "─────────┼─────────────────────────────────────────────────\n",
       "1        │ 0.0  1.0  1.0  1.0  0.0  0.0  0.0  1.0  1.0  1.0\n",
       "2        │ 1.0  0.0  1.0  1.0  0.0  1.0  1.0  0.0  0.0  1.0\n",
       "3        │ 1.0  1.0  1.0  0.0  1.0  1.0  0.0  1.0  0.0  0.0\n",
       "4        │ 1.0  1.0  0.0  1.0  1.0  0.0  1.0  0.0  1.0  0.0\n",
       "5        │ 1.0  1.0  1.0  1.0  1.0  1.0  1.0  1.0  1.0  1.0"
      ]
     },
     "execution_count": 10,
     "metadata": {},
     "output_type": "execute_result"
    }
   ],
   "source": [
    "# 2\n",
    "models = NamedArray(models)\n",
    "if max_int > 1\n",
    "    comb = hcat(collect(combinations(1:fac,2))...)\n",
    "    mat = zeros(Int8, size(models, 1), size(comb, 2))\n",
    "    for j = 1:size(comb, 2)\n",
    "        fac1 = comb[1, j]\n",
    "        fac2 = comb[2, j]\n",
    "        aux = models[:, fac1] + models[:, fac2] .== 2\n",
    "        filter!(e -> e != 0, aux)\n",
    "        cols = names(aux, 1)\n",
    "        cols = parse.(Int8, cols)\n",
    "        mat[cols, j] .= 1\n",
    "        Xfac = hcat(Xfac, Xfac[:, fac1].*Xfac[:, fac2], makeunique = true)    \n",
    "        Xc = hcat(Xc, Xc[:, fac1].*Xc[:, fac2])\n",
    "    end\n",
    "    mat = NamedArray(mat)\n",
    "    models = hcat(models, mat)\n",
    "end\n"
   ]
  },
  {
   "cell_type": "code",
   "execution_count": 11,
   "id": "8fa756ab",
   "metadata": {},
   "outputs": [
    {
     "data": {
      "text/plain": [
       "5×11 Matrix{Float64}:\n",
       " 1.0  0.0  1.0  1.0  1.0  0.0  0.0  0.0  1.0  1.0  1.0\n",
       " 1.0  1.0  0.0  1.0  1.0  0.0  1.0  1.0  0.0  0.0  1.0\n",
       " 1.0  1.0  1.0  1.0  0.0  1.0  1.0  0.0  1.0  0.0  0.0\n",
       " 1.0  1.0  1.0  0.0  1.0  1.0  0.0  1.0  0.0  1.0  0.0\n",
       " 1.0  1.0  1.0  1.0  1.0  1.0  1.0  1.0  1.0  1.0  1.0"
      ]
     },
     "execution_count": 11,
     "metadata": {},
     "output_type": "execute_result"
    }
   ],
   "source": [
    "# 3\n",
    "if max_int > 2\n",
    "    comb = hcat(collect(combinations(1:fac,3))...)\n",
    "    mat = zeros(Int8, size(models, 1), size(comb, 2))\n",
    "    for j = 1:size(comb, 2)\n",
    "        fac1 = comb[1, j]\n",
    "        fac2 = comb[2, j]\n",
    "        fac3 = comb[3, j]\n",
    "        aux = models[:, fac1] + models[:, fac2] + models[:, fac3] .== 3\n",
    "        filter!(e -> e != 0, aux)\n",
    "        cols = names(aux, 1)\n",
    "        cols = parse.(Int8, cols)\n",
    "        mat[cols, j] .= 1\n",
    "        Xfac = hcat(Xfac, Xfac[:, fac1].*Xfac[:, fac2].*Xfac[:, fac3], makeunique = true)    \n",
    "        Xc = hcat(Xc, Xc[:, fac1].*Xc[:, fac2].*Xc[:, fac3])\n",
    "    end\n",
    "    mat = NamedArray(mat)\n",
    "    models = hcat(models, mat)\n",
    "end\n",
    "\n",
    "Xfac = hcat(X[:, 1], Xfac, makeunique = true)\n",
    "Xc = hcat(Xcand[:, 1], Xc)\n",
    "models = hcat(ones(nMod), models)"
   ]
  },
  {
   "cell_type": "code",
   "execution_count": 12,
   "id": "6fd56530",
   "metadata": {},
   "outputs": [],
   "source": [
    "# 4\n",
    "models = NamedArray(models)\n",
    "for i=1:nMod\n",
    "    aux = models[i, :] .== 1\n",
    "    filter!(e -> e != 0, aux)\n",
    "    cols = names(aux, 1)\n",
    "    cols = parse.(Int8, cols)\n",
    "    efectos[i] = cols\n",
    "    tam = length(efectos[i])\n",
    "    Xi[i] = insertcols!(Xfac[:, efectos[i]], 1,  :efectos => ones(n) , makeunique=true)\n",
    "    \n",
    "    mat = zeros(Int8, tam + 1, tam + 1)\n",
    "    if size(mat, 1) > 1\n",
    "    # Tengo que hacer este for mas eficiente\n",
    "        coord = hcat(2:size(mat, 1), 2:size(mat, 1))\n",
    "        for k=1:(size(mat, 1) - 1)\n",
    "            mat[coord[k, 1], coord[k, 2]] = 1\n",
    "        end\n",
    "    end\n",
    "\n",
    "    push!(gammai, (1 / g^2)*mat)\n",
    "    betai[i] = inv(gammai[i] + Matrix(Xi[i])' * Matrix(Xi[i])) * Matrix(Xi[i])' * y\n",
    "    Si[i] = (y - Matrix(Xi[i]) * betai[i])' * (y - Matrix(Xi[i]) * betai[i]) + betai[i]'*gammai[i] * betai[i]\n",
    "end\n",
    "    "
   ]
  },
  {
   "cell_type": "code",
   "execution_count": 24,
   "id": "d969a885",
   "metadata": {},
   "outputs": [
    {
     "data": {
      "text/plain": [
       "MDr (generic function with 1 method)"
      ]
     },
     "execution_count": 24,
     "metadata": {},
     "output_type": "execute_result"
    }
   ],
   "source": [
    "# 5\n",
    "function MDr(extra)\n",
    "    nex = length(extra)\n",
    "    y_gorro_estrella = Vector{Vector{Float64}}(undef,nMod) #*\n",
    "    V_estrella = Matrix{Float64}[]\n",
    "    \n",
    "    for i=1:nMod\n",
    "        Xiestrella = hcat(ones(nex), Xc[extra, efectos[i]])\n",
    "        y_gorro_estrella[i] = Xiestrella * betai[i]\n",
    "        push!(V_estrella, diagm(0 => ones(nex)) + Xiestrella * inv(gammai[i] + Matrix(Xi[i])'*Matrix(Xi[i])) * Xiestrella')\n",
    "    end\n",
    "    \n",
    "    MD = 0\n",
    "    m = 1:nMod\n",
    "    \n",
    "    for i in m\n",
    "        for j in m[m .!= i]\n",
    "            MD = MD + p_mod[i]*p_mod[j]*(-nex + \n",
    "                sum(diag(inv(V_estrella[j])*V_estrella[i])) + \n",
    "                (n - 1)*(y_gorro_estrella[i] - y_gorro_estrella[j])'*\n",
    "                inv(V_estrella[j])*(y_gorro_estrella[i] - y_gorro_estrella[j])/Si[i])\n",
    "        end\n",
    "    end\n",
    "    MD = MD * .5\n",
    "    return(MD)    \n",
    "end"
   ]
  },
  {
   "cell_type": "code",
   "execution_count": null,
   "id": "b3b545ca",
   "metadata": {},
   "outputs": [],
   "source": [
    "# 6\n",
    "cero = [0]\n",
    "df_MD = DataFrame(DesignPoints = [cero], MD = Float64(0))\n",
    "for j in 1:nStart\n",
    "    extra = sample(1:size(Xcand, 1), nFDes, replace = true)\n",
    "    iter = 1\n",
    "    last_out = 0\n",
    "    last_in = 1\n",
    "    while last_out != last_in && iter < Iter\n",
    "        dp = string(sort(extra))\n",
    "        dp = snip(dp)  # Quita el primer parentesis \n",
    "        dp = chop(dp)  # Quita el ultimo parentesis\n",
    "        # No estoy muy segura de esta parte\n",
    "        aux = df_MD[:, 1] in dp\n",
    "        if aux != false\n",
    "    break\n",
    "        end\n",
    "        # Hasta aquí es mi duda\n",
    "        df_MD = append!(df_MD, DataFrame(DesignPoints = [dp], MD = round(MDr(extra); digits = 2)))\n",
    "        \n",
    "        op = Vector{Float64}(undef, nFDes)\n",
    "        for i in 1:nFDes\n",
    "            op[i] = MDr(extra[1:end .!= i])  # Aqui hay un error y no se cual es\n",
    "        end\n",
    "        index = findmax(op)[2]\n",
    "        last_out = extra[index]\n",
    "        extra = extra[1:end .!= index]\n",
    "        \n",
    "        op = Vector{Float64}(undef, size(Xcand, 1))\n",
    "        for i in 1:size(Xcand, 1)\n",
    "            extra = append!(extra, i)\n",
    "            op[i] = MDr(extra)\n",
    "        end\n",
    "end\n"
   ]
  },
  {
   "cell_type": "code",
   "execution_count": null,
   "id": "83c4eb6e",
   "metadata": {},
   "outputs": [],
   "source": [
    "extra = [5, 16, 3, 5]\n",
    "op = Vector{Float64}(undef, nFDes)\n",
    "for i in 1:nFDes\n",
    "    op[i] = MDr(extra[1:end .!= i])\n",
    "end\n",
    "# index = findmax(op)[2]\n",
    "# last_out = extra[index]\n",
    "# extra = extra[1:end .!= index]\n",
    "        \n",
    "# op = Vector{Float64}(undef, size(Xcand, 1))\n",
    "# for i in 1:size(Xcand, 1)\n",
    "#     extra = append!(extra, i)\n",
    "#     op[i] = MDr(extra)\n",
    "# end"
   ]
  },
  {
   "cell_type": "code",
   "execution_count": 137,
   "id": "0ac82b23",
   "metadata": {},
   "outputs": [
    {
     "ename": "LoadError",
     "evalue": "Cannot have duplicated names for indices",
     "output_type": "error",
     "traceback": [
      "Cannot have duplicated names for indices",
      "",
      "Stacktrace:",
      "  [1] error(s::String)",
      "    @ Base .\\error.jl:33",
      "  [2] defaultnamesdict",
      "    @ C:\\Users\\Valeria\\.julia\\packages\\NamedArrays\\TuJLn\\src\\constructors.jl:15 [inlined]",
      "  [3] map",
      "    @ .\\tuple.jl:214 [inlined]",
      "  [4] defaultnamesdict",
      "    @ C:\\Users\\Valeria\\.julia\\packages\\NamedArrays\\TuJLn\\src\\constructors.jl:19 [inlined]",
      "  [5] NamedArray(array::Matrix{Int64}, names::Tuple{Vector{String}, Vector{String}}, dimnames::Tuple{Symbol, Symbol})",
      "    @ NamedArrays C:\\Users\\Valeria\\.julia\\packages\\NamedArrays\\TuJLn\\src\\constructors.jl:47",
      "  [6] #namedgetindex#41",
      "    @ C:\\Users\\Valeria\\.julia\\packages\\NamedArrays\\TuJLn\\src\\index.jl:142 [inlined]",
      "  [7] namedgetindex",
      "    @ C:\\Users\\Valeria\\.julia\\packages\\NamedArrays\\TuJLn\\src\\index.jl:111 [inlined]",
      "  [8] getindex(::NamedMatrix{Int64, Matrix{Int64}, Tuple{OrderedCollections.OrderedDict{String, Int64}, OrderedCollections.OrderedDict{String, Int64}}}, ::Vector{Int64}, ::Vector{Int8})",
      "    @ NamedArrays C:\\Users\\Valeria\\.julia\\packages\\NamedArrays\\TuJLn\\src\\index.jl:58",
      "  [9] MDr(extra::Vector{Int64})",
      "    @ Main .\\In[24]:8",
      " [10] top-level scope",
      "    @ In[137]:1",
      " [11] eval",
      "    @ .\\boot.jl:360 [inlined]",
      " [12] include_string(mapexpr::typeof(REPL.softscope), mod::Module, code::String, filename::String)",
      "    @ Base .\\loading.jl:1116"
     ]
    }
   ],
   "source": [
    "MDr(extra[1:end .!= i])\n"
   ]
  },
  {
   "cell_type": "code",
   "execution_count": 22,
   "id": "b1fde0fd",
   "metadata": {},
   "outputs": [
    {
     "data": {
      "text/plain": [
       "7-element Vector{Int8}:\n",
       "  1\n",
       "  3\n",
       "  4\n",
       "  5\n",
       "  9\n",
       " 10\n",
       " 11"
      ]
     },
     "execution_count": 22,
     "metadata": {},
     "output_type": "execute_result"
    }
   ],
   "source": []
  },
  {
   "cell_type": "code",
   "execution_count": 21,
   "id": "2cf4325b",
   "metadata": {},
   "outputs": [
    {
     "data": {
      "text/plain": [
       "3×7 Matrix{Int64}:\n",
       " -1  -1   1   1  -1  -1   1\n",
       " -1  -1  -1   1   1  -1  -1\n",
       " -1   1  -1  -1  -1  -1   1"
      ]
     },
     "execution_count": 21,
     "metadata": {},
     "output_type": "execute_result"
    }
   ],
   "source": []
  }
 ],
 "metadata": {
  "kernelspec": {
   "display_name": "Julia 1.6.3",
   "language": "julia",
   "name": "julia-1.6"
  },
  "language_info": {
   "file_extension": ".jl",
   "mimetype": "application/julia",
   "name": "julia",
   "version": "1.6.3"
  }
 },
 "nbformat": 4,
 "nbformat_minor": 5
}
