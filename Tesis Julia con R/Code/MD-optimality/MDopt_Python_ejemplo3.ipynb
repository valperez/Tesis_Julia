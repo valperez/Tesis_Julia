{
 "cells": [
  {
   "cell_type": "code",
   "execution_count": 1,
   "id": "e9881fb7",
   "metadata": {},
   "outputs": [],
   "source": [
    "import pandas as pd\n",
    "import numpy as np\n",
    "import os\n",
    "import itertools"
   ]
  },
  {
   "cell_type": "code",
   "execution_count": 2,
   "id": "4abc1b93",
   "metadata": {},
   "outputs": [],
   "source": [
    "os.chdir('C:\\\\Users\\\\Valeria\\\\Tesis_Julia_con_R\\\\MD-optimality')"
   ]
  },
  {
   "cell_type": "code",
   "execution_count": 3,
   "id": "44303966",
   "metadata": {},
   "outputs": [],
   "source": [
    "data = pd.read_csv(\"BM93e3.csv\")\n",
    "# Ojo con los numeros porque empiezan en cero\n",
    "X = data.iloc[0:16, [0, 1, 3, 5, 8]]\n",
    "y = data.iloc[0:16, 9]"
   ]
  },
  {
   "cell_type": "code",
   "execution_count": 4,
   "id": "fe76046b",
   "metadata": {},
   "outputs": [],
   "source": [
    "p_mod = [0.2356, 0.2356, 0.2356, 0.2356, 0.0566]\n",
    "\n",
    "fac_mod = pd.DataFrame({'f1': [2, 1, 1, 1, 1],\n",
    "                   'f2': [3, 3, 2, 2, 2],\n",
    "                   'f3': [4, 4, 3, 4, 3], \n",
    "                   'f4': [0, 0, 0, 0, 4]})\n",
    "\n",
    "Xcand = pd.DataFrame({'blk': [1,1,1,1,1,1,1,1,1,1,1,1,1,1,1,1],\n",
    "                   'f1': [-1,-1,-1,-1,1,1,1,1,-1,-1,-1,-1,1,1,1,1],\n",
    "                   'f2': [-1,-1,1,1,-1,-1,1,1,-1,-1,1,1,-1,-1,1,1], \n",
    "                   'f3': [-1,1,-1,1,-1,1,-1,1,-1,1,-1,1,-1,1,-1,1], \n",
    "                   'f4':[-1,1,1,-1,1,-1,-1,1,1,-1,-1,1,-1,1,1,-1]})"
   ]
  },
  {
   "cell_type": "code",
   "execution_count": 5,
   "id": "139d6ba3",
   "metadata": {},
   "outputs": [],
   "source": [
    "nMod = 5\n",
    "max_int = 3\n",
    "g = 2\n",
    "nStart = 25\n",
    "nFDes = 4\n",
    "Iter = 20    \n",
    "top = 10\n",
    "extra = np.array([16, 1, 12, 6]) - 1"
   ]
  },
  {
   "cell_type": "code",
   "execution_count": 6,
   "id": "d5a63cf4",
   "metadata": {},
   "outputs": [],
   "source": [
    "# 1\n",
    "n = len(y)\n",
    "fac = len(X.columns) - 1\n",
    "\n",
    "Si = list()\n",
    "Xi = list()\n",
    "betai = list()\n",
    "gammai = list()\n",
    "efectos = list()\n",
    "\n",
    "models = np.zeros([nMod, fac])\n",
    "for i in range(0, nMod):\n",
    "    aux = fac_mod.iloc[[i]]\n",
    "    filtro = [a for a in aux.iloc[0] if a != 0]\n",
    "    filtro[:] = [filt - 1 for filt in filtro]\n",
    "    models[i, filtro] = 1\n",
    "    \n",
    "Xfac = X.iloc[:, X.columns != \"blk\"]\n",
    "Xc   = Xcand.iloc[:, Xcand.columns != \"blk\"]"
   ]
  },
  {
   "cell_type": "code",
   "execution_count": 7,
   "id": "bcf92387",
   "metadata": {},
   "outputs": [],
   "source": [
    "# 2\n",
    "if max_int > 1:\n",
    "    comb = list(itertools.combinations(range(1,fac + 1), 2))\n",
    "    mat = np.zeros((len(models), len(comb)))\n",
    "    for j in range(0, len(comb)):\n",
    "        fac1 = comb[j][0]\n",
    "        fac2 = comb[j][1]\n",
    "        mat[np.where(models[:, fac1 - 1] + models[:, fac2 - 1] == 2), j] = 1\n",
    "        Xfac['V' + str(j)] = Xfac.iloc[:, fac1 - 1]*Xfac.iloc[:, fac2 - 1]\n",
    "        Xc['V' + str(j)] = Xc.iloc[:, fac1 - 1]*Xc.iloc[:, fac2 - 1]\n",
    "    \n",
    "    models = np.concatenate((models,mat),axis = 1)"
   ]
  },
  {
   "cell_type": "code",
   "execution_count": 8,
   "id": "af42f7f8",
   "metadata": {},
   "outputs": [],
   "source": [
    "# 3\n",
    "if max_int > 2:\n",
    "    comb = list(itertools.combinations(range(1,fac + 1), 3))\n",
    "    mat = np.zeros((len(models), len(comb)))\n",
    "    for j in range(0, len(comb)):\n",
    "        fac1 = comb[j][0]\n",
    "        fac2 = comb[j][1]\n",
    "        fac3 = comb[j][2]\n",
    "        mat[np.where(models[:, fac1 - 1] + models[:, fac2 - 1] + models[:, fac3 - 1] == 3), j] = 1\n",
    "        Xfac['W' + str(j)] = Xfac.iloc[:, fac1 - 1]*Xfac.iloc[:, fac2 - 1]*Xfac.iloc[:, fac3 - 1]\n",
    "        Xc['W' + str(j)] = Xc.iloc[:, fac1 - 1]*Xc.iloc[:, fac2 - 1]*Xc.iloc[:, fac3 - 1]\n",
    "    \n",
    "    models = np.concatenate((models,mat),axis = 1)\n",
    "\n",
    "Xfac.insert(0, 'X_1' ,X.iloc[:, 0])\n",
    "Xc.insert(0, 'Xcand', Xcand.iloc[:, 0], True)\n",
    "models = np.insert(models, 0, [1]*nMod, axis = 1)"
   ]
  },
  {
   "cell_type": "code",
   "execution_count": 9,
   "id": "dc90d112",
   "metadata": {},
   "outputs": [],
   "source": [
    "# 4\n",
    "for i in range(0, nMod):\n",
    "    efectos.append(np.where(models[i, :] == 1))\n",
    "    tam = sum([len(listElem) for listElem in efectos[i]])\n",
    "    aux = Xfac.iloc[:, efectos[i][0]]\n",
    "    aux.insert(0, '1',  [1]*n)\n",
    "    Xi.append(aux)\n",
    "\n",
    "    mat = np.zeros((tam + 1, tam + 1))\n",
    "    if len(mat) > 1:\n",
    "        coord = np.array([list(range(1, len(mat))), list(range(1, len(mat)))])\n",
    "        for k in range(0, len(mat) - 1):\n",
    "            mat[coord[0, k], coord[1, k]] = 1\n",
    "        \n",
    "    gammai.append((1 / g**2)*mat)\n",
    "    betai.append(np.linalg.inv(gammai[i] + (np.transpose(Xi[i]) @ Xi[i])) @ np.transpose(Xi[i]) @ y)\n",
    "    Si.append(np.transpose(y - Xi[i].to_numpy() @ betai[i]) @ (y - Xi[i].to_numpy() @ betai[i]) + np.transpose(betai[i]) @ gammai[i] @betai[i])"
   ]
  },
  {
   "cell_type": "code",
   "execution_count": 10,
   "id": "dfa7cbe9",
   "metadata": {},
   "outputs": [],
   "source": [
    "# 5\n",
    "def MDr(extra): \n",
    "    nex = len(extra)\n",
    "    y_gorro_estrella = list()\n",
    "    V_estrella = list()\n",
    "\n",
    "    for i in range(0, nMod):\n",
    "        Xiestrella = Xc.iloc[extra, efectos[i][0]]\n",
    "        Xiestrella.insert(0, '1',  [1]*nex)\n",
    "        Xiestrella = Xiestrella.to_numpy()\n",
    "\n",
    "        y_gorro_estrella.append(Xiestrella @ betai[i])\n",
    "        V_estrella.append(np.diag(np.ones(nex)) + Xiestrella @ np.linalg.inv(gammai[i] + (np.transpose(Xi[i]) @ Xi[i])) @ np.transpose(Xiestrella))\n",
    "    \n",
    "    MD = 0\n",
    "    m = range(0, nMod)\n",
    "\n",
    "    for i in m:\n",
    "        for j in [elem for elem in m if m[elem] != i]:\n",
    "            MD = MD + p_mod[i]*p_mod[j]*(-nex + \n",
    "                            sum(np.diag(np.linalg.inv(V_estrella[j]) @ V_estrella[i])) +\n",
    "                           (n - 1)*np.transpose(y_gorro_estrella[i] - y_gorro_estrella[j]) @\n",
    "                           np.linalg.inv(V_estrella[j]) @ (y_gorro_estrella[i] - y_gorro_estrella[j]) / Si[i])\n",
    "    MD = MD * 0.5\n",
    "    \n",
    "    return MD\n"
   ]
  },
  {
   "cell_type": "code",
   "execution_count": 11,
   "id": "95b49049",
   "metadata": {},
   "outputs": [],
   "source": [
    "# 6\n",
    "df_MD = pd.DataFrame(columns = ['DesignPoints', 'MD'])\n",
    "df_MD.loc[len(df_MD)] = [0, 0]\n",
    "\n",
    "for j in range(0, nStart):\n",
    "    extra = np.random.choice(range(0,len(Xcand)), size=nFDes, replace=True, p=None)\n",
    "    iter = 1\n",
    "    last_out = 0\n",
    "    last_in = 1\n",
    "\n",
    "    while (last_out != last_in) & (iter < Iter):\n",
    "        dp = \" \".join([str(int) for int in list(np.sort(extra))])\n",
    "\n",
    "        aux = any(df_MD.iloc[:, 0] == dp)\n",
    "        if aux != False:\n",
    "            break    \n",
    "    \n",
    "        df_MD.loc[len(df_MD)] = [dp] + [str(round(MDr(extra), 2))]\n",
    "\n",
    "        op1 = list()\n",
    "        for i in range(0, nFDes):\n",
    "            op1.append(MDr(extra[np.arange(len(extra)) != i]))\n",
    "\n",
    "        index = np.where(op1 == max(op1))[0][0]\n",
    "        last_out = extra[index]\n",
    "        extra = np.delete(extra, index)\n",
    "\n",
    "        op2 = list()\n",
    "        for i in range(0, len(Xcand)):\n",
    "            op2.append(MDr(np.append(extra, i)))\n",
    "    \n",
    "        last_in = np.where(op2 == max(op2))[0][0]\n",
    "        extra = np.append(extra, last_in)\n",
    "        \n",
    "        iter = iter + 1"
   ]
  },
  {
   "cell_type": "code",
   "execution_count": 12,
   "id": "4425d045",
   "metadata": {},
   "outputs": [],
   "source": [
    "# 7\n",
    "df_MD['MD'] = df_MD['MD'].astype(float)\n",
    "df_MD = df_MD.sort_values([\"MD\"], ascending=False)\n",
    "df_MD = df_MD.iloc[0:top, :]\n",
    "\n",
    "names = ([\"F\" + str(int) for int in list(range(1, fac + 1))])\n",
    "names.insert(0, \"blk\")\n",
    "X.set_axis(names, axis=1)\n",
    "\n",
    "Xcand.set_axis(names, axis = 1)"
   ]
  },
  {
   "cell_type": "code",
   "execution_count": 35,
   "id": "42924155",
   "metadata": {},
   "outputs": [
    {
     "data": {
      "text/plain": [
       "list"
      ]
     },
     "execution_count": 35,
     "metadata": {},
     "output_type": "execute_result"
    }
   ],
   "source": []
  },
  {
   "cell_type": "code",
   "execution_count": 32,
   "id": "e04e9ccf",
   "metadata": {},
   "outputs": [
    {
     "ename": "TypeError",
     "evalue": "'list' object is not callable",
     "output_type": "error",
     "traceback": [
      "\u001b[1;31m---------------------------------------------------------------------------\u001b[0m",
      "\u001b[1;31mTypeError\u001b[0m                                 Traceback (most recent call last)",
      "\u001b[1;32m<ipython-input-32-6d689fe2c8c2>\u001b[0m in \u001b[0;36m<module>\u001b[1;34m\u001b[0m\n\u001b[1;32m----> 1\u001b[1;33m \u001b[0mX\u001b[0m\u001b[1;33m.\u001b[0m\u001b[0mrename\u001b[0m\u001b[1;33m(\u001b[0m\u001b[0mcolumns\u001b[0m \u001b[1;33m=\u001b[0m \u001b[0mnames\u001b[0m\u001b[1;33m,\u001b[0m \u001b[0minplace\u001b[0m \u001b[1;33m=\u001b[0m \u001b[1;32mFalse\u001b[0m\u001b[1;33m)\u001b[0m\u001b[1;33m\u001b[0m\u001b[1;33m\u001b[0m\u001b[0m\n\u001b[0m",
      "\u001b[1;32mC:\\ProgramData\\Anaconda3\\lib\\site-packages\\pandas\\util\\_decorators.py\u001b[0m in \u001b[0;36mwrapper\u001b[1;34m(*args, **kwargs)\u001b[0m\n\u001b[0;32m    310\u001b[0m         \u001b[1;33m@\u001b[0m\u001b[0mwraps\u001b[0m\u001b[1;33m(\u001b[0m\u001b[0mfunc\u001b[0m\u001b[1;33m)\u001b[0m\u001b[1;33m\u001b[0m\u001b[1;33m\u001b[0m\u001b[0m\n\u001b[0;32m    311\u001b[0m         \u001b[1;32mdef\u001b[0m \u001b[0mwrapper\u001b[0m\u001b[1;33m(\u001b[0m\u001b[1;33m*\u001b[0m\u001b[0margs\u001b[0m\u001b[1;33m,\u001b[0m \u001b[1;33m**\u001b[0m\u001b[0mkwargs\u001b[0m\u001b[1;33m)\u001b[0m \u001b[1;33m->\u001b[0m \u001b[0mCallable\u001b[0m\u001b[1;33m[\u001b[0m\u001b[1;33m...\u001b[0m\u001b[1;33m,\u001b[0m \u001b[0mAny\u001b[0m\u001b[1;33m]\u001b[0m\u001b[1;33m:\u001b[0m\u001b[1;33m\u001b[0m\u001b[1;33m\u001b[0m\u001b[0m\n\u001b[1;32m--> 312\u001b[1;33m             \u001b[1;32mreturn\u001b[0m \u001b[0mfunc\u001b[0m\u001b[1;33m(\u001b[0m\u001b[1;33m*\u001b[0m\u001b[0margs\u001b[0m\u001b[1;33m,\u001b[0m \u001b[1;33m**\u001b[0m\u001b[0mkwargs\u001b[0m\u001b[1;33m)\u001b[0m\u001b[1;33m\u001b[0m\u001b[1;33m\u001b[0m\u001b[0m\n\u001b[0m\u001b[0;32m    313\u001b[0m \u001b[1;33m\u001b[0m\u001b[0m\n\u001b[0;32m    314\u001b[0m         \u001b[0mkind\u001b[0m \u001b[1;33m=\u001b[0m \u001b[0minspect\u001b[0m\u001b[1;33m.\u001b[0m\u001b[0mParameter\u001b[0m\u001b[1;33m.\u001b[0m\u001b[0mPOSITIONAL_OR_KEYWORD\u001b[0m\u001b[1;33m\u001b[0m\u001b[1;33m\u001b[0m\u001b[0m\n",
      "\u001b[1;32mC:\\ProgramData\\Anaconda3\\lib\\site-packages\\pandas\\core\\frame.py\u001b[0m in \u001b[0;36mrename\u001b[1;34m(self, mapper, index, columns, axis, copy, inplace, level, errors)\u001b[0m\n\u001b[0;32m   4439\u001b[0m         \u001b[1;36m4\u001b[0m  \u001b[1;36m3\u001b[0m  \u001b[1;36m6\u001b[0m\u001b[1;33m\u001b[0m\u001b[1;33m\u001b[0m\u001b[0m\n\u001b[0;32m   4440\u001b[0m         \"\"\"\n\u001b[1;32m-> 4441\u001b[1;33m         return super().rename(\n\u001b[0m\u001b[0;32m   4442\u001b[0m             \u001b[0mmapper\u001b[0m\u001b[1;33m=\u001b[0m\u001b[0mmapper\u001b[0m\u001b[1;33m,\u001b[0m\u001b[1;33m\u001b[0m\u001b[1;33m\u001b[0m\u001b[0m\n\u001b[0;32m   4443\u001b[0m             \u001b[0mindex\u001b[0m\u001b[1;33m=\u001b[0m\u001b[0mindex\u001b[0m\u001b[1;33m,\u001b[0m\u001b[1;33m\u001b[0m\u001b[1;33m\u001b[0m\u001b[0m\n",
      "\u001b[1;32mC:\\ProgramData\\Anaconda3\\lib\\site-packages\\pandas\\core\\generic.py\u001b[0m in \u001b[0;36mrename\u001b[1;34m(self, mapper, index, columns, axis, copy, inplace, level, errors)\u001b[0m\n\u001b[0;32m   1055\u001b[0m                     \u001b[1;32mraise\u001b[0m \u001b[0mKeyError\u001b[0m\u001b[1;33m(\u001b[0m\u001b[1;34mf\"{missing_labels} not found in axis\"\u001b[0m\u001b[1;33m)\u001b[0m\u001b[1;33m\u001b[0m\u001b[1;33m\u001b[0m\u001b[0m\n\u001b[0;32m   1056\u001b[0m \u001b[1;33m\u001b[0m\u001b[0m\n\u001b[1;32m-> 1057\u001b[1;33m             \u001b[0mnew_index\u001b[0m \u001b[1;33m=\u001b[0m \u001b[0max\u001b[0m\u001b[1;33m.\u001b[0m\u001b[0m_transform_index\u001b[0m\u001b[1;33m(\u001b[0m\u001b[0mf\u001b[0m\u001b[1;33m,\u001b[0m \u001b[0mlevel\u001b[0m\u001b[1;33m)\u001b[0m\u001b[1;33m\u001b[0m\u001b[1;33m\u001b[0m\u001b[0m\n\u001b[0m\u001b[0;32m   1058\u001b[0m             \u001b[0mresult\u001b[0m\u001b[1;33m.\u001b[0m\u001b[0m_set_axis_nocheck\u001b[0m\u001b[1;33m(\u001b[0m\u001b[0mnew_index\u001b[0m\u001b[1;33m,\u001b[0m \u001b[0maxis\u001b[0m\u001b[1;33m=\u001b[0m\u001b[0maxis_no\u001b[0m\u001b[1;33m,\u001b[0m \u001b[0minplace\u001b[0m\u001b[1;33m=\u001b[0m\u001b[1;32mTrue\u001b[0m\u001b[1;33m)\u001b[0m\u001b[1;33m\u001b[0m\u001b[1;33m\u001b[0m\u001b[0m\n\u001b[0;32m   1059\u001b[0m             \u001b[0mresult\u001b[0m\u001b[1;33m.\u001b[0m\u001b[0m_clear_item_cache\u001b[0m\u001b[1;33m(\u001b[0m\u001b[1;33m)\u001b[0m\u001b[1;33m\u001b[0m\u001b[1;33m\u001b[0m\u001b[0m\n",
      "\u001b[1;32mC:\\ProgramData\\Anaconda3\\lib\\site-packages\\pandas\\core\\indexes\\base.py\u001b[0m in \u001b[0;36m_transform_index\u001b[1;34m(self, func, level)\u001b[0m\n\u001b[0;32m   5136\u001b[0m             \u001b[1;32mreturn\u001b[0m \u001b[0mtype\u001b[0m\u001b[1;33m(\u001b[0m\u001b[0mself\u001b[0m\u001b[1;33m)\u001b[0m\u001b[1;33m.\u001b[0m\u001b[0mfrom_tuples\u001b[0m\u001b[1;33m(\u001b[0m\u001b[0mitems\u001b[0m\u001b[1;33m,\u001b[0m \u001b[0mnames\u001b[0m\u001b[1;33m=\u001b[0m\u001b[0mself\u001b[0m\u001b[1;33m.\u001b[0m\u001b[0mnames\u001b[0m\u001b[1;33m)\u001b[0m\u001b[1;33m\u001b[0m\u001b[1;33m\u001b[0m\u001b[0m\n\u001b[0;32m   5137\u001b[0m         \u001b[1;32melse\u001b[0m\u001b[1;33m:\u001b[0m\u001b[1;33m\u001b[0m\u001b[1;33m\u001b[0m\u001b[0m\n\u001b[1;32m-> 5138\u001b[1;33m             \u001b[0mitems\u001b[0m \u001b[1;33m=\u001b[0m \u001b[1;33m[\u001b[0m\u001b[0mfunc\u001b[0m\u001b[1;33m(\u001b[0m\u001b[0mx\u001b[0m\u001b[1;33m)\u001b[0m \u001b[1;32mfor\u001b[0m \u001b[0mx\u001b[0m \u001b[1;32min\u001b[0m \u001b[0mself\u001b[0m\u001b[1;33m]\u001b[0m\u001b[1;33m\u001b[0m\u001b[1;33m\u001b[0m\u001b[0m\n\u001b[0m\u001b[0;32m   5139\u001b[0m             \u001b[1;32mreturn\u001b[0m \u001b[0mIndex\u001b[0m\u001b[1;33m(\u001b[0m\u001b[0mitems\u001b[0m\u001b[1;33m,\u001b[0m \u001b[0mname\u001b[0m\u001b[1;33m=\u001b[0m\u001b[0mself\u001b[0m\u001b[1;33m.\u001b[0m\u001b[0mname\u001b[0m\u001b[1;33m,\u001b[0m \u001b[0mtupleize_cols\u001b[0m\u001b[1;33m=\u001b[0m\u001b[1;32mFalse\u001b[0m\u001b[1;33m)\u001b[0m\u001b[1;33m\u001b[0m\u001b[1;33m\u001b[0m\u001b[0m\n\u001b[0;32m   5140\u001b[0m \u001b[1;33m\u001b[0m\u001b[0m\n",
      "\u001b[1;32mC:\\ProgramData\\Anaconda3\\lib\\site-packages\\pandas\\core\\indexes\\base.py\u001b[0m in \u001b[0;36m<listcomp>\u001b[1;34m(.0)\u001b[0m\n\u001b[0;32m   5136\u001b[0m             \u001b[1;32mreturn\u001b[0m \u001b[0mtype\u001b[0m\u001b[1;33m(\u001b[0m\u001b[0mself\u001b[0m\u001b[1;33m)\u001b[0m\u001b[1;33m.\u001b[0m\u001b[0mfrom_tuples\u001b[0m\u001b[1;33m(\u001b[0m\u001b[0mitems\u001b[0m\u001b[1;33m,\u001b[0m \u001b[0mnames\u001b[0m\u001b[1;33m=\u001b[0m\u001b[0mself\u001b[0m\u001b[1;33m.\u001b[0m\u001b[0mnames\u001b[0m\u001b[1;33m)\u001b[0m\u001b[1;33m\u001b[0m\u001b[1;33m\u001b[0m\u001b[0m\n\u001b[0;32m   5137\u001b[0m         \u001b[1;32melse\u001b[0m\u001b[1;33m:\u001b[0m\u001b[1;33m\u001b[0m\u001b[1;33m\u001b[0m\u001b[0m\n\u001b[1;32m-> 5138\u001b[1;33m             \u001b[0mitems\u001b[0m \u001b[1;33m=\u001b[0m \u001b[1;33m[\u001b[0m\u001b[0mfunc\u001b[0m\u001b[1;33m(\u001b[0m\u001b[0mx\u001b[0m\u001b[1;33m)\u001b[0m \u001b[1;32mfor\u001b[0m \u001b[0mx\u001b[0m \u001b[1;32min\u001b[0m \u001b[0mself\u001b[0m\u001b[1;33m]\u001b[0m\u001b[1;33m\u001b[0m\u001b[1;33m\u001b[0m\u001b[0m\n\u001b[0m\u001b[0;32m   5139\u001b[0m             \u001b[1;32mreturn\u001b[0m \u001b[0mIndex\u001b[0m\u001b[1;33m(\u001b[0m\u001b[0mitems\u001b[0m\u001b[1;33m,\u001b[0m \u001b[0mname\u001b[0m\u001b[1;33m=\u001b[0m\u001b[0mself\u001b[0m\u001b[1;33m.\u001b[0m\u001b[0mname\u001b[0m\u001b[1;33m,\u001b[0m \u001b[0mtupleize_cols\u001b[0m\u001b[1;33m=\u001b[0m\u001b[1;32mFalse\u001b[0m\u001b[1;33m)\u001b[0m\u001b[1;33m\u001b[0m\u001b[1;33m\u001b[0m\u001b[0m\n\u001b[0;32m   5140\u001b[0m \u001b[1;33m\u001b[0m\u001b[0m\n",
      "\u001b[1;31mTypeError\u001b[0m: 'list' object is not callable"
     ]
    }
   ],
   "source": [
    "X.rename(columns = names, inplace = False)"
   ]
  },
  {
   "cell_type": "code",
   "execution_count": 29,
   "id": "7a2dd24c",
   "metadata": {},
   "outputs": [],
   "source": [
    "\n"
   ]
  }
 ],
 "metadata": {
  "kernelspec": {
   "display_name": "Python 3",
   "language": "python",
   "name": "python3"
  },
  "language_info": {
   "codemirror_mode": {
    "name": "ipython",
    "version": 3
   },
   "file_extension": ".py",
   "mimetype": "text/x-python",
   "name": "python",
   "nbconvert_exporter": "python",
   "pygments_lexer": "ipython3",
   "version": "3.8.8"
  }
 },
 "nbformat": 4,
 "nbformat_minor": 5
}
